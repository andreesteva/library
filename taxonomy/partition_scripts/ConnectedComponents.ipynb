{
 "cells": [
  {
   "cell_type": "markdown",
   "metadata": {},
   "source": [
    "# Connected Components Partition"
   ]
  },
  {
   "cell_type": "code",
   "execution_count": 6,
   "metadata": {
    "collapsed": true
   },
   "outputs": [],
   "source": [
    "import json\n",
    "import os\n",
    "import numpy as np\n",
    "\n",
    "import lib\n",
    "from lib.taxonomy.utils import SynonymsList\n",
    "from lib.notebooks.vis_utils import tic, toc\n",
    "from lib.taxonomy.loading import getEntryValues, gatherSynset, gatherPathsAndLabels, rootNode, rootNodeClasses, setEntries\n",
    "from lib.taxonomy.loading import imageExists\n",
    "from lib.taxonomy.loading import TRAINING_SET, TESTING_SET, NO_SET\n",
    "from lib.taxonomy.edge_extraction import *\n",
    "from lib.taxonomy.io import *\n"
   ]
  },
  {
   "cell_type": "code",
   "execution_count": 7,
   "metadata": {
    "collapsed": true
   },
   "outputs": [],
   "source": [
    "\n",
    "dataset_directory = '/ssd/esteva/skindata4/images/'\n",
    "meta_file = '/ssd/esteva/skindata4/meta.json'\n",
    "\n",
    "train_dir = '/ssd/esteva/skindata4/splits/nine-way/train'\n",
    "test_dir = '/ssd/esteva/skindata4/splits/nine-way/val'\n",
    "labels_file = '/ssd/esteva/skindata4/splits/nine-way/labels.txt'\n",
    "\n",
    "skin_prob = 0.4 \n",
    "tax_path_score = 0.8 \n",
    "\n",
    "curated_test_file = '/ssd/esteva/skindata4/test_sets/validation_set.txt'\n",
    "\n",
    "# Files with entries of the form [path/to/image] [label]\n",
    "# All basenames listed in excluded_datasets will be ommitted from train/val\n",
    "excluded_datasets = [ \n",
    "        '/ssd/esteva/skindata4/test_sets/dermoscopy_test.txt',\n",
    "        '/ssd/esteva/skindata4/test_sets/epidermal_test.txt',\n",
    "        '/ssd/esteva/skindata4/test_sets/melanocytic_test.txt'\n",
    "        ]\n"
   ]
  },
  {
   "cell_type": "code",
   "execution_count": null,
   "metadata": {
    "collapsed": false
   },
   "outputs": [],
   "source": [
    "# We load in images that exist on our filesystem,\n",
    "meta = json.load(open(meta_file))\n",
    "meta = [m for m in meta if imageExists(m, dataset_directory)]\n",
    "\n",
    "# Connected components partition assigns one of TRAINING_SET or TESTING_SET to field 'set_identifier'\n",
    "partition_connected_components(meta)\n"
   ]
  },
  {
   "cell_type": "code",
   "execution_count": null,
   "metadata": {
    "collapsed": true
   },
   "outputs": [],
   "source": []
  }
 ],
 "metadata": {
  "kernelspec": {
   "display_name": "Python 2",
   "language": "python",
   "name": "python2"
  },
  "language_info": {
   "codemirror_mode": {
    "name": "ipython",
    "version": 2
   },
   "file_extension": ".py",
   "mimetype": "text/x-python",
   "name": "python",
   "nbconvert_exporter": "python",
   "pygments_lexer": "ipython2",
   "version": "2.7.6"
  }
 },
 "nbformat": 4,
 "nbformat_minor": 0
}
