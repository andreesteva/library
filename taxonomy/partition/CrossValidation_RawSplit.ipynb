{
 "cells": [
  {
   "cell_type": "markdown",
   "metadata": {},
   "source": [
    "# Sets up N-way cross validation, using a raw split\n",
    " - no connected componenets\n",
    " - assumes every image is unique and has no duplicates\n",
    " - the purpose of this is to determine an error bar for the connected_components validation accuracy, as requested by reviewer 3 from nature\n",
    " - we don't both with recursive_dividing here"
   ]
  },
  {
   "cell_type": "code",
   "execution_count": 2,
   "metadata": {
    "collapsed": true
   },
   "outputs": [],
   "source": [
    "import json\n",
    "import os\n",
    "import numpy as np\n",
    "\n",
    "import lib\n",
    "from lib.taxonomy import loading as ld\n",
    "from lib.taxonomy.loading import TRAINING_SET, TESTING_SET, NO_SET, VALIDATION_SET\n",
    "from lib.taxonomy import utils\n",
    "from lib.taxonomy import io"
   ]
  },
  {
   "cell_type": "code",
   "execution_count": 13,
   "metadata": {
    "collapsed": true
   },
   "outputs": [],
   "source": [
    "dataset_directory = '/ssd/esteva/skindata4/images/'\n",
    "meta_file = '/ssd/esteva/skindata4/meta.json'\n",
    "\n",
    "crossval_dir = '/ssd/esteva/skindata4/splits/recursive_dividing_N=1000_crossvalidation_rawsplit'\n",
    "labels_file = '/ssd/esteva/skindata4/splits/recursive_dividing_N=1000_crossvalidation_rawsplit/labels.txt'\n",
    "\n",
    "skin_prob = 0.4 \n",
    "tax_path_score = 0.8 \n",
    "N=1000\n",
    "\n",
    "curated_test_file = '/ssd/esteva/skindata4/test_sets/validation_set.txt'\n",
    "\n",
    "# Files with entries of the form [path/to/image] [label]\n",
    "# All basenames listed in excluded_datasets will be ommitted from train/val\n",
    "excluded_datasets = [ \n",
    "        '/ssd/esteva/skindata4/test_sets/dermoscopy_test.txt',\n",
    "        '/ssd/esteva/skindata4/test_sets/epidermal_test.txt',\n",
    "        '/ssd/esteva/skindata4/test_sets/melanocytic_test.txt'\n",
    "        ]\n"
   ]
  },
  {
   "cell_type": "code",
   "execution_count": 5,
   "metadata": {
    "collapsed": false
   },
   "outputs": [],
   "source": [
    "# We load in images that exist on our filesystem,\n",
    "meta = json.load(open(meta_file))\n",
    "meta = [m for m in meta if ld.imageExists(m, dataset_directory)]"
   ]
  },
  {
   "cell_type": "code",
   "execution_count": 6,
   "metadata": {
    "collapsed": false
   },
   "outputs": [
    {
     "name": "stdout",
     "output_type": "stream",
     "text": [
      "Kept Meta Entries: 147438\n"
     ]
    }
   ],
   "source": [
    "# Keep only isic entries that are labeled.\n",
    "isic = ld.getEntries(meta, 'database', 'isic')\n",
    "isic = [i for i in isic if 'label' in i and i['label'] in ['benign', 'malignant']]\n",
    "\n",
    "# Keep meta with desired skin probs and tax path scores\n",
    "meta = [m for m in meta if 'tax_path_score' in m and m['tax_path_score'] >= tax_path_score]\n",
    "meta = [m for m in meta if m['tax_path']]\n",
    "meta = [m for m in meta if 'skin_prob' in m and m['skin_prob'] >= skin_prob]\n",
    "meta.extend(isic)\n",
    "\n",
    "# Fix the naming convention issues of the top 9 categories (to dermal-tumor-benign, etc.)\n",
    "syns = utils.SynonymsList()\n",
    "for m in meta:\n",
    "    rootname = '-'.join(m['tax_path'][0])\n",
    "    rootrename = syns.synonymOf(rootname).split('-')\n",
    "    m['tax_path'][0] = rootrename\n",
    "\n",
    "    \n",
    "# Rename 'label' field to 'disease_name'. 'label' will be used for integer labels.\n",
    "for m in meta:\n",
    "    if 'label' in m:\n",
    "        m['disease_name'] = m['label']\n",
    "        m['label'] = None\n",
    "\n",
    "print \"Kept Meta Entries: %d\" % len(meta)"
   ]
  },
  {
   "cell_type": "code",
   "execution_count": 7,
   "metadata": {
    "collapsed": false
   },
   "outputs": [],
   "source": [
    "# Assign nine-way rootnode classes.\n",
    "classes, labels = ld.rootNodeClasses(meta)\n",
    "ld.setEntries(meta, 'label', labels)\n",
    "ld.setEntries(meta, 'clinical_label', labels)\n",
    "synset = classes.values()"
   ]
  },
  {
   "cell_type": "code",
   "execution_count": 8,
   "metadata": {
    "collapsed": false
   },
   "outputs": [
    {
     "name": "stdout",
     "output_type": "stream",
     "text": [
      "synset:\n",
      "cutaneous-lymphoma\n",
      "dermal-tumor-benign\n",
      "dermal-tumor-malignant\n",
      "epidermal-tumor-benign\n",
      "epidermal-tumor-malignant\n",
      "genodermatosis\n",
      "inflammatory\n",
      "pigmented-lesion-benign\n",
      "pigmented-lesion-malignant\n"
     ]
    }
   ],
   "source": [
    "print 'synset:'\n",
    "for s in synset:\n",
    "    print s"
   ]
  },
  {
   "cell_type": "code",
   "execution_count": 9,
   "metadata": {
    "collapsed": false
   },
   "outputs": [],
   "source": [
    "# Exclude all specified datasets\n",
    "filename2meta = ld.Field2meta(meta, field='filename')\n",
    "for exclusion_file in excluded_datasets:\n",
    "    filenames = [os.path.basename(line.strip().split()[0]) for line in open(exclusion_file).readlines()]\n",
    "\n",
    "    for fn in filenames:\n",
    "        ms = filename2meta(fn)\n",
    "        for m in ms:\n",
    "            m['set_identifier'] = NO_SET"
   ]
  },
  {
   "cell_type": "code",
   "execution_count": 10,
   "metadata": {
    "collapsed": false
   },
   "outputs": [
    {
     "name": "stdout",
     "output_type": "stream",
     "text": [
      "# unique images/labels by filename: 141376\n"
     ]
    }
   ],
   "source": [
    "# Gather unique paths and labels\n",
    "ld.setEntries(meta, 'set_identifier', TRAINING_SET)\n",
    "dataset = np.unique(ld.gatherPathsAndLabels(meta, dataset_directory, TRAINING_SET))\n",
    "\n",
    "print '# unique images/labels by filename: %s' % len(dataset)"
   ]
  },
  {
   "cell_type": "code",
   "execution_count": 14,
   "metadata": {
    "collapsed": false
   },
   "outputs": [
    {
     "data": {
      "text/plain": [
       "'/ssd/esteva/skindata4/splits/recursive_dividing_N=1000_crossvalidation_rawsplit'"
      ]
     },
     "execution_count": 14,
     "metadata": {},
     "output_type": "execute_result"
    }
   ],
   "source": [
    "crossval_dir"
   ]
  },
  {
   "cell_type": "code",
   "execution_count": 20,
   "metadata": {
    "collapsed": false
   },
   "outputs": [
    {
     "name": "stdout",
     "output_type": "stream",
     "text": [
      "Generating Fold 0\n",
      "Generating Fold 1\n",
      "Generating Fold 2\n",
      "Generating Fold 3\n",
      "Generating Fold 4\n",
      "Generating Fold 5\n",
      "Generating Fold 6\n",
      "Generating Fold 7\n",
      "Generating Fold 8\n"
     ]
    }
   ],
   "source": [
    "# Cross validation\n",
    "N_folds = 9\n",
    "\n",
    "def write_crossval_folds(dataset, N, dirname, synset):\n",
    "    \"\"\"Divides the dataset into N train/val folds, writing the folds into dirname.\n",
    "    \n",
    "    Args:\n",
    "        dataset (list): path-label pairs in the format \"path/to/image 1\"\n",
    "        N (int): the number of folds to use. \n",
    "            The last fold will be of size len(dataset) - (N-1) * len(dataset)//N \n",
    "            It is necessarily be smaller than the rest of the folds\n",
    "        dirname (str): the directory     \n",
    "    \"\"\"\n",
    "    random.shuffle(dataset)\n",
    "    fold_size = len(dataset) // N\n",
    "    indices = [i * fold_size for i in range(N)]\n",
    "    indices.append(len(dataset))\n",
    "    \n",
    "    for i, (start, end) in enumerate(zip(indices[:-1], indices[1:])):\n",
    "        print 'Generating Fold %d' % i\n",
    "        val = dataset[start:end]\n",
    "        train = dataset[:start] + dataset[end:]\n",
    "        \n",
    "        train_dir = os.path.join(dirname, 'fold_' + str(i+1), 'train')\n",
    "        val_dir = os.path.join(dirname, 'fold_' + str(i+1), 'val')\n",
    "        \n",
    "        io.make_directory_structure(train_dir, synset)\n",
    "        io.make_directory_structure(val_dir, synset)\n",
    "        \n",
    "        syms_train = io.generate_symlinks(train, train_dir, synset)\n",
    "        syms_val = io.generate_symlinks(val, val_dir, synset)\n",
    "        \n",
    "        io.create_symlinks(syms_train)\n",
    "        io.create_symlinks(syms_val)\n",
    "        \n",
    "        \n",
    "write_crossval_folds(dataset.tolist(), N_folds, crossval_dir, synset)\n"
   ]
  },
  {
   "cell_type": "code",
   "execution_count": 21,
   "metadata": {
    "collapsed": false
   },
   "outputs": [
    {
     "name": "stdout",
     "output_type": "stream",
     "text": [
      "Labels file created: /ssd/esteva/skindata4/splits/recursive_dividing_N=1000_crossvalidation_rawsplit/labels.txt\n"
     ]
    }
   ],
   "source": [
    "with open(labels_file, 'w') as f:\n",
    "    prefix = \"\"\n",
    "    for s in synset:\n",
    "        f.write(prefix)\n",
    "        f.write(s)\n",
    "        prefix = \"\\n\"\n",
    "print 'Labels file created: %s' % labels_file"
   ]
  },
  {
   "cell_type": "code",
   "execution_count": null,
   "metadata": {
    "collapsed": true
   },
   "outputs": [],
   "source": []
  }
 ],
 "metadata": {
  "kernelspec": {
   "display_name": "Python 2",
   "language": "python",
   "name": "python2"
  },
  "language_info": {
   "codemirror_mode": {
    "name": "ipython",
    "version": 2
   },
   "file_extension": ".py",
   "mimetype": "text/x-python",
   "name": "python",
   "nbconvert_exporter": "python",
   "pygments_lexer": "ipython2",
   "version": "2.7.6"
  }
 },
 "nbformat": 4,
 "nbformat_minor": 0
}
