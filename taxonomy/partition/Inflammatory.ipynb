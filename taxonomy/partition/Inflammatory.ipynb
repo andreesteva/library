{
 "cells": [
  {
   "cell_type": "markdown",
   "metadata": {},
   "source": [
    "# Make Inflammatory Training and Validation: Initial Setup\n",
    "\n",
    " - Copy the inflammatory part of the connected_components partition into its own folder: train-orig. Expected format:\n",
    "\n",
    "```\n",
    "inflammatory_venous-insuficiency-vascular-disorders-and-lymphedema_phlebitis-superficial_705\n",
    "inflammatory_venous-insuficiency-vascular-disorders-and-lymphedema_raynauds-disease_706\n",
    "inflammatory_venous-insuficiency-vascular-disorders-and-lymphedema_stasis-edema_707\n",
    "inflammatory_venous-insuficiency-vascular-disorders-and-lymphedema_varicosis_708\n",
    "inflammatory_xanthomas_709\n",
    "```\n",
    " \n",
    " - Run some version of the following: \n",
    " \n",
    " ```\n",
    " python /ssd/esteva/lib/taxonomy/partition_scripts/split_to_leafs.py \\\n",
    "  --dataset_directory=/ssd/esteva/skindata4/splits/nine-way/val/inflammatory \\\n",
    "  --new_dir_location=/ssd/esteva/skindata4/splits/inflammatory \\\n",
    "  --meta_file=/ssd/esteva/skindata4/meta.json \\\n",
    "```\n",
    "\n",
    "This script creates /ssd/esteva/skindata4/splits/inflammatory/inflammatory-taxsplit, which is essentially the validation set split down to the leaf nodes, in class-1_subclass-1_subclass-2 format, where underscores delimit the taxonomy. \n"
   ]
  },
  {
   "cell_type": "code",
   "execution_count": 3,
   "metadata": {
    "collapsed": false
   },
   "outputs": [],
   "source": [
    "import os\n",
    "import shutil\n",
    "import numpy as np\n",
    "\n",
    "# Classes to keep in {classname : [disease1-keyword, disease2-keyword, ...]} format\n",
    "\n",
    "# Inflammatory split:\n",
    "classes = {\n",
    "    \n",
    "    # Inflammatory\n",
    "    'acne' : ['acne'],\n",
    "    'bullous' : ['bullous'],\n",
    "    'rosacea' : ['rosacea'],\n",
    "    'erythema' : ['erythema'],\n",
    "    'lichen-planus' : ['lichen-planus'],\n",
    "    'psoriasis' : ['psoriasis', 'pilaris', 'papulosquamous'],\n",
    "    'eczema' : ['eczema'],\n",
    "    'pustular' : ['pustular'],\n",
    "    \n",
    "    # STDs\n",
    "    'warts-hpv' : ['warts'],\n",
    "    'herpes' : ['herpes-simplex'],\n",
    "    'molluscum' : ['molluscum-contagiosum'],\n",
    "    'scabies' : ['scabies'],\n",
    "    'syphilis' : ['syphilis'],\n",
    "    \n",
    "    # Fungal Infections\n",
    "    'fungal-infections' : ['fungal-infections'],\n",
    "    \n",
    "}\n",
    "\n",
    "# Diseases we'd like to include but don't have enough validation data for\n",
    "#     'crabs' : ['pediculosis-lids'],\n",
    "#     'gonorrhea' : ['gonorrhea'],\n",
    "#     'chancroid' : ['chancroid'],\n",
    "#     'purpura' : ['vasculopathy', 'vasculitis', 'purpura'],"
   ]
  },
  {
   "cell_type": "markdown",
   "metadata": {},
   "source": [
    "# Make Validation\n",
    "\n",
    " - scan 'original_taxsplit_valdir' subdirectories for keywords (classes.values()) in the 'classes' dictionary defined above.\n",
    " - When a keyword is found, we put the contents of that subdirectory into its corresponding class (classes.keys())\n",
    " - We print along the way the number of unique images (unique path basenames) for each class."
   ]
  },
  {
   "cell_type": "code",
   "execution_count": 4,
   "metadata": {
    "collapsed": false
   },
   "outputs": [
    {
     "name": "stdout",
     "output_type": "stream",
     "text": [
      "WARNING: more than one valclass, resolving by first listing: ['erythema', 'eczema']\n",
      "eczema-spongiotic-dermatitis_erythema-craquele\n",
      "eczema\n",
      "WARNING: more than one valclass, resolving by first listing: ['herpes', 'eczema']\n",
      "infections_viral-diseaseshpv-herpes-molluscum-exanthems-and-others_herpes-simplex_eczema-herpeticum_eczema-herpeticatum\n",
      "herpes\n",
      "WARNING: more than one valclass, resolving by first listing: ['pustular', 'acne']\n",
      "acne-folliculitis-hidradenitis-and-diseases-of-appendegeal-structures_folliculitis_eosinophilic-pustular-folliculitis_eosinophilic-pustular-folliculitis\n",
      "acne\n",
      "WARNING: more than one valclass, resolving by first listing: ['pustular', 'erythema']\n",
      "pustular-skin-disease-non-infectious_erythema-toxicum-neonatorum_erythema-toxicum-neonatorum\n",
      "pustular\n",
      "WARNING: more than one valclass, resolving by first listing: ['herpes', 'eczema']\n",
      "infections_viral-diseaseshpv-herpes-molluscum-exanthems-and-others_herpes-simplex_eczema-herpeticum_eczema-herpeticum\n",
      "herpes\n",
      "WARNING: more than one valclass, resolving by first listing: ['psoriasis', 'pustular']\n",
      "pustular-skin-disease-non-infectious_pustular-psoriasis\n",
      "pustular\n",
      "WARNING: more than one valclass, resolving by first listing: ['psoriasis', 'lichen-planus']\n",
      "lichen-planus-and-lichenoid-eruptions_lichen-planus_lichen-planopilaris_lichen-planopilaris\n",
      "lichen-planus\n",
      "WARNING: more than one valclass, resolving by first listing: ['rosacea', 'acne']\n",
      "acne-folliculitis-hidradenitis-and-diseases-of-appendegeal-structures_acne-rosacea\n",
      "acne\n"
     ]
    }
   ],
   "source": [
    "original_taxsplit_valdir = '/ssd/esteva/skindata4/splits/inflammatory3/inflammatory-val-taxsplit'\n",
    "new_val_dir = '/ssd/esteva/skindata4/splits/inflammatory3/val'\n",
    "\n",
    "\n",
    "def resolve_valclasses(entry, tags):\n",
    "    \"\"\"For entries with multiple potential classes (tags), we choose the one higher up in the taxonomy.\"\"\"\n",
    "    best_locations = []\n",
    "    for t in tags:\n",
    "        locations = []\n",
    "        for k in classes[t]:\n",
    "            l = entry.find(k)\n",
    "            if l >= 0:\n",
    "                locations.append(l)\n",
    "        min_loc = np.min(locations)\n",
    "        best_locations.append(min_loc)    \n",
    "    return np.array(tags)[np.argmin(best_locations)]\n",
    "\n",
    "\n",
    "def copy(src, dst):\n",
    "    \"\"\"Copies symlinks and files.\"\"\"    \n",
    "    if os.path.islink(src):\n",
    "        linkto = os.readlink(src)\n",
    "        os.symlink(linkto, dst)\n",
    "    else:\n",
    "        shutil.copy(src,dst)\n",
    "\n",
    "        \n",
    "def copy_dir_contents(src_dir, dst_dir):\n",
    "    \"\"\"Copies files from src_dir into dst_dir, preserving symlinks.\"\"\"\n",
    "    if not os.path.exists(dst_dir):\n",
    "        os.makedirs(dst_dir)\n",
    "    for entry in os.listdir(src_dir):\n",
    "        src = os.path.join(src_dir, entry)\n",
    "        dst = os.path.join(dst_dir, entry)\n",
    "        copy(src, dst)\n",
    "\n",
    "        \n",
    "dirs = os.listdir(original_taxsplit_valdir)\n",
    "valclass_leafclass = []\n",
    "for entry in dirs:\n",
    "    valclasses = []\n",
    "    for classname, keywords in classes.iteritems():\n",
    "        for k in keywords:\n",
    "            if k in entry:\n",
    "                valclasses.append(classname)\n",
    "    valclasses = list(set(valclasses))\n",
    "    if valclasses:\n",
    "        if len(valclasses) > 1:\n",
    "            print 'WARNING: more than one valclass, resolving by first listing:',\n",
    "            print valclasses\n",
    "            print entry\n",
    "            valclass = resolve_valclasses(entry, valclasses)\n",
    "            print valclass\n",
    "        else:\n",
    "            valclass = valclasses[0]\n",
    "        valclass_leafclass.append((valclass, entry))\n",
    "    "
   ]
  },
  {
   "cell_type": "code",
   "execution_count": 13,
   "metadata": {
    "collapsed": false
   },
   "outputs": [
    {
     "name": "stdout",
     "output_type": "stream",
     "text": [
      "Class counts:\n",
      "psoriasis 800\n",
      "rosacea 695\n",
      "warts-hpv 118\n",
      "lichen-planus 238\n",
      "fungal-infections 1206\n",
      "acne 1431\n",
      "syphilis 99\n",
      "scabies 70\n",
      "bullous 208\n",
      "pustular 64\n",
      "molluscum 69\n",
      "erythema 250\n",
      "eczema 1007\n",
      "herpes 76\n"
     ]
    }
   ],
   "source": [
    "# Print statistics on class counts\n",
    "\n",
    "counts = {k : 0 for k in classes.keys()}\n",
    "for (valclass, leafclass) in valclass_leafclass:\n",
    "    d = os.path.join(original_taxsplit_valdir, leafclass)\n",
    "    counts[valclass] += len(os.listdir(d))\n",
    "\n",
    "print 'Class counts:'\n",
    "for k,v in counts.iteritems():\n",
    "    print k,v"
   ]
  },
  {
   "cell_type": "code",
   "execution_count": 21,
   "metadata": {
    "collapsed": false
   },
   "outputs": [
    {
     "data": {
      "text/plain": [
       "6.1826171875"
      ]
     },
     "execution_count": 21,
     "metadata": {},
     "output_type": "execute_result"
    }
   ],
   "source": [
    "1.0* sum([v for v in counts.values()]) / 1024"
   ]
  },
  {
   "cell_type": "code",
   "execution_count": 14,
   "metadata": {
    "collapsed": false
   },
   "outputs": [
    {
     "name": "stdout",
     "output_type": "stream",
     "text": [
      "/ssd/esteva/skindata4/splits/inflammatory3/val created\n"
     ]
    }
   ],
   "source": [
    "# Build directory structure, copying sym links over\n",
    "for (valclass, leafclass) in valclass_leafclass:\n",
    "    src = os.path.join(original_taxsplit_valdir, leafclass)\n",
    "    dst = os.path.join(new_val_dir, valclass)\n",
    "    copy_dir_contents(src, dst)\n",
    "    \n",
    "print '%s created' % new_val_dir"
   ]
  },
  {
   "cell_type": "markdown",
   "metadata": {},
   "source": [
    "# Make Training"
   ]
  },
  {
   "cell_type": "code",
   "execution_count": 15,
   "metadata": {
    "collapsed": false
   },
   "outputs": [
    {
     "name": "stdout",
     "output_type": "stream",
     "text": [
      "WARNING: more than one tag, check that its fixed: ['rosacea', 'acne']\n",
      "\tacne_acne-folliculitis-hidradenitis-and-diseases-of-appendegeal-structures_acne-rosacea_228\n",
      "WARNING: more than one tag, check that its fixed: ['pustular', 'acne']\n",
      "\tacne_acne-folliculitis-hidradenitis-and-diseases-of-appendegeal-structures_acne-pustular_227\n",
      "WARNING: more than one tag, check that its fixed: ['herpes', 'eczema']\n",
      "\therpes_infections_viral-diseaseshpv-herpes-molluscum-exanthems-and-others_herpes-simplex_eczema-herpeticum_528\n",
      "WARNING: more than one tag, check that its fixed: ['erythema', 'eczema']\n",
      "\teczema_eczema-spongiotic-dermatitis_erythema-craquele_431\n",
      "WARNING: more than one tag, check that its fixed: ['psoriasis', 'lichen-planus']\n",
      "\tlichen-planus_lichen-planus-and-lichenoid-eruptions_lichen-planus_lichen-planopilaris_582\n",
      "WARNING: more than one tag, check that its fixed: ['pustular', 'acne']\n",
      "\tacne_acne-folliculitis-hidradenitis-and-diseases-of-appendegeal-structures_folliculitis_eosinophilic-pustular-folliculitis_232\n"
     ]
    }
   ],
   "source": [
    "original_train_dir = '/ssd/esteva/skindata4/splits/inflammatory3/train-orig'\n",
    "new_train_dir = '/ssd/esteva/skindata4/splits/inflammatory3/train'\n",
    "\n",
    "\n",
    "def manual_fixes(tagged_entry):\n",
    "    \"\"\"We fix a few things, per Rob's suggestion, given that the taxonomy isn't a true tree.\"\"\"\n",
    "    \n",
    "    fixes = [\n",
    "        ('erythema_purpura_purpura-vasculitis-and-vasculopathy_erythema-elevatum-diutinum_662',\n",
    "         'purpura_purpura-vasculitis-and-vasculopathy_erythema-elevatum-diutinum_662'\n",
    "        ),\n",
    "        ('acne_pustular_acne-folliculitis-hidradenitis-and-diseases-of-appendegeal-structures_acne-pustular_227',\n",
    "         'acne_acne-folliculitis-hidradenitis-and-diseases-of-appendegeal-structures_acne-pustular_227'\n",
    "        ),\n",
    "        ('acne_pustular_acne-folliculitis-hidradenitis-and-diseases-of-appendegeal-structures_folliculitis_eosinophilic-pustular-folliculitis_232',\n",
    "         'acne_acne-folliculitis-hidradenitis-and-diseases-of-appendegeal-structures_folliculitis_eosinophilic-pustular-folliculitis_232'\n",
    "        ),\n",
    "        ('acne_rosacea_acne-folliculitis-hidradenitis-and-diseases-of-appendegeal-structures_acne-rosacea_228',\n",
    "         'acne_acne-folliculitis-hidradenitis-and-diseases-of-appendegeal-structures_acne-rosacea_228'\n",
    "        ),\n",
    "        ('lichen-planus_psoriasis_lichen-planus-and-lichenoid-eruptions_lichen-planus_lichen-planopilaris_582',\n",
    "         'lichen-planus_lichen-planus-and-lichenoid-eruptions_lichen-planus_lichen-planopilaris_582'\n",
    "        ),\n",
    "    ]\n",
    "    for fix in fixes:\n",
    "        if fix[0] in tagged_entry:\n",
    "            return fix[1]\n",
    "    return tagged_entry\n",
    "\n",
    "\n",
    "def remove_tag(entry, tag):\n",
    "    \"\"\"Removes tax-path tags from the entry.\n",
    "    \n",
    "    Args:\n",
    "        entry (string): the tax-path entry\n",
    "        tag (string): something like 'inflammatory'\n",
    "        \n",
    "    Returns:\n",
    "        The entry with the tag 'tag_' removed\n",
    "    \"\"\"\n",
    "    tag = tag + '_'\n",
    "    if tag not in entry:\n",
    "        raise ValueError('tag %s not in entry %s' % (tag, entry))\n",
    "    return \"\".join(entry.split(tag))\n",
    "\n",
    "\n",
    "def add_tag(entry, tag):\n",
    "    \"\"\"Adds tag_ to the start of entry. Same format as remove_tag\"\"\"\n",
    "    if isinstance(tag, list):\n",
    "        for t in tag:\n",
    "            entry = add_tag(entry, t)\n",
    "        return entry\n",
    "    else:\n",
    "        return tag + '_' + entry\n",
    "    \n",
    "    \n",
    "def copy(src, dst):\n",
    "    \"\"\"Copies symlinks and files.\"\"\"    \n",
    "    if os.path.islink(src):\n",
    "        linkto = os.readlink(src)\n",
    "        os.symlink(linkto, dst)\n",
    "    else:\n",
    "        shutil.copy(src,dst)\n",
    "\n",
    "        \n",
    "def copy_dir_contents(src_dir, dst_dir):\n",
    "    \"\"\"Copies files from src_dir into dst_dir, preserving symlinks.\"\"\"\n",
    "    os.makedirs(dst_dir)\n",
    "    for entry in os.listdir(src_dir):\n",
    "        src = os.path.join(src_dir, entry)\n",
    "        dst = os.path.join(dst_dir, entry)\n",
    "        copy(src, dst)\n",
    "\n",
    "\n",
    "dirs = os.listdir(original_train_dir)\n",
    "\n",
    "# Add class tag, removing 'inflammatory' tag, for each entry in the original train directotry:\n",
    "olddir_newdir = []\n",
    "for entry in dirs:\n",
    "    tags = []\n",
    "    for classname, keywords in classes.iteritems():\n",
    "        for k in keywords:\n",
    "            if k in entry:\n",
    "                tags.append(classname)\n",
    "    tags = list(set(tags))\n",
    "    if tags:\n",
    "        new_dir = remove_tag(entry, 'inflammatory')\n",
    "        if len(tags) > 1:\n",
    "            tag = resolve_valclasses(new_dir, tags)\n",
    "            new_dir = add_tag(new_dir, tag)\n",
    "            print 'WARNING: more than one tag, check that its fixed:',\n",
    "            print tags\n",
    "            print '\\t', new_dir\n",
    "        else:\n",
    "            tag = tags[0]\n",
    "            new_dir = add_tag(new_dir, tag)\n",
    "        new_dir = manual_fixes(new_dir)\n",
    "        olddir_newdir.append((entry, new_dir))\n",
    "\n",
    "\n",
    "# Build directory structure, copying sym links over\n",
    "for (old_dir, new_dir) in olddir_newdir:\n",
    "    src = os.path.join(original_train_dir, old_dir)\n",
    "    dst = os.path.join(new_train_dir, new_dir)\n",
    "    copy_dir_contents(src, dst)\n"
   ]
  },
  {
   "cell_type": "code",
   "execution_count": 26,
   "metadata": {
    "collapsed": false
   },
   "outputs": [
    {
     "data": {
      "text/plain": [
       "'psoriasis_psoriasis-pityriasis-rubra-pilaris-and-papulosquamous-disorders_seborrheic-dermatitis_657'"
      ]
     },
     "execution_count": 26,
     "metadata": {},
     "output_type": "execute_result"
    }
   ],
   "source": [
    "new_dirs[0]"
   ]
  },
  {
   "cell_type": "code",
   "execution_count": 28,
   "metadata": {
    "collapsed": false
   },
   "outputs": [
    {
     "name": "stdout",
     "output_type": "stream",
     "text": [
      "Class counts:\n",
      "psoriasis 6897\n",
      "rosacea 1627\n",
      "warts-hpv 1721\n",
      "lichen-planus 2307\n",
      "fungal-infections 5982\n",
      "acne 8487\n",
      "syphilis 756\n",
      "scabies 925\n",
      "bullous 2619\n",
      "pustular 573\n",
      "molluscum 600\n",
      "erythema 2607\n",
      "eczema 8516\n",
      "herpes 1373\n",
      "Total: 44990\n"
     ]
    }
   ],
   "source": [
    "# Print statistics on class counts\n",
    "\n",
    "new_dirs = [new_dir for _, new_dir in olddir_newdir]\n",
    "counts = {k : 0 for k in classes.keys()}\n",
    "for (old_dir, new_dir) in olddir_newdir:\n",
    "    d = os.path.join(new_train_dir, new_dir)\n",
    "    valclass = new_dir.split('_')[0]\n",
    "    counts[valclass] += len(os.listdir(d))\n",
    "\n",
    "print 'Class counts:'\n",
    "total = 0\n",
    "for k,v in counts.iteritems():\n",
    "    print k,v\n",
    "    total += v\n",
    "print 'Total: %d' % total"
   ]
  }
 ],
 "metadata": {
  "kernelspec": {
   "display_name": "Python 2",
   "language": "python",
   "name": "python2"
  },
  "language_info": {
   "codemirror_mode": {
    "name": "ipython",
    "version": 2
   },
   "file_extension": ".py",
   "mimetype": "text/x-python",
   "name": "python",
   "nbconvert_exporter": "python",
   "pygments_lexer": "ipython2",
   "version": "2.7.6"
  }
 },
 "nbformat": 4,
 "nbformat_minor": 0
}
