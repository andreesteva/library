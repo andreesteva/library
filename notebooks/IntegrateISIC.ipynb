{
 "cells": [
  {
   "cell_type": "markdown",
   "metadata": {},
   "source": [
    "# Integrate ISIC Metadata  into general meta\n",
    " - ~10,000 images that Brett collected\n",
    " - keep p1a images (crops)"
   ]
  },
  {
   "cell_type": "code",
   "execution_count": 1,
   "metadata": {
    "collapsed": false
   },
   "outputs": [],
   "source": [
    "import json\n",
    "import os\n",
    "import lib\n",
    "from lib.notebooks.parse_isic_helper import *\n",
    "from lib.taxonomy.loading import getEntries, setEntries, getEntryValues\n",
    "\n",
    "# for auto-reloading external modules\n",
    "%load_ext autoreload\n",
    "%autoreload 2"
   ]
  },
  {
   "cell_type": "code",
   "execution_count": 2,
   "metadata": {
    "collapsed": true
   },
   "outputs": [],
   "source": [
    "meta = json.load(open('/archive/isic_meta.json', 'r'))\n",
    "big_meta = json.load(open('/archive/esteva/skindata4/meta_skindata3+derm101.json', 'r'))"
   ]
  },
  {
   "cell_type": "code",
   "execution_count": 3,
   "metadata": {
    "collapsed": false
   },
   "outputs": [
    {
     "name": "stdout",
     "output_type": "stream",
     "text": [
      "Eliminating isic meta from big_meta\n"
     ]
    }
   ],
   "source": [
    "b = []\n",
    "for m in big_meta:\n",
    "    keep = True\n",
    "    if 'database' in m and m['database'] == 'isic':\n",
    "        keep = False\n",
    "    if keep:\n",
    "        b.append(m)\n",
    "big_meta = b\n",
    "print 'Eliminating isic meta from big_meta'"
   ]
  },
  {
   "cell_type": "code",
   "execution_count": 4,
   "metadata": {
    "collapsed": false
   },
   "outputs": [
    {
     "name": "stdout",
     "output_type": "stream",
     "text": [
      "The number of unique isic ids contained: 12086\n"
     ]
    }
   ],
   "source": [
    "def get_isic_id(m):\n",
    "    return int(os.path.basename(m['path']).split('_')[1])\n",
    "\n",
    "ids = [get_isic_id(m) for m in meta]\n",
    "print 'The number of unique isic ids contained: %d' % len(set(ids))"
   ]
  },
  {
   "cell_type": "code",
   "execution_count": 5,
   "metadata": {
    "collapsed": false
   },
   "outputs": [
    {
     "name": "stdout",
     "output_type": "stream",
     "text": [
      "Brett and I agree on diagnosis. He has more, because he scraped from the web and some diagnoses are online but not in the meta.\n"
     ]
    }
   ],
   "source": [
    "# Check that brett and I agree\n",
    "diagnoses = [get_diagnosis(m) for m in meta]\n",
    "for d, m in zip(diagnoses, meta):\n",
    "    if 'label' in m and d:\n",
    "        assert d == m['label']\n",
    "print 'Brett and I agree on diagnosis. He has more, because he scraped from the web and some diagnoses are online but not in the meta.'\n"
   ]
  },
  {
   "cell_type": "markdown",
   "metadata": {},
   "source": [
    "### Adjust isic metadata to integrate into original meta\n",
    " - remove non-pigmented lesions\n",
    " - add tax_path and database keys\n",
    " - add filename key, joining the full ISIC/ path the image comes from, and using the p1a crop\n",
    " "
   ]
  },
  {
   "cell_type": "code",
   "execution_count": 15,
   "metadata": {
    "collapsed": false
   },
   "outputs": [],
   "source": [
    "def isNotPigmentedLesions(m):\n",
    "    \"\"\"Returns false if m has a pathology diagnosis corresponding to a non-pigmented lesion.\"\"\"\n",
    "    keepIt = True\n",
    "    \n",
    "    pd = finditem(m, 'pathology diagnosis')\n",
    "    if pd:\n",
    "        pd = pd[0]\n",
    "        remove = ['arthropod','acanthoma', 'carcinoma', 'keratosis', 'angiofibroma', 'angiokeratoma',\n",
    "                  'collision', 'dermatofibroma', 'hemangioma', 'hematoma', 'hemorrhage', 'tattoo', 'dermatitis'\n",
    "                 ]\n",
    "        for r in remove:\n",
    "            if r in pd:\n",
    "                keepIt = False\n",
    "    return keepIt\n",
    "\n",
    "\n",
    "def removeChars(string, chars_list):\n",
    "    for elem in chars_list:\n",
    "        string = string.replace(elem, '')\n",
    "    return string\n",
    "\n",
    "def getp1aFilename(m):\n",
    "    \"\"\"Returns the p1a filename of meta\"\"\"\n",
    "    filenames = m['files']\n",
    "    p1a = [f for f in filenames if '-p1a.' in f and 'tile' not in f and '.json' not in f]\n",
    "    if len(p1a) == 1:\n",
    "        return p1a[0]\n",
    "    elif len(p1a) == 0:\n",
    "        return None\n",
    "    else:\n",
    "        raise ValueError('found multiple matching filenames for p1a %s' % (' '.join(p1a)))   \n",
    "        \n",
    "def getBestFilename(m):\n",
    "    \"\"\"Returns the best image to keep for the meta. Usually its a p1a, if not, just grab the normal jpg\"\"\"\n",
    "    p1a = getp1aFilename(m)\n",
    "    if p1a is not None:\n",
    "        return p1a\n",
    "    best = [f for f in m['files'] if '.jpg' in f and 'tile' not in f and '.json' not in f]\n",
    "    if len(best) == 1:\n",
    "        return best[0]\n",
    "    elif len(best) == 0:\n",
    "        return None\n",
    "    else:\n",
    "        raise ValueError('found multiple matching filenames for jpg %s' % (' '.join(best)))               \n",
    "    "
   ]
  },
  {
   "cell_type": "code",
   "execution_count": 10,
   "metadata": {
    "collapsed": false
   },
   "outputs": [
    {
     "name": "stdout",
     "output_type": "stream",
     "text": [
      "Keeping 11927 meta entries\n",
      "Unable to extract 0 p1a images\n",
      "Example filename used: ISIC_LesionImages_ISIC_MSK-1_1_ISIC_0012085-kopf2656-p1a.png\n",
      "Example original filename used: kopf2656-p1a.png\n"
     ]
    }
   ],
   "source": [
    "# Remove lesions that seem to be non-pigmented lesions1\n",
    "meta_kept = [m for m in meta if isNotPigmentedLesions(m)]\n",
    "\n",
    "# Add tax_path and database\n",
    "for m in meta_kept:\n",
    "    m['database'] = 'isic'    \n",
    "    if 'label' in m:\n",
    "        c = m['label']\n",
    "        m['tax_path'] = [[u'pigmented', 'lesions', '%s' % c], ['dermoscopy']]\n",
    "\n",
    "            \n",
    "# Add filename\n",
    "for m in meta_kept:\n",
    "    filename = m['path']\n",
    "    filename = filename.replace('/','_')\n",
    "    filename = removeChars(filename, '() ')\n",
    "#     p1a = getp1aFilename(m)\n",
    "    best = getBestFilename(m)\n",
    "    fucks = 0    \n",
    "    if best is not None:\n",
    "        filename += '-'    \n",
    "        filename += best\n",
    "    else: \n",
    "        fucks += 1  \n",
    "    m['original_filename'] = best\n",
    "    m['filename'] = filename\n",
    "    \n",
    "            \n",
    "print 'Keeping %d meta entries' % len(meta_kept)\n",
    "print 'Unable to extract %d p1a images' % fucks\n",
    "print 'Example filename used: %s' % filename\n",
    "print 'Example original filename used: %s' % best"
   ]
  },
  {
   "cell_type": "markdown",
   "metadata": {},
   "source": [
    "### Save to meta"
   ]
  },
  {
   "cell_type": "code",
   "execution_count": 11,
   "metadata": {
    "collapsed": false
   },
   "outputs": [],
   "source": [
    "all_meta = big_meta\n",
    "all_meta.extend(meta_kept)if best is None:\n",
    "        print 'FUCKKGFADFGADFG'"
   ]
  },
  {
   "cell_type": "code",
   "execution_count": 12,
   "metadata": {
    "collapsed": true
   },
   "outputs": [],
   "source": [
    "json.dump(all_meta, open('/archive/esteva/skindata4/meta.json', 'w'))"
   ]
  },
  {
   "cell_type": "code",
   "execution_count": 13,
   "metadata": {
    "collapsed": false
   },
   "outputs": [
    {
     "data": {
      "text/plain": [
       "11927"
      ]
     },
     "execution_count": 13,
     "metadata": {},
     "output_type": "execute_result"
    }
   ],
   "source": [
    "len(getEntries(all_meta, 'database', 'isic'))"
   ]
  },
  {
   "cell_type": "markdown",
   "metadata": {
    "collapsed": true
   },
   "source": [
    "# Copy images from /archive/ISIC into skindata4/images\n",
    " - this is the release that Brett used when he created the metadata, above"
   ]
  },
  {
   "cell_type": "code",
   "execution_count": 12,
   "metadata": {
    "collapsed": true
   },
   "outputs": [],
   "source": [
    "import json\n",
    "import lib\n",
    "import os\n",
    "import shutil\n",
    "from lib.taxonomy import loading"
   ]
  },
  {
   "cell_type": "code",
   "execution_count": 2,
   "metadata": {
    "collapsed": true
   },
   "outputs": [],
   "source": [
    "rootdir = '/archive'\n",
    "meta = json.load(open('/archive/esteva/skindata4/meta.json', 'r'))"
   ]
  },
  {
   "cell_type": "code",
   "execution_count": 3,
   "metadata": {
    "collapsed": false
   },
   "outputs": [],
   "source": [
    "# Copy the 'best image' from isic[i]['path'] into /archive/esteva/skindata4/isic\n",
    "# 'best image' is typically the p1a, which was found by the code above.\n",
    "isic = loading.getEntries(meta, 'database', 'isic')"
   ]
  },
  {
   "cell_type": "code",
   "execution_count": 17,
   "metadata": {
    "collapsed": false
   },
   "outputs": [
    {
     "name": "stdout",
     "output_type": "stream",
     "text": [
      "11926\n"
     ]
    }
   ],
   "source": [
    "copydir = '/archive/esteva/skindata4/isic_images'\n",
    "copy_pairs = []\n",
    "for i, m in enumerate(isic):\n",
    "    if i % 100: \n",
    "        print '\\r', i,        \n",
    "    path = m['path']\n",
    "    isicid = os.path.split(path)[-1]        \n",
    "    src = os.path.join(rootdir, path, m['original_filename'])\n",
    "    new_fn = m['filename']        \n",
    "    new_fn = removeChars(new_fn, '(), ')\n",
    "    dst = os.path.join(copydir, new_fn)\n",
    "    assert os.path.exists(src), \"%s not found\" % src\n",
    "    copy_pairs.append((src, dst))"
   ]
  },
  {
   "cell_type": "code",
   "execution_count": 18,
   "metadata": {
    "collapsed": false
   },
   "outputs": [
    {
     "name": "stdout",
     "output_type": "stream",
     "text": [
      "11900\n"
     ]
    }
   ],
   "source": [
    "for i, pair in enumerate(copy_pairs):\n",
    "    if i % 100 == 0: \n",
    "        print '\\r', i,     \n",
    "    src = pair[0]\n",
    "    dst = pair[1]\n",
    "    shutil.copy(src, dst)"
   ]
  },
  {
   "cell_type": "code",
   "execution_count": null,
   "metadata": {
    "collapsed": true
   },
   "outputs": [],
   "source": []
  }
 ],
 "metadata": {
  "kernelspec": {
   "display_name": "Python 2",
   "language": "python",
   "name": "python2"
  },
  "language_info": {
   "codemirror_mode": {
    "name": "ipython",
    "version": 2
   },
   "file_extension": ".py",
   "mimetype": "text/x-python",
   "name": "python",
   "nbconvert_exporter": "python",
   "pygments_lexer": "ipython2",
   "version": "2.7.6"
  }
 },
 "nbformat": 4,
 "nbformat_minor": 0
}
