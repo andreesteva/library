{
 "cells": [
  {
   "cell_type": "markdown",
   "metadata": {},
   "source": [
    "# Integrate ISIC Metadata  into general meta\n",
    " - ~10,000 images that Brett collected\n",
    " - keep p1a images (crops)"
   ]
  },
  {
   "cell_type": "code",
   "execution_count": 1,
   "metadata": {
    "collapsed": false
   },
   "outputs": [],
   "source": [
    "import json\n",
    "import os\n",
    "import lib\n",
    "from lib.notebooks.parse_isic_helper import *\n",
    "from lib.taxonomy.loading import getEntries, setEntries, getEntryValues\n",
    "\n",
    "# for auto-reloading external modules\n",
    "%load_ext autoreload\n",
    "%autoreload 2"
   ]
  },
  {
   "cell_type": "code",
   "execution_count": 2,
   "metadata": {
    "collapsed": true
   },
   "outputs": [],
   "source": [
    "meta = json.load(open('/archive/isic_meta.json', 'r'))\n",
    "big_meta = json.load(open('/archive/esteva/skindata4/meta_skindata3+derm101.json', 'r'))"
   ]
  },
  {
   "cell_type": "code",
   "execution_count": 3,
   "metadata": {
    "collapsed": false
   },
   "outputs": [
    {
     "name": "stdout",
     "output_type": "stream",
     "text": [
      "Eliminating isic meta from big_meta\n"
     ]
    }
   ],
   "source": [
    "b = []\n",
    "for m in big_meta:\n",
    "    keep = True\n",
    "    if 'database' in m and m['database'] == 'isic':\n",
    "        keep = False\n",
    "    if keep:\n",
    "        b.append(m)\n",
    "big_meta = b\n",
    "print 'Eliminating isic meta from big_meta'"
   ]
  },
  {
   "cell_type": "code",
   "execution_count": 4,
   "metadata": {
    "collapsed": false
   },
   "outputs": [
    {
     "name": "stdout",
     "output_type": "stream",
     "text": [
      "The number of unique isic ids contained: 12086\n"
     ]
    }
   ],
   "source": [
    "def get_isic_id(m):\n",
    "    return int(os.path.basename(m['path']).split('_')[1])\n",
    "\n",
    "ids = [get_isic_id(m) for m in meta]\n",
    "print 'The number of unique isic ids contained: %d' % len(set(ids))"
   ]
  },
  {
   "cell_type": "code",
   "execution_count": 5,
   "metadata": {
    "collapsed": false
   },
   "outputs": [
    {
     "name": "stdout",
     "output_type": "stream",
     "text": [
      "Brett and I agree on diagnosis. He has more, because he scraped from the web and some diagnoses are online but not in the meta.\n"
     ]
    }
   ],
   "source": [
    "# Check that brett and I agree\n",
    "diagnoses = [get_diagnosis(m) for m in meta]\n",
    "for d, m in zip(diagnoses, meta):\n",
    "    if 'label' in m and d:\n",
    "        assert d == m['label']\n",
    "print 'Brett and I agree on diagnosis. He has more, because he scraped from the web and some diagnoses are online but not in the meta.'\n"
   ]
  },
  {
   "cell_type": "markdown",
   "metadata": {},
   "source": [
    "### Adjust isic metadata to integrate into original meta\n",
    " - remove non-pigmented lesions\n",
    " - add tax_path and database keys\n",
    " - add filename key, joining the full ISIC/ path the image comes from, and using the p1a crop\n",
    " "
   ]
  },
  {
   "cell_type": "code",
   "execution_count": 6,
   "metadata": {
    "collapsed": false
   },
   "outputs": [],
   "source": [
    "def isPigmentedLesions(m):\n",
    "    \"\"\"Returns false if m has a pathology diagnosis corresponding to a non-pigmented lesion.\"\"\"\n",
    "    keepIt = True\n",
    "    \n",
    "    pd = finditem(m, 'pathology diagnosis')\n",
    "    if pd:\n",
    "        pd = pd[0]\n",
    "        remove = ['arthropod','acanthoma', 'carcinoma', 'keratosis', 'angiofibroma', 'angiokeratoma',\n",
    "                  'collision', 'dermatofibroma', 'hemangioma', 'hematoma', 'hemorrhage', 'tattoo', 'dermatitis'\n",
    "                 ]\n",
    "        for r in remove:\n",
    "            if r in pd:\n",
    "                keepIt = False\n",
    "    return keepIt\n",
    "\n",
    "\n",
    "def removeChars(string, chars_list):\n",
    "    for elem in chars_list:\n",
    "        string = string.replace(elem, '')\n",
    "    return string\n",
    "\n",
    "def getp1aFilename(m):\n",
    "    \"\"\"Returns the p1a filename of meta\"\"\"\n",
    "    filenames = m['files']\n",
    "    p1a = [f for f in filenames if '-p1a.' in f and 'tile' not in f and '.json' not in f]\n",
    "    if len(p1a) == 1:\n",
    "        return p1a[0]\n",
    "    elif len(p1a) == 0:\n",
    "        return None\n",
    "    else:\n",
    "        raise ValueError('found multiple matching filenames for p1a %s' % (' '.join(p1a)))   \n",
    "        \n",
    "def getBestFilename(m):\n",
    "    \"\"\"Returns the best image to keep for the meta. Usually its a p1a, if not, just grab the normal jpg\"\"\"\n",
    "    p1a = getp1aFilename(m)\n",
    "    if p1a is not None:\n",
    "        return p1a\n",
    "    best = [f for f in m['files'] if '.jpg' in f and 'tile' not in f and '.json' not in f]\n",
    "    if len(best) == 1:\n",
    "        return best[0]\n",
    "    elif len(best) == 0:\n",
    "        return None\n",
    "    else:\n",
    "        raise ValueError('found multiple matching filenames for jpg %s' % (' '.join(best)))               \n",
    "    "
   ]
  },
  {
   "cell_type": "code",
   "execution_count": 8,
   "metadata": {
    "collapsed": false
   },
   "outputs": [
    {
     "name": "stdout",
     "output_type": "stream",
     "text": [
      "Keeping 11927 meta entries\n",
      "Unable to extract 0 p1a images\n",
      "Example filename used: ISIC_LesionImages_ISIC_MSK-1_1_ISIC_0012085-kopf2656-p1a.png\n",
      "Example original filename used: kopf2656-p1a.png\n"
     ]
    }
   ],
   "source": [
    "# Remove lesions that seem to be non-pigmented lesions1\n",
    "meta_kept = [m for m in meta if isPigmentedLesions(m)]\n",
    "\n",
    "# Add tax_path and database\n",
    "for m in meta_kept:\n",
    "    m['database'] = 'isic'    \n",
    "    if 'label' in m:\n",
    "        c = m['label']\n",
    "        m['tax_path'] = [[u'pigmented', 'lesions', '%s' % c], ['dermoscopy']]\n",
    "\n",
    "            \n",
    "# Add filename\n",
    "for m in meta_kept:\n",
    "    filename = m['path']\n",
    "    filename = filename.replace('/','_')\n",
    "    filename = removeChars(filename, '() ')\n",
    "#     p1a = getp1aFilename(m)\n",
    "    best = getBestFilename(m)\n",
    "    fucks = 0    \n",
    "    if best is not None:\n",
    "        filename += '-'    \n",
    "        filename += best\n",
    "    else: \n",
    "        fucks += 1  \n",
    "    m['original_filename'] = best\n",
    "    filename = removeChars(filename, '(), ')\n",
    "    m['filename'] = filename\n",
    "    \n",
    "    isic_id = idname(m['path']).split('_')[1]\n",
    "    assert len(isic_id) == 7\n",
    "    assert 'isic_id' not in m\n",
    "    m['isic_id'] = isic_id\n",
    "    \n",
    "            \n",
    "print 'Keeping %d meta entries' % len(meta_kept)\n",
    "print 'Unable to extract %d p1a images' % fucks\n",
    "print 'Example filename used: %s' % filename\n",
    "print 'Example original filename used: %s' % best"
   ]
  },
  {
   "cell_type": "markdown",
   "metadata": {},
   "source": [
    "### Save to meta"
   ]
  },
  {
   "cell_type": "code",
   "execution_count": 9,
   "metadata": {
    "collapsed": false
   },
   "outputs": [],
   "source": [
    "all_meta = big_meta\n",
    "all_meta.extend(meta_kept)"
   ]
  },
  {
   "cell_type": "code",
   "execution_count": 10,
   "metadata": {
    "collapsed": true
   },
   "outputs": [],
   "source": [
    "json.dump(all_meta, open('/archive/esteva/skindata4/meta.json', 'w'))"
   ]
  },
  {
   "cell_type": "code",
   "execution_count": 11,
   "metadata": {
    "collapsed": false
   },
   "outputs": [
    {
     "data": {
      "text/plain": [
       "11927"
      ]
     },
     "execution_count": 11,
     "metadata": {},
     "output_type": "execute_result"
    }
   ],
   "source": [
    "len(getEntries(all_meta, 'database', 'isic'))"
   ]
  },
  {
   "cell_type": "markdown",
   "metadata": {
    "collapsed": true
   },
   "source": [
    "# Copy images from /archive/ISIC into skindata4/images\n",
    " - this is the release that Brett used when he created the metadata, above"
   ]
  },
  {
   "cell_type": "code",
   "execution_count": 12,
   "metadata": {
    "collapsed": true
   },
   "outputs": [],
   "source": [
    "import json\n",
    "import lib\n",
    "import os\n",
    "import shutil\n",
    "from lib.taxonomy import loading\n",
    "from lib.notebooks import parse_isic_helper as pih"
   ]
  },
  {
   "cell_type": "code",
   "execution_count": 2,
   "metadata": {
    "collapsed": true
   },
   "outputs": [],
   "source": [
    "rootdir = '/archive'\n",
    "meta = json.load(open('/archive/esteva/skindata4/meta.json', 'r'))"
   ]
  },
  {
   "cell_type": "code",
   "execution_count": 16,
   "metadata": {
    "collapsed": false
   },
   "outputs": [],
   "source": [
    "# Copy the 'best image' from isic[i]['path'] into /archive/esteva/skindata4/isic\n",
    "# 'best image' is typically the p1a, which was found by the code above.\n",
    "isic = loading.getEntries(meta, 'database', 'isic')"
   ]
  },
  {
   "cell_type": "code",
   "execution_count": 17,
   "metadata": {
    "collapsed": false
   },
   "outputs": [
    {
     "name": "stdout",
     "output_type": "stream",
     "text": [
      "11926\n"
     ]
    }
   ],
   "source": [
    "copydir = '/archive/esteva/skindata4/isic_images'\n",
    "copy_pairs = []\n",
    "for i, m in enumerate(isic):\n",
    "    if i % 100: \n",
    "        print '\\r', i,        \n",
    "    path = m['path']\n",
    "    isicid = os.path.split(path)[-1]        \n",
    "    src = os.path.join(rootdir, path, m['original_filename'])\n",
    "    new_fn = m['filename']            \n",
    "    dst = os.path.join(copydir, m['filename'])\n",
    "    assert os.path.exists(src), \"%s not found\" % src\n",
    "    copy_pairs.append((src, dst))"
   ]
  },
  {
   "cell_type": "code",
   "execution_count": 18,
   "metadata": {
    "collapsed": false
   },
   "outputs": [
    {
     "name": "stdout",
     "output_type": "stream",
     "text": [
      "11900\n"
     ]
    }
   ],
   "source": [
    "for i, pair in enumerate(copy_pairs):\n",
    "    if i % 100 == 0: \n",
    "        print '\\r', i,     \n",
    "    src = pair[0]\n",
    "    dst = pair[1]\n",
    "    shutil.copy(src, dst)"
   ]
  },
  {
   "cell_type": "code",
   "execution_count": 17,
   "metadata": {
    "collapsed": false
   },
   "outputs": [],
   "source": [
    "# check that it properly copied the filenames over\n",
    "for m in isic:\n",
    "    fn = m['filename']\n",
    "    assert os.path.exists(os.path.join(copydir, fn))"
   ]
  },
  {
   "cell_type": "markdown",
   "metadata": {},
   "source": [
    "### manually move contents of isic_images/ into images/\n",
    " - done"
   ]
  },
  {
   "cell_type": "code",
   "execution_count": 40,
   "metadata": {
    "collapsed": true
   },
   "outputs": [],
   "source": [
    "# Check that everything is in the images/ folder\n",
    "for m in isic:\n",
    "    fn = m['filename']\n",
    "    assert os.path.exists(os.path.join('/ssd/esteva/skindata4/images/', fn))"
   ]
  },
  {
   "cell_type": "code",
   "execution_count": 42,
   "metadata": {
    "collapsed": false
   },
   "outputs": [
    {
     "data": {
      "text/plain": [
       "11927"
      ]
     },
     "execution_count": 42,
     "metadata": {},
     "output_type": "execute_result"
    }
   ],
   "source": [
    "len(isic)x"
   ]
  },
  {
   "cell_type": "markdown",
   "metadata": {},
   "source": [
    "## Convert dermoscopy_test.txt into new filenames\n",
    " - /ssd/esteva/skindata4/test_sets/dermoscopy_test_orig.txt becomes dermoscopy_test.txt\n",
    " "
   ]
  },
  {
   "cell_type": "code",
   "execution_count": 44,
   "metadata": {
    "collapsed": false
   },
   "outputs": [
    {
     "data": {
      "text/plain": [
       "['/home/esteva/ThrunResearchReserves/isbi_data/curated_dermoscopy/data/ISIC_0006260.png 0',\n",
       " '/home/esteva/ThrunResearchReserves/isbi_data/curated_dermoscopy/data/ISIC_0009635.png 0',\n",
       " '/home/esteva/ThrunResearchReserves/isbi_data/curated_dermoscopy/data/ISIC_0005286.png 0',\n",
       " '/home/esteva/ThrunResearchReserves/isbi_data/curated_dermoscopy/data/ISIC_0008767.png 0',\n",
       " '/home/esteva/ThrunResearchReserves/isbi_data/curated_dermoscopy/data/ISIC_0002374.png 0']"
      ]
     },
     "execution_count": 44,
     "metadata": {},
     "output_type": "execute_result"
    }
   ],
   "source": [
    "dtest = [line.strip() for line in open('/ssd/esteva/skindata4/test_sets/dermoscopy_test_orig.txt').readlines()]\n",
    "dtest[:5]"
   ]
  },
  {
   "cell_type": "code",
   "execution_count": 52,
   "metadata": {
    "collapsed": true
   },
   "outputs": [],
   "source": [
    "test_paths = [] \n",
    "for t in dtest:\n",
    "    isicid = os.path.basename(t.split()[0]).split('.')[0].split('_')[1]\n",
    "    for m in isic:\n",
    "        if m['isic_id'] == isicid:\n",
    "            test_paths.append(m['filename'] + ' ' + t.split()[1])"
   ]
  },
  {
   "cell_type": "code",
   "execution_count": 53,
   "metadata": {
    "collapsed": false
   },
   "outputs": [
    {
     "data": {
      "text/plain": [
       "[u'ISIC_LesionImages_ISIC_SONIC_1_ISIC_0006260-STAS10652004113010245748420071018095516109-p1a.png 0',\n",
       " u'ISIC_LesionImages_ISIC_SONIC_1_ISIC_0009635-WILS10502004121509404364020041215094232250-p1a.png 0',\n",
       " u'ISIC_LesionImages_ISIC_SONIC_1_ISIC_0005286-POTS10242004121515271792120041215153016859-p1a.png 0',\n",
       " u'ISIC_LesionImages_ISIC_SONIC_1_ISIC_0008767-WILS10552004121511120462520041215131103203-p1a.png 0',\n",
       " u'ISIC_LesionImages_ISIC_SONIC_1ISBItraining_ISIC_0002374-BROS10512004120812014517120110517235319031-p1a.png 0',\n",
       " u'ISIC_LesionImages_ISIC_SONIC_1_ISIC_0008575-WA0362010011310250414020100113104058250-p1a.png 0',\n",
       " u'ISIC_LesionImages_ISIC_SONIC_1_ISIC_0008122-WILS10442004121510205246820081204124245390-p1a.png 0',\n",
       " u'ISIC_LesionImages_ISIC_SONIC_1_ISIC_0008170-Wa1982010011410205976520130314095801954-p1a.png 0',\n",
       " u'ISIC_LesionImages_ISIC_UDA-1_1_ISIC_0000335-uda0000033919997d1001-p1a.png 0',\n",
       " u'ISIC_LesionImages_ISIC_SONIC_1_ISIC_0001064-ISIC_0001064-p1a.png 0']"
      ]
     },
     "execution_count": 53,
     "metadata": {},
     "output_type": "execute_result"
    }
   ],
   "source": [
    "test_paths[:10]"
   ]
  },
  {
   "cell_type": "code",
   "execution_count": 54,
   "metadata": {
    "collapsed": true
   },
   "outputs": [],
   "source": [
    "with open('/ssd/esteva/skindata4/test_sets/tmp.txt', 'w') as f:\n",
    "    prefix = ''\n",
    "    for t in test_paths:\n",
    "        f.write(prefix)\n",
    "        f.write(t)\n",
    "        prefix = '\\n'"
   ]
  },
  {
   "cell_type": "code",
   "execution_count": 55,
   "metadata": {
    "collapsed": false,
    "scrolled": false
   },
   "outputs": [
    {
     "data": {
      "text/plain": [
       "{'database': 'isic',\n",
       " 'filename': u'ISIC_LesionImages_ISIC_UDA-1_1ISBItraining_ISIC_0000000-uda0000000119997d1001-p1a.png',\n",
       " u'files': [u'uda0000000119997d1001-p1c.json',\n",
       "  u'uda0000000119997d1001-p1a.json',\n",
       "  u'uda0000000119997d1001-p1b.json',\n",
       "  u'ISIC_0000000.tif',\n",
       "  u'uda0000000119997d1001-tile-p1a.png',\n",
       "  u'ISIC_0000000.jpg',\n",
       "  u'uda0000000119997d1001-tile-p1b.png',\n",
       "  u'uda0000000119997d1001-tile-p1c.png',\n",
       "  u'uda0000000119997d1001-p1c.png',\n",
       "  u'uda0000000119997d1001-p1a.png',\n",
       "  u'uda0000000119997d1001-p1b.png'],\n",
       " 'isic_id': u'0000000',\n",
       " u'label': u'benign',\n",
       " u'meta': {u'age': u'54',\n",
       "  u'ben_mal': u'benign',\n",
       "  u'convertedFilename': u'uda0000000119997d1001.tif',\n",
       "  u'convertedMimeType': u'image/tiff',\n",
       "  u'diagnosis': u'dysplastic nevus',\n",
       "  u'gender': u'F',\n",
       "  u'id1': u'1',\n",
       "  u'isic_id': u'uda0000000119997d1001',\n",
       "  u'localization': u'Abdomen',\n",
       "  u'originalFilename': u'uda0000000119997d1001.jpg',\n",
       "  u'originalMimeType': u'image/jpeg',\n",
       "  u'p1a_folder_id': u'5436e449bae478396759f52e',\n",
       "  u'p1a_result': u'ok',\n",
       "  u'p1a_start_time': u'2014-11-12 17:02:19.605000',\n",
       "  u'p1a_stop_time': u'2014-11-12 17:04:48.534000',\n",
       "  u'p1a_user': u'5428cb05bae478621f6159d5',\n",
       "  u'p1b_folder_id': u'54411dd3bae478661558fac9',\n",
       "  u'p1b_result': u'ok',\n",
       "  u'p1b_start_time': u'2015-02-23 02:01:44.698000',\n",
       "  u'p1b_stop_time': u'2015-02-23 02:02:13.046000',\n",
       "  u'p1b_user': u'54cb967ebae47819d8e4c724',\n",
       "  u'qc_folder_id': u'5436e3abbae478396759f0ce',\n",
       "  u'qc_result': u'ok',\n",
       "  u'qc_user': u'5436c6e7bae4780a676c8f93',\n",
       "  u'site': u'bar',\n",
       "  u'study': u'uda'},\n",
       " 'original_filename': u'uda0000000119997d1001-p1a.png',\n",
       " u'p1a': {u'image': {u'_id': u'5436e3abbae478396759f0cf',\n",
       "   u'baseParentId': u'5428cb05bae478621f6159d0',\n",
       "   u'baseParentType': u'collection',\n",
       "   u'created': u'2014-10-09 19:36:11.989000',\n",
       "   u'creatorId': u'5436c6e7bae4780a676c8f93',\n",
       "   u'description': u'',\n",
       "   u'folderId': u'5436e449bae478396759f52e',\n",
       "   u'lowerName': u'uda0000000119997d1001.tif',\n",
       "   u'name': u'uda0000000119997d1001.tif',\n",
       "   u'size': 85474,\n",
       "   u'updated': u'2014-10-09 19:38:49.847000'},\n",
       "  u'result': {u'p1a_folder_id': u'5436e449bae478396759f52e',\n",
       "   u'p1a_result': u'ok',\n",
       "   u'p1a_start_time': 1415811739605,\n",
       "   u'p1a_stop_time': 1415811888534,\n",
       "   u'p1a_user': u'5428cb05bae478621f6159d5'},\n",
       "  u'user': {u'_accessLevel': 2,\n",
       "   u'_id': u'5428cb05bae478621f6159d5',\n",
       "   u'admin': False,\n",
       "   u'created': u'2014-09-29 02:59:17.054000',\n",
       "   u'email': u'novice@uda2study.org',\n",
       "   u'firstName': u'uda novice',\n",
       "   u'groupInvites': [],\n",
       "   u'groups': [u'5428cb05bae478621f6159de'],\n",
       "   u'lastName': u'testuser',\n",
       "   u'login': u'udanovice',\n",
       "   u'public': True,\n",
       "   u'size': 0}},\n",
       " u'p1b': {u'image': {u'_id': u'5436e3abbae478396759f0cf',\n",
       "   u'baseParentId': u'5428cb05bae478621f6159e4',\n",
       "   u'baseParentType': u'collection',\n",
       "   u'created': u'2014-10-09 19:36:11.989000',\n",
       "   u'creatorId': u'5436c6e7bae4780a676c8f93',\n",
       "   u'description': u'',\n",
       "   u'folderId': u'54411dd3bae478661558fac9',\n",
       "   u'lowerName': u'uda0000000119997d1001.tif',\n",
       "   u'name': u'uda0000000119997d1001.tif',\n",
       "   u'size': 620715,\n",
       "   u'updated': u'2014-11-12 17:05:15.619000'},\n",
       "  u'result': {u'p1b_folder_id': u'54411dd3bae478661558fac9',\n",
       "   u'p1b_result': u'ok',\n",
       "   u'p1b_start_time': u'2015-02-23T02:01:44.698000',\n",
       "   u'p1b_stop_time': u'2015-02-23T02:02:13.046000',\n",
       "   u'p1b_user': u'54cb967ebae47819d8e4c724'},\n",
       "  u'user': {u'_accessLevel': 2,\n",
       "   u'_id': u'54cb967ebae47819d8e4c724',\n",
       "   u'admin': False,\n",
       "   u'created': u'2015-01-30 14:34:37.878000',\n",
       "   u'email': u'marchetti.michael@gmail.com',\n",
       "   u'firstName': u'Michael',\n",
       "   u'groupInvites': [],\n",
       "   u'groups': [u'5428cb05bae478621f6159df',\n",
       "    u'5428cb05bae478621f6159e0',\n",
       "    u'5428cb05bae478621f6159e1',\n",
       "    u'5428cb05bae478621f6159cf',\n",
       "    u'5428cb05bae478621f6159de'],\n",
       "   u'lastName': u'Marchetti',\n",
       "   u'login': u'marchetm',\n",
       "   u'public': True,\n",
       "   u'size': 0}},\n",
       " u'p1c': {u'image': {u'_id': u'5436e3abbae478396759f0cf',\n",
       "   u'baseParentId': u'5428cb05bae478621f6159e6',\n",
       "   u'baseParentType': u'collection',\n",
       "   u'created': u'2014-10-09 19:36:11.989000',\n",
       "   u'creatorId': u'5436c6e7bae4780a676c8f93',\n",
       "   u'description': u'',\n",
       "   u'folderId': u'5460049bbae47821f8802587',\n",
       "   u'lowerName': u'uda0000000119997d1001.tif',\n",
       "   u'name': u'uda0000000119997d1001.tif',\n",
       "   u'size': 1478185,\n",
       "   u'updated': u'2015-02-23 02:02:08.154000'},\n",
       "  u'result': {u'p1c_folder_id': u'5460049bbae47821f8802587',\n",
       "   u'p1c_result': u'ok',\n",
       "   u'p1c_start_time': u'2015-02-23T02:48:19.700000',\n",
       "   u'p1c_stop_time': u'2015-02-23T02:48:23.913000',\n",
       "   u'p1c_user': u'54cb967ebae47819d8e4c724'},\n",
       "  u'user': {u'_accessLevel': 2,\n",
       "   u'_id': u'54cb967ebae47819d8e4c724',\n",
       "   u'admin': False,\n",
       "   u'created': u'2015-01-30 14:34:37.878000',\n",
       "   u'email': u'marchetti.michael@gmail.com',\n",
       "   u'firstName': u'Michael',\n",
       "   u'groupInvites': [],\n",
       "   u'groups': [u'5428cb05bae478621f6159df',\n",
       "    u'5428cb05bae478621f6159e0',\n",
       "    u'5428cb05bae478621f6159e1',\n",
       "    u'5428cb05bae478621f6159cf',\n",
       "    u'5428cb05bae478621f6159de'],\n",
       "   u'lastName': u'Marchetti',\n",
       "   u'login': u'marchetm',\n",
       "   u'public': True,\n",
       "   u'size': 0}},\n",
       " u'path': u'ISIC/Lesion Images/ISIC_UDA-1_1 (ISBI training)/ISIC_0000000',\n",
       " 'tax_path': [[u'pigmented', 'lesions', u'benign'], ['dermoscopy']]}"
      ]
     },
     "execution_count": 55,
     "metadata": {},
     "output_type": "execute_result"
    }
   ],
   "source": [
    "isic[0]"
   ]
  },
  {
   "cell_type": "code",
   "execution_count": null,
   "metadata": {
    "collapsed": true
   },
   "outputs": [],
   "source": []
  }
 ],
 "metadata": {
  "kernelspec": {
   "display_name": "Python 2",
   "language": "python",
   "name": "python2"
  },
  "language_info": {
   "codemirror_mode": {
    "name": "ipython",
    "version": 2
   },
   "file_extension": ".py",
   "mimetype": "text/x-python",
   "name": "python",
   "nbconvert_exporter": "python",
   "pygments_lexer": "ipython2",
   "version": "2.7.6"
  }
 },
 "nbformat": 4,
 "nbformat_minor": 0
}
