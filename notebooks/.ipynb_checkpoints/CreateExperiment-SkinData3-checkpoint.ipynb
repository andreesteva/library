{
 "cells": [
  {
   "cell_type": "code",
   "execution_count": 18,
   "metadata": {
    "collapsed": false
   },
   "outputs": [
    {
     "name": "stdout",
     "output_type": "stream",
     "text": [
      "The autoreload extension is already loaded. To reload it, use:\n",
      "  %reload_ext autoreload\n"
     ]
    }
   ],
   "source": [
    "# Esc + II to interupt kernel\n",
    "# ESC + 00 to restart kernel\n",
    "import json\n",
    "import pickle\n",
    "import random\n",
    "import os\n",
    "import shutil\n",
    "import time\n",
    "import os.path as osp\n",
    "import sys\n",
    "import numpy as np\n",
    "from PIL import Image\n",
    "import matplotlib.pyplot as plt\n",
    "sys.path.append('/media/esteva/ExtraDrive1/ThrunResearch')\n",
    "from lib.learning.utils import tic, toc\n",
    "from lib.taxonomy.loading import *\n",
    "from lib.taxonomy.utils import SynonymsList\n",
    "from lib.notebooks.vis_utils import progress\n",
    "from lib.taxonomy.graph_structure import Taxonomy, recursive_division, node_based_classes\n",
    "%matplotlib inline\n",
    "\n",
    "%load_ext autoreload\n",
    "%autoreload 2"
   ]
  },
  {
   "cell_type": "markdown",
   "metadata": {},
   "source": [
    "#### The data is stored in a list of dictionaries in a json"
   ]
  },
  {
   "cell_type": "code",
   "execution_count": 19,
   "metadata": {
    "collapsed": true
   },
   "outputs": [],
   "source": [
    "dataset_directory = '/home/esteva/ThrunResearchReserves/skindata3'\n",
    "meta_file = '/home/esteva/ThrunResearchReserves/skindata3/meta.json'\n",
    "meta_file = '/media/esteva/ExtraDrive1/ThrunResearch/SKIN-9/experiments/skindata3/imagemeta/meta_exif_renamed.json'"
   ]
  },
  {
   "cell_type": "code",
   "execution_count": 20,
   "metadata": {
    "collapsed": false
   },
   "outputs": [],
   "source": [
    "# We load in images that exist on our filesystem\n",
    "skin_prob = 0.4\n",
    "tax_path_score = 0.8\n",
    "\n",
    "meta = json.load(open(meta_file))\n",
    "meta = [m for m in meta if imageExists(m, dataset_directory)]\n",
    "meta_all = meta\n",
    "mice = [m for m in meta if m['database'] == 'mice']\n",
    "meta = [m for m in meta if 'tax_path_score' in m.keys() and m['tax_path_score'] >= tax_path_score]\n",
    "meta = [m for m in meta if m['tax_path']]\n",
    "meta = [m for m in meta if 'skin_prob' in m.keys() and m['skin_prob'] >= skin_prob]\n",
    "unique_links = {m['link'] for m in meta if 'link' in m.keys()}\n",
    "unique_filenames = {m['file_name'] for m in meta if 'file_name' in m.keys()}\n",
    "\n",
    "# Fix the naming convention issues of the top 9 categories\n",
    "syns = SynonymsList()\n",
    "for m in meta:\n",
    "    rootname = '-'.join(m['tax_path'][0])\n",
    "    rootrename = syns.synonymOf(rootname).split('-')\n",
    "    m['tax_path'][0] = rootrename\n",
    "    \n",
    "# Rename 'label' field to 'disease_name'\n",
    "for m in meta:\n",
    "    if 'label' in m:\n",
    "        m['disease_name'] = m['label']\n",
    "        m['label'] = None\n",
    "\n",
    "_meta = meta"
   ]
  },
  {
   "cell_type": "code",
   "execution_count": 21,
   "metadata": {
    "collapsed": false
   },
   "outputs": [
    {
     "name": "stdout",
     "output_type": "stream",
     "text": [
      "133251 images in the dataset with tax_path_score over 0.80 and skin score over 0.40\n",
      "125139 are unique links\n",
      "126755 are unique filenames\n"
     ]
    }
   ],
   "source": [
    "print('%d images in the dataset with tax_path_score over %0.2f and skin score over %0.2f' % \n",
    "      (len(meta), tax_path_score, skin_prob))\n",
    "print len(unique_links), 'are unique links'\n",
    "print len(unique_filenames), 'are unique filenames'"
   ]
  },
  {
   "cell_type": "markdown",
   "metadata": {},
   "source": [
    "### Data Distribution"
   ]
  },
  {
   "cell_type": "code",
   "execution_count": 5,
   "metadata": {
    "collapsed": false
   },
   "outputs": [
    {
     "name": "stderr",
     "output_type": "stream",
     "text": [
      "/media/esteva/ExtraDrive1/ThrunResearch/lib/taxonomy/loading.py:548: FutureWarning: sort(columns=....) is deprecated, use sort_values(by=.....)\n",
      "  df = df.sort('total meta entries', ascending=True)\n"
     ]
    },
    {
     "data": {
      "text/html": [
       "<div>\n",
       "<table border=\"1\" class=\"dataframe\">\n",
       "  <thead>\n",
       "    <tr style=\"text-align: right;\">\n",
       "      <th></th>\n",
       "      <th>epic</th>\n",
       "      <th>dermatology_oasis</th>\n",
       "      <th>isic</th>\n",
       "      <th>medscape</th>\n",
       "      <th>regional_derm</th>\n",
       "      <th>mice</th>\n",
       "      <th>hellenic</th>\n",
       "      <th>global_atlas</th>\n",
       "      <th>skinsight</th>\n",
       "      <th>german</th>\n",
       "      <th>dermatoweb</th>\n",
       "      <th>dermis</th>\n",
       "      <th>atlas</th>\n",
       "      <th>dermnet</th>\n",
       "      <th>dermquest</th>\n",
       "      <th>dermaamin</th>\n",
       "      <th>google</th>\n",
       "      <th>total meta entries</th>\n",
       "    </tr>\n",
       "  </thead>\n",
       "  <tbody>\n",
       "    <tr>\n",
       "      <th>dermal-tumor-malignant</th>\n",
       "      <td>0</td>\n",
       "      <td>1</td>\n",
       "      <td>0</td>\n",
       "      <td>30</td>\n",
       "      <td>18</td>\n",
       "      <td>0</td>\n",
       "      <td>27</td>\n",
       "      <td>20</td>\n",
       "      <td>0</td>\n",
       "      <td>50</td>\n",
       "      <td>31</td>\n",
       "      <td>88</td>\n",
       "      <td>113</td>\n",
       "      <td>76</td>\n",
       "      <td>98</td>\n",
       "      <td>333</td>\n",
       "      <td>148</td>\n",
       "      <td>1033</td>\n",
       "    </tr>\n",
       "    <tr>\n",
       "      <th>cutaneous-lymphoma</th>\n",
       "      <td>0</td>\n",
       "      <td>1</td>\n",
       "      <td>0</td>\n",
       "      <td>15</td>\n",
       "      <td>7</td>\n",
       "      <td>0</td>\n",
       "      <td>29</td>\n",
       "      <td>19</td>\n",
       "      <td>0</td>\n",
       "      <td>37</td>\n",
       "      <td>70</td>\n",
       "      <td>208</td>\n",
       "      <td>119</td>\n",
       "      <td>103</td>\n",
       "      <td>73</td>\n",
       "      <td>253</td>\n",
       "      <td>173</td>\n",
       "      <td>1107</td>\n",
       "    </tr>\n",
       "    <tr>\n",
       "      <th>pigmented-lesion-benign</th>\n",
       "      <td>12</td>\n",
       "      <td>6</td>\n",
       "      <td>287</td>\n",
       "      <td>13</td>\n",
       "      <td>23</td>\n",
       "      <td>0</td>\n",
       "      <td>21</td>\n",
       "      <td>25</td>\n",
       "      <td>22</td>\n",
       "      <td>92</td>\n",
       "      <td>75</td>\n",
       "      <td>192</td>\n",
       "      <td>74</td>\n",
       "      <td>520</td>\n",
       "      <td>1172</td>\n",
       "      <td>521</td>\n",
       "      <td>336</td>\n",
       "      <td>3391</td>\n",
       "    </tr>\n",
       "    <tr>\n",
       "      <th>pigmented-lesion-malignant</th>\n",
       "      <td>82</td>\n",
       "      <td>0</td>\n",
       "      <td>169</td>\n",
       "      <td>15</td>\n",
       "      <td>46</td>\n",
       "      <td>1265</td>\n",
       "      <td>24</td>\n",
       "      <td>20</td>\n",
       "      <td>14</td>\n",
       "      <td>99</td>\n",
       "      <td>243</td>\n",
       "      <td>313</td>\n",
       "      <td>101</td>\n",
       "      <td>221</td>\n",
       "      <td>382</td>\n",
       "      <td>517</td>\n",
       "      <td>1082</td>\n",
       "      <td>4593</td>\n",
       "    </tr>\n",
       "    <tr>\n",
       "      <th>genodermatosis</th>\n",
       "      <td>0</td>\n",
       "      <td>9</td>\n",
       "      <td>0</td>\n",
       "      <td>78</td>\n",
       "      <td>53</td>\n",
       "      <td>0</td>\n",
       "      <td>101</td>\n",
       "      <td>77</td>\n",
       "      <td>36</td>\n",
       "      <td>106</td>\n",
       "      <td>227</td>\n",
       "      <td>458</td>\n",
       "      <td>674</td>\n",
       "      <td>499</td>\n",
       "      <td>326</td>\n",
       "      <td>1734</td>\n",
       "      <td>1081</td>\n",
       "      <td>5459</td>\n",
       "    </tr>\n",
       "    <tr>\n",
       "      <th>epidermal-tumor-benign</th>\n",
       "      <td>0</td>\n",
       "      <td>6</td>\n",
       "      <td>85</td>\n",
       "      <td>29</td>\n",
       "      <td>42</td>\n",
       "      <td>0</td>\n",
       "      <td>22</td>\n",
       "      <td>63</td>\n",
       "      <td>108</td>\n",
       "      <td>50</td>\n",
       "      <td>101</td>\n",
       "      <td>152</td>\n",
       "      <td>302</td>\n",
       "      <td>1230</td>\n",
       "      <td>1826</td>\n",
       "      <td>743</td>\n",
       "      <td>829</td>\n",
       "      <td>5588</td>\n",
       "    </tr>\n",
       "    <tr>\n",
       "      <th>dermal-tumor-benign</th>\n",
       "      <td>0</td>\n",
       "      <td>24</td>\n",
       "      <td>29</td>\n",
       "      <td>67</td>\n",
       "      <td>112</td>\n",
       "      <td>0</td>\n",
       "      <td>79</td>\n",
       "      <td>149</td>\n",
       "      <td>192</td>\n",
       "      <td>178</td>\n",
       "      <td>216</td>\n",
       "      <td>297</td>\n",
       "      <td>378</td>\n",
       "      <td>1504</td>\n",
       "      <td>1554</td>\n",
       "      <td>1568</td>\n",
       "      <td>2801</td>\n",
       "      <td>9148</td>\n",
       "    </tr>\n",
       "    <tr>\n",
       "      <th>epidermal-tumor-malignant</th>\n",
       "      <td>0</td>\n",
       "      <td>11</td>\n",
       "      <td>51</td>\n",
       "      <td>52</td>\n",
       "      <td>27</td>\n",
       "      <td>0</td>\n",
       "      <td>130</td>\n",
       "      <td>158</td>\n",
       "      <td>56</td>\n",
       "      <td>191</td>\n",
       "      <td>527</td>\n",
       "      <td>515</td>\n",
       "      <td>523</td>\n",
       "      <td>1480</td>\n",
       "      <td>5098</td>\n",
       "      <td>1129</td>\n",
       "      <td>1909</td>\n",
       "      <td>11857</td>\n",
       "    </tr>\n",
       "    <tr>\n",
       "      <th>inflammatory</th>\n",
       "      <td>0</td>\n",
       "      <td>155</td>\n",
       "      <td>14</td>\n",
       "      <td>645</td>\n",
       "      <td>685</td>\n",
       "      <td>0</td>\n",
       "      <td>1198</td>\n",
       "      <td>1223</td>\n",
       "      <td>1841</td>\n",
       "      <td>1699</td>\n",
       "      <td>4293</td>\n",
       "      <td>4204</td>\n",
       "      <td>5851</td>\n",
       "      <td>16242</td>\n",
       "      <td>11896</td>\n",
       "      <td>15989</td>\n",
       "      <td>25140</td>\n",
       "      <td>91075</td>\n",
       "    </tr>\n",
       "    <tr>\n",
       "      <th>total unique images</th>\n",
       "      <td>94</td>\n",
       "      <td>212</td>\n",
       "      <td>493</td>\n",
       "      <td>944</td>\n",
       "      <td>1011</td>\n",
       "      <td>1265</td>\n",
       "      <td>1631</td>\n",
       "      <td>1754</td>\n",
       "      <td>1831</td>\n",
       "      <td>2502</td>\n",
       "      <td>3521</td>\n",
       "      <td>6069</td>\n",
       "      <td>8135</td>\n",
       "      <td>21232</td>\n",
       "      <td>22425</td>\n",
       "      <td>22730</td>\n",
       "      <td>33272</td>\n",
       "      <td>126755</td>\n",
       "    </tr>\n",
       "    <tr>\n",
       "      <th>total meta entries</th>\n",
       "      <td>94</td>\n",
       "      <td>213</td>\n",
       "      <td>635</td>\n",
       "      <td>944</td>\n",
       "      <td>1013</td>\n",
       "      <td>1265</td>\n",
       "      <td>1631</td>\n",
       "      <td>1754</td>\n",
       "      <td>2269</td>\n",
       "      <td>2502</td>\n",
       "      <td>5783</td>\n",
       "      <td>6427</td>\n",
       "      <td>8135</td>\n",
       "      <td>21875</td>\n",
       "      <td>22425</td>\n",
       "      <td>22787</td>\n",
       "      <td>33499</td>\n",
       "      <td>133251</td>\n",
       "    </tr>\n",
       "  </tbody>\n",
       "</table>\n",
       "</div>"
      ],
      "text/plain": [
       "                            epic  dermatology_oasis  isic  medscape  \\\n",
       "dermal-tumor-malignant         0                  1     0        30   \n",
       "cutaneous-lymphoma             0                  1     0        15   \n",
       "pigmented-lesion-benign       12                  6   287        13   \n",
       "pigmented-lesion-malignant    82                  0   169        15   \n",
       "genodermatosis                 0                  9     0        78   \n",
       "epidermal-tumor-benign         0                  6    85        29   \n",
       "dermal-tumor-benign            0                 24    29        67   \n",
       "epidermal-tumor-malignant      0                 11    51        52   \n",
       "inflammatory                   0                155    14       645   \n",
       "total unique images           94                212   493       944   \n",
       "total meta entries            94                213   635       944   \n",
       "\n",
       "                            regional_derm  mice  hellenic  global_atlas  \\\n",
       "dermal-tumor-malignant                 18     0        27            20   \n",
       "cutaneous-lymphoma                      7     0        29            19   \n",
       "pigmented-lesion-benign                23     0        21            25   \n",
       "pigmented-lesion-malignant             46  1265        24            20   \n",
       "genodermatosis                         53     0       101            77   \n",
       "epidermal-tumor-benign                 42     0        22            63   \n",
       "dermal-tumor-benign                   112     0        79           149   \n",
       "epidermal-tumor-malignant              27     0       130           158   \n",
       "inflammatory                          685     0      1198          1223   \n",
       "total unique images                  1011  1265      1631          1754   \n",
       "total meta entries                   1013  1265      1631          1754   \n",
       "\n",
       "                            skinsight  german  dermatoweb  dermis  atlas  \\\n",
       "dermal-tumor-malignant              0      50          31      88    113   \n",
       "cutaneous-lymphoma                  0      37          70     208    119   \n",
       "pigmented-lesion-benign            22      92          75     192     74   \n",
       "pigmented-lesion-malignant         14      99         243     313    101   \n",
       "genodermatosis                     36     106         227     458    674   \n",
       "epidermal-tumor-benign            108      50         101     152    302   \n",
       "dermal-tumor-benign               192     178         216     297    378   \n",
       "epidermal-tumor-malignant          56     191         527     515    523   \n",
       "inflammatory                     1841    1699        4293    4204   5851   \n",
       "total unique images              1831    2502        3521    6069   8135   \n",
       "total meta entries               2269    2502        5783    6427   8135   \n",
       "\n",
       "                            dermnet  dermquest  dermaamin  google  \\\n",
       "dermal-tumor-malignant           76         98        333     148   \n",
       "cutaneous-lymphoma              103         73        253     173   \n",
       "pigmented-lesion-benign         520       1172        521     336   \n",
       "pigmented-lesion-malignant      221        382        517    1082   \n",
       "genodermatosis                  499        326       1734    1081   \n",
       "epidermal-tumor-benign         1230       1826        743     829   \n",
       "dermal-tumor-benign            1504       1554       1568    2801   \n",
       "epidermal-tumor-malignant      1480       5098       1129    1909   \n",
       "inflammatory                  16242      11896      15989   25140   \n",
       "total unique images           21232      22425      22730   33272   \n",
       "total meta entries            21875      22425      22787   33499   \n",
       "\n",
       "                            total meta entries  \n",
       "dermal-tumor-malignant                    1033  \n",
       "cutaneous-lymphoma                        1107  \n",
       "pigmented-lesion-benign                   3391  \n",
       "pigmented-lesion-malignant                4593  \n",
       "genodermatosis                            5459  \n",
       "epidermal-tumor-benign                    5588  \n",
       "dermal-tumor-benign                       9148  \n",
       "epidermal-tumor-malignant                11857  \n",
       "inflammatory                             91075  \n",
       "total unique images                     126755  \n",
       "total meta entries                      133251  "
      ]
     },
     "execution_count": 5,
     "metadata": {},
     "output_type": "execute_result"
    }
   ],
   "source": [
    "df = metaToDataFrame(meta)\n",
    "df"
   ]
  },
  {
   "cell_type": "code",
   "execution_count": 6,
   "metadata": {
    "collapsed": false
   },
   "outputs": [
    {
     "data": {
      "text/plain": [
       "{0: 'cutaneous-lymphoma',\n",
       " 1: 'dermal-tumor-benign',\n",
       " 2: 'dermal-tumor-malignant',\n",
       " 3: 'epidermal-tumor-benign',\n",
       " 4: 'epidermal-tumor-malignant',\n",
       " 5: 'genodermatosis',\n",
       " 6: 'inflammatory',\n",
       " 7: 'pigmented-lesion-benign',\n",
       " 8: 'pigmented-lesion-malignant'}"
      ]
     },
     "execution_count": 6,
     "metadata": {},
     "output_type": "execute_result"
    }
   ],
   "source": [
    "classes, labels = rootNodeClasses(meta)\n",
    "setEntries(meta, 'clinical_label', labels)\n",
    "classes"
   ]
  },
  {
   "cell_type": "markdown",
   "metadata": {},
   "source": [
    "# Production Net (w/o ISIC)\n",
    "\n",
    " - for finetuning ISBI"
   ]
  },
  {
   "cell_type": "code",
   "execution_count": 8,
   "metadata": {
    "collapsed": false
   },
   "outputs": [],
   "source": [
    "meta = [m for m in meta if m['database'] != 'isic']\n",
    "classes, labels = rootNodeClasses(meta)\n",
    "setEntries(meta, 'label', labels)\n",
    "setEntries(meta, 'clinical_label', labels)\n",
    "setEntries(meta, 'set_identifier', TRAINING_SET)"
   ]
  },
  {
   "cell_type": "markdown",
   "metadata": {},
   "source": [
    "# Production Net (no test/val)"
   ]
  },
  {
   "cell_type": "code",
   "execution_count": 39,
   "metadata": {
    "collapsed": true
   },
   "outputs": [],
   "source": [
    "classes, labels = rootNodeClasses(meta)\n",
    "setEntries(meta, 'label', labels)\n",
    "setEntries(meta, 'clinical_label', labels)\n",
    "setEntries(meta, 'set_identifier', TRAINING_SET)"
   ]
  },
  {
   "cell_type": "markdown",
   "metadata": {},
   "source": [
    "# Partition Train/Test based on ImageMetaData\n",
    "### note: we must load meta with skinprob and taxpath both to 0.0, then filter below"
   ]
  },
  {
   "cell_type": "code",
   "execution_count": 5,
   "metadata": {
    "collapsed": true
   },
   "outputs": [],
   "source": [
    "# Brett created the test set:\n",
    "meta_test_file = '/media/esteva/ExtraDrive1/ThrunResearch/SKIN-9/experiments/skindata3/imagemeta/meta_test_new.json'\n",
    "meta_test_brett = json.load(open(meta_test_file, 'r'))"
   ]
  },
  {
   "cell_type": "code",
   "execution_count": 50,
   "metadata": {
    "collapsed": false
   },
   "outputs": [],
   "source": [
    "setEntries(meta, 'set_identifier', TRAINING_SET)\n",
    "filename2meta = Filename2meta(meta)\n",
    "\n",
    "classes, labels = rootNodeClasses(meta)\n",
    "setEntries(meta, 'label', labels)\n",
    "setEntries(meta, 'clinical_label', labels)\n",
    "\n",
    "for m in meta_test_brett:\n",
    "    setEntries(filename2meta(m['filename']), 'set_identifier', TESTING_SET)\n",
    "    \n",
    "meta_train = getEntries(meta, 'set_identifier', TRAINING_SET)\n",
    "meta_test = getEntries(meta, 'set_identifier', TESTING_SET)\n",
    "\n",
    "print 'train, val, test'\n",
    "for c in classes:\n",
    "#     t = getEntries(test_set, 'clinical_label', c)\n",
    "    t = getEntries(getEntries(meta, 'set_identifier', TESTING_SET), 'clinical_label', c)\n",
    "    v = getEntries(getEntries(meta, 'set_identifier', VALIDATION_SET), 'clinical_label', c)\n",
    "    r = getEntries(getEntries(meta, 'set_identifier', TRAINING_SET), 'clinical_label', c)\n",
    "    print 'Class %d: %d \\t % d \\t % d' % (c, len(r), len(v), len(t))\n",
    "print ''\n"
   ]
  },
  {
   "cell_type": "markdown",
   "metadata": {},
   "source": [
    "# Partition based on Turked IMD Test Set - 9 way classification"
   ]
  },
  {
   "cell_type": "code",
   "execution_count": 52,
   "metadata": {
    "collapsed": true
   },
   "outputs": [],
   "source": [
    "duplicate_urls = '/media/esteva/ExtraDrive1/ThrunResearch/SKIN-9/experiments/skindata3/imagemeta_turked/json/duplicate_urls.json'\n",
    "duplicates = json.load(open(duplicate_urls, 'r'))\n",
    "max_cost = 0\n",
    "\n",
    "classes, labels = rootNodeClasses(meta)\n",
    "setEntries(meta, 'label', labels)\n",
    "setEntries(meta, 'clinical_label', labels)\n",
    "synset = [' '.join([str(k),v]) for k,v in classes.iteritems()]\n",
    "\n",
    "assign_test_set_based_on_duplicates(meta, duplicates, max_cost)"
   ]
  },
  {
   "cell_type": "markdown",
   "metadata": {},
   "source": [
    "# Partition based on IMD Test Set using Graph Partition\n",
    " - 9 way classification\n",
    " - Make the edge matrix. It will define the connected components\n",
    " - Use IMD\n",
    " - Use duplicate urls from both turking runs\n",
    " - use dermquest IDs"
   ]
  },
  {
   "cell_type": "code",
   "execution_count": 22,
   "metadata": {
    "collapsed": false
   },
   "outputs": [
    {
     "name": "stdout",
     "output_type": "stream",
     "text": [
      "[FUNC: insert_datetime_field] Skipping 172 entries that could not load datetime\n",
      "46288 Entries have the datetime metadata\n",
      "Calculating time-camera edge matrix...\n",
      "40000 / 43591 Elapsed Time: 3.45648479462 Time Remaining: 0.310211755023 Elapsed Time:  31.0210039616\n"
     ]
    }
   ],
   "source": [
    "# Calculate time-camera edge matrix as a sparse matrix (about 2 minutes)\n",
    "from lib.taxonomy.edge_extraction import *\n",
    "\n",
    "meta = meta_all\n",
    "for i,m in enumerate(meta):\n",
    "    m['index'] = i\n",
    "    \n",
    "insert_datetime_field(meta)\n",
    "insert_abs_time_field(meta)\n",
    "\n",
    "meta_datetime = getEntries(meta, 'datetime', None)\n",
    "cameras, camera_models = extract_cameras(meta_datetime)\n",
    "abs_times = np.array([m['abs_time'] for m in meta_datetime]).reshape((-1,1))\n",
    "cam_indx = np.array([camera_models[c] for c in cameras]).reshape((-1,1))\n",
    "print '%d Entries have the datetime metadata' % len(meta_datetime)\n",
    "\n",
    "print 'Calculating time-camera edge matrix...'\n",
    "M = len(meta_datetime)\n",
    "N = len(meta)\n",
    "\n",
    "t = tic()\n",
    "edge, _, _= edge_matrix(abs_times, cam_indx)\n",
    "edge = squareform_sparse(edge, M)\n",
    "toc(t)\n",
    "\n"
   ]
  },
  {
   "cell_type": "code",
   "execution_count": 28,
   "metadata": {
    "collapsed": true
   },
   "outputs": [],
   "source": [
    "# Initialize the N x N Edge matrix\n",
    "# (will add edges to it, below)\n",
    "\n",
    "import scipy.sparse as sp\n",
    "E = sp.lil_matrix((N,N), dtype=bool)"
   ]
  },
  {
   "cell_type": "code",
   "execution_count": 29,
   "metadata": {
    "collapsed": false
   },
   "outputs": [
    {
     "name": "stdout",
     "output_type": "stream",
     "text": [
      "Adding 43591 edges to the graph\n"
     ]
    }
   ],
   "source": [
    "# Insert the datetime edges\n",
    "c = 0\n",
    "for i,j,v in sparse_matrix_iterator(edge):\n",
    "    if v:\n",
    "        c += 1\n",
    "        idx_i = meta_datetime[i]['index']\n",
    "        idx_j = meta_datetime[j]['index']\n",
    "        E[idx_i, idx_j] = v   \n",
    "print 'Adding %d edges to the graph' % c"
   ]
  },
  {
   "cell_type": "code",
   "execution_count": 30,
   "metadata": {
    "collapsed": false
   },
   "outputs": [
    {
     "name": "stdout",
     "output_type": "stream",
     "text": [
      "Adding 2647 edges to the graph\n",
      "Adding 5183 edges to the graph\n"
     ]
    }
   ],
   "source": [
    "# Add into the edge matrix the duplicates of turk2 and turk 1\n",
    "turk_results = [\n",
    "    '/media/esteva/ExtraDrive1/ThrunResearch/SKIN-9/experiments/skindata3/imagemeta_turked/json/duplicate_urls.json',\n",
    "    '/media/esteva/ExtraDrive1/ThrunResearch/SKIN-9/experiments/skindata3/turk/duplicate_urls.json'\n",
    "    ]\n",
    "\n",
    "def dict2list(dict_):\n",
    "    list_ = []\n",
    "    for key, value in dict_.iteritems():\n",
    "        d = [key]\n",
    "        d.extend([v for v in value])\n",
    "        list_.append(d)   \n",
    "    return list_\n",
    "\n",
    "for tr in turk_results:\n",
    "    turk = json.load(open(tr, 'r'))\n",
    "    duplicates = dict2list(turk)\n",
    "    insert_edges_into_edge_matrix(E, duplicates, meta, field_name='file_name')\n",
    "    print 'Adding %d edges to the graph' % np.sum([len(v)-1 for v in duplicates])"
   ]
  },
  {
   "cell_type": "code",
   "execution_count": 31,
   "metadata": {
    "collapsed": false
   },
   "outputs": [
    {
     "name": "stdout",
     "output_type": "stream",
     "text": [
      "Adding 17204 edges to the graph\n"
     ]
    }
   ],
   "source": [
    "# Add dermquest ids into the graph.\n",
    "dermquest = getEntries(meta, 'database', 'dermquest')\n",
    "dermquest = getEntries(dermquest, 'case', None)\n",
    "case2meta = Field2meta(dermquest, field='case')\n",
    "cases = np.unique(getEntryValues(dermquest, 'case'))\n",
    "duplicates = [[m['index'] for m in case2meta(case)] for case in cases]\n",
    "insert_edges_into_edge_matrix(E, duplicates, meta, field_name='index')\n",
    "print 'Adding %d edges to the graph' % np.sum([len(v)-1 for v in duplicates])"
   ]
  },
  {
   "cell_type": "code",
   "execution_count": 32,
   "metadata": {
    "collapsed": false
   },
   "outputs": [
    {
     "name": "stdout",
     "output_type": "stream",
     "text": [
      "Adding 21509 edges to the graph\n"
     ]
    }
   ],
   "source": [
    "# Add meta entries that share the same filenames as edges\n",
    "filename2meta = Field2meta(meta, field='file_name')\n",
    "filenames = np.unique([m['file_name'] for m in meta])\n",
    "duplicates = []\n",
    "for fn in filenames:\n",
    "    meta_filename = filename2meta(fn)\n",
    "    if len(meta_filename) == 0:\n",
    "        print 'wtf'\n",
    "        break\n",
    "    if len(meta_filename) > 1:\n",
    "        duplicates.append([m['index'] for m in meta_filename])\n",
    "insert_edges_into_edge_matrix(E, duplicates, meta, field_name='index')\n",
    "print 'Adding %d edges to the graph' % np.sum([len(v)-1 for v in duplicates])        "
   ]
  },
  {
   "cell_type": "code",
   "execution_count": 33,
   "metadata": {
    "collapsed": false
   },
   "outputs": [
    {
     "name": "stdout",
     "output_type": "stream",
     "text": [
      "We find 236151 connected components\n"
     ]
    }
   ],
   "source": [
    "# Extract connected components and assign them to the meta\n",
    "n_components, connected_components = sp.csgraph.connected_components(E, directed=False)\n",
    "unique_component_numbers, component_sizes = np.unique(connected_components, return_counts=True)\n",
    "\n",
    "for m, c in zip(meta, connected_components):\n",
    "    m['connected_component'] = c\n",
    "print 'We find %d connected components' % n_components"
   ]
  },
  {
   "cell_type": "code",
   "execution_count": 34,
   "metadata": {
    "collapsed": false
   },
   "outputs": [
    {
     "name": "stdout",
     "output_type": "stream",
     "text": [
      "Proposed Test Set has 20957 entries\n"
     ]
    }
   ],
   "source": [
    "# Propose a test set (from the turked set)\n",
    "test_set = '/media/esteva/ExtraDrive1/ThrunResearch/SKIN-9/experiments/skindata3/imagemeta_turked/json/duplicate_urls.json'\n",
    "test_set = json.load(open(test_set, 'r'))\n",
    "test_set = [key for key in test_set.keys()]\n",
    "\n",
    "filename2meta = Field2meta(meta, field='file_name')\n",
    "cc2meta = Field2meta(meta, field='connected_component')\n",
    "\n",
    "meta_test = [m for fn in test_set for m in filename2meta(fn)]\n",
    "setEntries(meta, 'set_identifier', TRAINING_SET)\n",
    "setEntries(meta_test, 'set_identifier', TESTING_SET)\n",
    "\n",
    "print 'Proposed Test Set has %d entries' % len(meta_test)"
   ]
  },
  {
   "cell_type": "code",
   "execution_count": 35,
   "metadata": {
    "collapsed": false
   },
   "outputs": [
    {
     "name": "stdout",
     "output_type": "stream",
     "text": [
      "Partitioned Test Set has 19643 meta entries\n"
     ]
    }
   ],
   "source": [
    "# Iterate over elements of the test set and push connected components to train or test\n",
    "\n",
    "def component_is_split(comp):\n",
    "    \"\"\"Returns true if this component is split between train and test\"\"\"\n",
    "    set_ids = set([m['set_identifier'] for m in comp if m['set_identifier'] != NO_SET])    \n",
    "    return len(set_ids) == 2\n",
    "\n",
    "def random_partition(meta_test, return_splits=False):\n",
    "    \"\"\"Randomly partitions the components of meta_test to train/test by flipping a coin.\"\"\"\n",
    "    split_comps = []\n",
    "    for m in meta_test:\n",
    "        comp = cc2meta(m['connected_component'])    \n",
    "        if component_is_split(comp):\n",
    "            if np.random.rand() < 0.5:\n",
    "                setEntries(comp, 'set_identifier', TRAINING_SET)\n",
    "            else:\n",
    "                setEntries(comp, 'set_identifier', TESTING_SET)\n",
    "            split_comps.append(comp)\n",
    "    if return_splits:\n",
    "        return split_comps        \n",
    "    \n",
    "def maxset_partition(meta_test):\n",
    "    \"\"\"Deterministically place component into whichever set they already have more images of.\"\"\"\n",
    "    for m in meta_test:\n",
    "        comp = cc2meta(m['connected_component'])    \n",
    "        if component_is_split(comp):\n",
    "            N_test = len(getEntries(comp, 'set_identifier', TESTING_SET))\n",
    "            N_train = len(getEntries(comp, 'set_identifier', TRAINING_SET))\n",
    "            if N_test >= N_train:\n",
    "                setEntries(comp, 'set_identifier', TESTING_SET)\n",
    "            else:\n",
    "                setEntries(comp, 'set_identifier', TRAINING_SET)        \n",
    "\n",
    "maxset_partition(meta_test)\n",
    "meta_test = getEntries(meta, 'set_identifier', TESTING_SET)\n",
    "\n",
    "print 'Partitioned Test Set has %d meta entries' % len(meta_test)"
   ]
  },
  {
   "cell_type": "code",
   "execution_count": 36,
   "metadata": {
    "collapsed": false
   },
   "outputs": [
    {
     "name": "stdout",
     "output_type": "stream",
     "text": [
      "Pruning out 157358 / 290609 meta entries to NO_SET and assigning labels and clinical labels\n",
      "Final size of meta_train 115439\n",
      "Final size of meta_test 17812\n"
     ]
    }
   ],
   "source": [
    "# Assign NO_SET to meta entries that dont make the threshold, and reduce meta to just those that do.\n",
    "# We both assigning NO_SET so that meta_all is a reflection of meta but with the extra entries as NO_SET\n",
    "\n",
    "meta = meta_all\n",
    "pruned = 0\n",
    "for m in meta:\n",
    "    if 'skin_prob' not in m.keys() or 'tax_path_score' not in m.keys() or not m['tax_path']:\n",
    "        m['set_identifier'] = NO_SET\n",
    "        pruned += 1\n",
    "        continue\n",
    "    if m['skin_prob'] < skin_prob or m['tax_path_score'] < tax_path_score:\n",
    "        m['set_identifier'] = NO_SET\n",
    "        pruned += 1\n",
    "        \n",
    "meta = [m for m in meta if m['set_identifier'] in [TRAINING_SET, TESTING_SET]]\n",
    "classes, labels = rootNodeClasses(meta)\n",
    "setEntries(meta, 'label', labels)\n",
    "setEntries(meta, 'clinical_label', labels)\n",
    "\n",
    "meta_train = getEntries(meta, 'set_identifier', TRAINING_SET)\n",
    "meta_test = getEntries(meta, 'set_identifier', TESTING_SET)\n",
    "synset = gatherSynset(meta_train)\n",
    "\n",
    "print 'Pruning out %d / %d meta entries to NO_SET and assigning labels and clinical labels' % (pruned, len(meta_all))\n",
    "print 'Final size of meta_train %d' % len(meta_train)\n",
    "print 'Final size of meta_test %d' % len(meta_test)\n"
   ]
  },
  {
   "cell_type": "markdown",
   "metadata": {},
   "source": [
    "### Analysis of cluster labels"
   ]
  },
  {
   "cell_type": "code",
   "execution_count": 41,
   "metadata": {
    "collapsed": true
   },
   "outputs": [],
   "source": [
    "# Q: What is the average intra-cluster label variability?\n",
    "# \n",
    "cc2meta = Field2meta(meta, field='connected_component')\n",
    "n_components, connected_components = sp.csgraph.connected_components(E, directed=False)\n",
    "unique_component_numbers, component_sizes = np.unique(connected_components, return_counts=True)"
   ]
  },
  {
   "cell_type": "code",
   "execution_count": 58,
   "metadata": {
    "collapsed": false
   },
   "outputs": [
    {
     "name": "stdout",
     "output_type": "stream",
     "text": [
      "The fraction of clusters with at least two meta entries that have multiple rootnode labels: 0.13\n"
     ]
    }
   ],
   "source": [
    "multiclass = 0\n",
    "real_cluster = 0\n",
    "multiclass_clusters = []\n",
    "for u in unique_component_numbers:\n",
    "    comp = cc2meta(u)\n",
    "    if len(comp) > 1:\n",
    "        real_cluster += 1\n",
    "    clin_labels = np.unique([m['clinical_label'] for m in comp])\n",
    "    if len(clin_labels) > 1:\n",
    "        multiclass_clusters.append(comp)\n",
    "        multiclass += 1\n",
    "frac = 1.0 * multiclass / real_cluster\n",
    "print 'The fraction of clusters with at least two meta entries that have multiple rootnode labels: %0.2f' % frac\n"
   ]
  },
  {
   "cell_type": "code",
   "execution_count": 82,
   "metadata": {
    "collapsed": false
   },
   "outputs": [
    {
     "name": "stdout",
     "output_type": "stream",
     "text": [
      "Of the clusters that have multiple clinical labels, on average, the majority label accounts for only\n",
      "    62.29%  of the cluster\n"
     ]
    }
   ],
   "source": [
    "def cluster_majority(cluster):\n",
    "    labels = [m['clinical_label'] for m in cluster]\n",
    "    labels, counts = np.unique(labels, return_counts=True)\n",
    "    return labels[counts == max(counts)][0], max(counts)\n",
    "\n",
    "def cluster_nonmajority(cluster):\n",
    "    labels = [m['clinical_label'] for m in cluster]\n",
    "    labels, counts = np.unique(labels, return_counts=True)\n",
    "    return labels[counts != max(counts)][0], np.sum(counts) - max(counts)\n",
    "\n",
    "\n",
    "ratios = []\n",
    "for cluster in multiclass_clusters:\n",
    "    labels = [m['clinical_label'] for m in cluster]\n",
    "    labels, counts = np.unique(labels, return_counts=True)\n",
    "    max_ = max(counts)\n",
    "    ratio = 1.0 * max_ / np.sum(counts) \n",
    "    ratios.append(ratio)   \n",
    "            \n",
    "print 'Of the clusters that have multiple clinical labels, on average, the majority label accounts for only'\n",
    "print '    %0.2f%%  of the cluster' % (100 * np.mean(ratios))\n"
   ]
  },
  {
   "cell_type": "code",
   "execution_count": 83,
   "metadata": {
    "collapsed": false
   },
   "outputs": [
    {
     "data": {
      "text/plain": [
       "1372"
      ]
     },
     "execution_count": 83,
     "metadata": {},
     "output_type": "execute_result"
    }
   ],
   "source": [
    "len(multiclass_clusters)"
   ]
  },
  {
   "cell_type": "markdown",
   "metadata": {},
   "source": [
    "### Analysis of component quilts"
   ]
  },
  {
   "cell_type": "code",
   "execution_count": 78,
   "metadata": {
    "collapsed": false
   },
   "outputs": [
    {
     "data": {
      "text/plain": [
       "<matplotlib.text.Text at 0x7f3519e3db50>"
      ]
     },
     "execution_count": 78,
     "metadata": {},
     "output_type": "execute_result"
    },
    {
     "data": {
      "image/png": "[encoded data removed]",
      "text/plain": [
       "<matplotlib.figure.Figure at 0x7f354c45e850>"
      ]
     },
     "metadata": {},
     "output_type": "display_data"
    }
   ],
   "source": [
    "plt.plot(np.sort(component_sizes)[-1:-500:-1])\n",
    "plt.title('Distribution of Connected Component sizes')"
   ]
  },
  {
   "cell_type": "code",
   "execution_count": 109,
   "metadata": {
    "collapsed": false
   },
   "outputs": [],
   "source": [
    "# Quilt components in descending order of size and save to disk for manual analysis\n",
    "\n",
    "from lib.learning import retrieval\n",
    "\n",
    "def quilt_component(meta_component):\n",
    "    N = 20\n",
    "    paths = [osp.join(dataset_directory, imagePath(m)) for m in meta_component]\n",
    "    while len(paths) % N != 0:\n",
    "        paths.append('/home/esteva/Pictures/black_background.jpg')\n",
    "    paths = np.array(paths).reshape((-1,10))\n",
    "    paths = [list(p) for p in paths]\n",
    "    quilt = retrieval.quiltTheImages(paths, inscribedText=None)\n",
    "    return quilt, paths\n",
    "\n",
    "cc2meta = Field2meta(meta, field='connected_component')\n",
    "pruned_component_sizes = [len(cc2meta(ucn)) for ucn in unique_component_numbers]\n",
    "sizes = np.sort(pruned_component_sizes)[-1::-1]\n",
    "for i, size in enumerate(sizes[:200]):\n",
    "    print '\\rProcessing quilt %d of size %d' % (i, size),\n",
    "    ucns = unique_component_numbers[pruned_component_sizes == size]\n",
    "    for u in ucns:\n",
    "        comp = cc2meta(u)\n",
    "        assert size == len(comp)\n",
    "        q, paths = quilt_component(comp)\n",
    "        name = 'graph_components/quilt_%d_size=%d_label=%d' % (i, size, u)\n",
    "        q.save(name, 'png')"
   ]
  },
  {
   "cell_type": "markdown",
   "metadata": {},
   "source": [
    "# Partition Train/Test/Val based on Turked Test set - 9 way classification"
   ]
  },
  {
   "cell_type": "code",
   "execution_count": 51,
   "metadata": {
    "collapsed": false
   },
   "outputs": [],
   "source": [
    "duplicate_urls = '/media/esteva/ExtraDrive1/ThrunResearch/SKIN-9/experiments/skindata3/turk/duplicate_urls.json'\n",
    "duplicates = json.load(open(duplicate_urls, 'r'))\n",
    "max_cost = 2\n",
    "\n",
    "classes, labels = rootNodeClasses(meta)\n",
    "setEntries(meta, 'label', labels)\n",
    "setEntries(meta, 'clinical_label', labels)\n",
    "synset = [' '.join([str(k),v]) for k,v in classes.iteritems()]\n",
    "\n",
    "assign_test_set_based_on_duplicates(meta, duplicates, max_cost)"
   ]
  },
  {
   "cell_type": "code",
   "execution_count": 32,
   "metadata": {
    "collapsed": true
   },
   "outputs": [],
   "source": [
    "# Create a validation set if desired\n",
    "val_databases = ['dermaamin', 'dermnet', 'dermatoweb', 'atlas', 'dermis', 'german'] \n",
    "meta_train = getEntries(meta, 'set_identifier', TRAINING_SET)\n",
    "meta_train_topdb = getEntries(meta_train, 'database', val_databases)\n",
    "# leafNodeTraining(meta_train_topdb, classes, numImagesPerClassForValidation=0, numImagesPerClassForTesting=0)"
   ]
  },
  {
   "cell_type": "code",
   "execution_count": 57,
   "metadata": {
    "collapsed": false
   },
   "outputs": [
    {
     "name": "stdout",
     "output_type": "stream",
     "text": [
      "train, val, test\n",
      "Class 0: 979 \t  0 \t  128\n",
      "Class 1: 7889 \t  0 \t  1259\n",
      "Class 2: 906 \t  0 \t  127\n",
      "Class 3: 4530 \t  0 \t  1058\n",
      "Class 4: 8715 \t  0 \t  3142\n",
      "Class 5: 5015 \t  0 \t  444\n",
      "Class 6: 80496 \t  0 \t  10579\n",
      "Class 7: 2685 \t  0 \t  706\n",
      "Class 8: 4267 \t  0 \t  326\n",
      "\n"
     ]
    },
    {
     "data": {
      "text/plain": [
       "<Container object of 9 artists>"
      ]
     },
     "execution_count": 57,
     "metadata": {},
     "output_type": "execute_result"
    },
    {
     "data": {
      "image/png": "[encoded data removed]",
      "text/plain": [
       "<matplotlib.figure.Figure at 0x7efef5e1cf90>"
      ]
     },
     "metadata": {},
     "output_type": "display_data"
    }
   ],
   "source": [
    "print 'train, val, test'\n",
    "test_N = []\n",
    "for c in classes:\n",
    "#     t = getEntries(test_set, 'clinical_label', c)\n",
    "    t = getEntries(getEntries(meta, 'set_identifier', TESTING_SET), 'clinical_label', c)\n",
    "    v = getEntries(getEntries(meta, 'set_identifier', VALIDATION_SET), 'clinical_label', c)\n",
    "    r = getEntries(getEntries(meta, 'set_identifier', TRAINING_SET), 'clinical_label', c)\n",
    "    print 'Class %d: %d \\t % d \\t % d' % (c, len(r), len(v), len(t))\n",
    "    test_N.append(len(t))\n",
    "print ''\n",
    "plt.bar(range(9), test_N)"
   ]
  },
  {
   "cell_type": "code",
   "execution_count": 58,
   "metadata": {
    "collapsed": false
   },
   "outputs": [
    {
     "data": {
      "text/plain": [
       "{0: 'cutaneous-lymphoma',\n",
       " 1: 'dermal-tumor-benign',\n",
       " 2: 'dermal-tumor-malignant',\n",
       " 3: 'epidermal-tumor-benign',\n",
       " 4: 'epidermal-tumor-malignant',\n",
       " 5: 'genodermatosis',\n",
       " 6: 'inflammatory',\n",
       " 7: 'pigmented-lesion-benign',\n",
       " 8: 'pigmented-lesion-malignant'}"
      ]
     },
     "execution_count": 58,
     "metadata": {},
     "output_type": "execute_result"
    }
   ],
   "source": [
    "classes"
   ]
  },
  {
   "cell_type": "markdown",
   "metadata": {},
   "source": [
    "# Dermquest IDs"
   ]
  },
  {
   "cell_type": "markdown",
   "metadata": {},
   "source": [
    "### 6 way classification"
   ]
  },
  {
   "cell_type": "code",
   "execution_count": 244,
   "metadata": {
    "collapsed": false
   },
   "outputs": [],
   "source": [
    "classes, labels = skin6Classes(meta)\n",
    "for k,v in classes.iteritems():\n",
    "    print k,v, sum(labels == k)\n",
    "print ''\n",
    "setEntries(meta, 'label', labels)\n",
    "\n",
    "print 'Dermquest:'\n",
    "print 'Images/Class, Number of Unique Cases'\n",
    "dermquest = [m for m in meta if 'dermquest' == m['database']]\n",
    "for c in classes:\n",
    "    class_ = [m for m in dermquest if m['label'] == c]\n",
    "    num_unique = len(np.unique([m['case'] for m in class_]))\n",
    "    print len(class_),'\\t\\t', num_unique\n",
    "print\n",
    "    \n",
    "dermQuestIDTraining(meta, classes, numImagesPerClassForValidation=150, database_exclusions=['X', 'mice'])\n",
    "\n",
    "getClassFromValidationSet = lambda meta, c: [m for m in meta if m['set_identifier'] == VALIDATION_SET and m['label'] == c]\n",
    "getClassFromTrainingSet = lambda meta, c: [m for m in meta if m['set_identifier'] == TRAINING_SET and m['label'] == c]\n",
    "print 'Dataset sizes:'\n",
    "print 'Val, Train, Total'\n",
    "val_size = 0\n",
    "train_size = 0\n",
    "total = 0\n",
    "for c in classes:\n",
    "    v = len(getClassFromValidationSet(meta, c))\n",
    "    t = len(getClassFromTrainingSet(meta, c))\n",
    "    val_size += v\n",
    "    train_size += t\n",
    "    total += v + t\n",
    "    print v, '\\t',t,'\\t', v + t    \n",
    "\n",
    "print ''\n",
    "print val_size, '\\t', train_size, '\\t', total\n",
    "\n",
    "plt.bar(np.unique(labels), num_images)\n",
    "plt.show()\n",
    "\n",
    "print 'Validation Set Databases:'\n",
    "print {m['database'] for m in meta if m['set_identifier'] == VALIDATION_SET}"
   ]
  },
  {
   "cell_type": "markdown",
   "metadata": {},
   "source": [
    "### 9 way classification"
   ]
  },
  {
   "cell_type": "code",
   "execution_count": 10,
   "metadata": {
    "collapsed": false,
    "scrolled": false
   },
   "outputs": [
    {
     "name": "stdout",
     "output_type": "stream",
     "text": [
      "Images/Class, Number of Unique Cases\n",
      "73 \t\t23\n",
      "1554 \t\t648\n",
      "98 \t\t27\n",
      "1826 \t\t734\n",
      "5098 \t\t1232\n",
      "326 \t\t100\n",
      "11896 \t\t3583\n",
      "1172 \t\t481\n",
      "382 \t\t105\n",
      "\n",
      "Supplementing... Suppllementing Class: 0\n",
      "Suppllementing Class: 0\n",
      "Suppllementing Class: 0\n",
      "Suppllementing Class: 0\n",
      "Suppllementing Class: 0\n",
      "Suppllementing Class: 0\n",
      "Suppllementing Class: 2\n",
      "Suppllementing Class: 2\n",
      "Suppllementing Class: 2\n",
      "Suppllementing Class: 2\n",
      "Suppllementing Class: 2\n",
      "Suppllementing Class: 2\n",
      "Suppllementing Class: 2\n",
      "\n",
      "Val Size, Train Size, Total\n",
      "263 \t844 \t1107\n",
      "200 \t8948 \t9148\n",
      "213 \t820 \t1033\n",
      "201 \t5387 \t5588\n",
      "200 \t11657 \t11857\n",
      "200 \t5259 \t5459\n",
      "200 \t90875 \t91075\n",
      "201 \t3190 \t3391\n",
      "205 \t4388 \t4593\n",
      "\n",
      "The validation set has 171 seborrheic keratosis\n"
     ]
    }
   ],
   "source": [
    "# Assign root-node based labels\n",
    "classes, labels = rootNodeClasses(meta)\n",
    "setEntries(meta, 'label', labels)\n",
    "setEntries(meta, 'clinical_label', labels)\n",
    "\n",
    "# Print dermquest information.\n",
    "print 'Images/Class, Number of Unique Cases'\n",
    "dermquest = [m for m in meta if 'dermquest' == m['database']]\n",
    "for c in classes:\n",
    "    class_ = [m for m in dermquest if m['label'] == c]\n",
    "    num_unique = len(np.unique([m['case'] for m in class_]))\n",
    "    print len(class_),'\\t\\t', num_unique\n",
    "print\n",
    "    \n",
    "# Split train/test based on dermquest IDs.\n",
    "dermQuestIDTraining(meta, classes, numImagesPerClassForValidation=200, database_exclusions=['X'])\n",
    "\n",
    "# Print diagnostics on chosen datasets.\n",
    "getClassFromValidationSet = lambda meta, c: [m for m in meta if m['set_identifier'] == VALIDATION_SET and m['label'] == c]\n",
    "getClassFromTrainingSet = lambda meta, c: [m for m in meta if m['set_identifier'] == TRAINING_SET and m['label'] == c]\n",
    "print 'Val Size, Train Size, Total'\n",
    "for c in classes:\n",
    "    v = len(getClassFromValidationSet(meta, c))\n",
    "    t = len(getClassFromTrainingSet(meta, c))\n",
    "    print v, '\\t',t,'\\t', v + t    \n",
    "    \n",
    "    \n",
    "# Print some interesting information about seborrheic keratosis\n",
    "def containsDiseaseWord(entry, word):\n",
    "    \"\"\"Check if entry is a seborrheic keratosis.\"\"\"\n",
    "    tax_path = entry['tax_path']\n",
    "    for node in tax_path:\n",
    "        for node_word in node:\n",
    "            if word in node_word:\n",
    "                return True\n",
    "\n",
    "def isSeborrheicKeratosis(entry):\n",
    "    k = containsDiseaseWord(entry, 'keratosis')\n",
    "    s = containsDiseaseWord(entry, 'seborrheic')\n",
    "    return k and s \n",
    "    \n",
    "print '\\nThe validation set has',\n",
    "sk = [m for m in meta if isSeborrheicKeratosis(m) and m['set_identifier'] == VALIDATION_SET]\n",
    "print len(sk), 'seborrheic keratosis'\n",
    "\n",
    "synset = [' '.join([str(k),v]) for k,v in classes.iteritems()]"
   ]
  },
  {
   "cell_type": "markdown",
   "metadata": {},
   "source": [
    "# Tree Learning"
   ]
  },
  {
   "cell_type": "markdown",
   "metadata": {},
   "source": [
    "### Recursive Dividing\n",
    " - recursively descends the taxonomy\n",
    " - splits up any node that has N>1000, where N is the number of images contained in it and its descendants\n",
    " - It splits up that node into its children.\n",
    " - Q: How to deal with classes that end up with tiny amounts of data?"
   ]
  },
  {
   "cell_type": "code",
   "execution_count": 9,
   "metadata": {
    "collapsed": false
   },
   "outputs": [
    {
     "name": "stdout",
     "output_type": "stream",
     "text": [
      "Initializing Taxonomy\n",
      "Creating vertices...\n",
      "Distributing metadata entries...\n",
      "Initializing vertex variables...\n",
      "Identifying root nodes...\n",
      "Adding top node...\n",
      "\n",
      "Applying Treelearing: Recursive Dividing with N=1000\n"
     ]
    }
   ],
   "source": [
    "classes, labels = rootNodeClasses(meta)\n",
    "setEntries(meta, 'label', labels)\n",
    "setEntries(meta, 'clinical_label', labels)\n",
    "meta_train = getEntries(meta, 'set_identifier', TRAINING_SET)\n",
    "taxonomy = Taxonomy(meta_train)\n",
    "print ''\n",
    "\n",
    "N = 1000\n",
    "print 'Applying Treelearing: Recursive Dividing with N=%d' % N\n",
    "new_classes = recursive_division(taxonomy.top_node, N)\n",
    "for i, new_class in enumerate(new_classes):\n",
    "    for entry in new_class:\n",
    "        entry['label'] = i\n",
    "synset = gatherSynset(meta_train)"
   ]
  },
  {
   "cell_type": "markdown",
   "metadata": {},
   "source": [
    "### Node-based classes"
   ]
  },
  {
   "cell_type": "code",
   "execution_count": 25,
   "metadata": {
    "collapsed": false
   },
   "outputs": [
    {
     "name": "stdout",
     "output_type": "stream",
     "text": [
      "Initializing Taxonomy\n",
      "Creating vertices...\n",
      "Distributing metadata entries...\n",
      "Initializing vertex variables...\n",
      "Identifying root nodes...\n",
      "Adding top node...\n",
      "Applying TreeLearning: Node-based classes\n"
     ]
    }
   ],
   "source": [
    "classes, labels = rootNodeClasses(meta)\n",
    "setEntries(meta, 'label', labels)\n",
    "setEntries(meta, 'clinical_label', labels)\n",
    "meta_train = getEntries(meta, 'set_identifier', TRAINING_SET)\n",
    "taxonomy = Taxonomy(meta_train)\n",
    "\n",
    "print 'Applying TreeLearning: Node-based classes'\n",
    "new_classes = node_based_classes(taxonomy)\n",
    "\n",
    "for i, new_class in enumerate(new_classes):\n",
    "    for entry in new_class:\n",
    "        entry['label'] = i\n",
    "synset = gatherSynset(meta_train)"
   ]
  },
  {
   "cell_type": "markdown",
   "metadata": {},
   "source": [
    "### Merging-Depth-1\n",
    " - This descends one level of the taxonomy and creates new classes based on data availablility\n",
    " - Given a minimum class size m, if size(class) >= 2m, it splits up a class into subclasses\n",
    " - Each set of subclasses for a given root node is determined as follows:\n",
    " \n",
    "     1) Take all child nodes of the root node and calculate the number of images in each <br>\n",
    "     2) lump together random child nodes until each cluster of child nodes contains at least m images <br>\n",
    "     3) Define a new class for each cluster of child nodes <br>\n",
    " \n",
    " \n",
    " - At inference time, a prediction for a subclass of a root-node is treated as a prediction for that root node"
   ]
  },
  {
   "cell_type": "code",
   "execution_count": 7,
   "metadata": {
    "collapsed": false,
    "scrolled": true
   },
   "outputs": [],
   "source": [
    "# Assign root-node based labels\n",
    "classes, labels = rootNodeClasses(meta)\n",
    "setEntries(meta, 'label', labels)\n",
    "setEntries(meta, 'clinical_label', labels)\n",
    "\n",
    "meta_train = [m for m in meta if m['set_identifier'] == TRAINING_SET]\n",
    "meta_val = [m for m in meta if m['set_identifier'] == VALIDATION_SET]\n",
    "meta_test = [m for m in meta if m['set_identifier'] == TESTING_SET]\n",
    "\n",
    "# Apply new labels to the training set\n",
    "taxonomyLearning_depth1Mergers(meta_train, 250)\n",
    "\n",
    "# Labels for validation and test set should be clinical\n",
    "setEntries(meta_val, \"label\", [m[\"clinical_label\"] for m in meta_val])\n",
    "setEntries(meta_test, \"label\", [m[\"clinical_label\"] for m in meta_test])\n",
    "\n",
    "# Create synset from generated classes.\n",
    "synset = gatherSynset(meta_train)\n",
    "  \n"
   ]
  },
  {
   "cell_type": "markdown",
   "metadata": {},
   "source": [
    "### Print diagnostics on the new treelearning labels"
   ]
  },
  {
   "cell_type": "code",
   "execution_count": 275,
   "metadata": {
    "collapsed": false,
    "scrolled": true
   },
   "outputs": [
    {
     "name": "stdout",
     "output_type": "stream",
     "text": [
      "Clinical Class: 0 cutaneous-lymphoma\n",
      "Label 0 Num Images: 978\n",
      "\n",
      "Clinical Class: 1 dermal-tumor-benign\n",
      "Label 1 Num Images: 117\n",
      "Label 2 Num Images: 8\n",
      "Label 3 Num Images: 133\n",
      "Label 4 Num Images: 1\n",
      "Label 5 Num Images: 4\n",
      "Label 6 Num Images: 34\n",
      "Label 7 Num Images: 57\n",
      "Label 8 Num Images: 32\n",
      "Label 9 Num Images: 29\n",
      "Label 10 Num Images: 9\n",
      "Label 11 Num Images: 272\n",
      "Label 12 Num Images: 74\n",
      "Label 13 Num Images: 94\n",
      "Label 14 Num Images: 317\n",
      "Label 15 Num Images: 30\n",
      "Label 16 Num Images: 313\n",
      "Label 17 Num Images: 2\n",
      "Label 18 Num Images: 4\n",
      "Label 19 Num Images: 63\n",
      "Label 20 Num Images: 15\n",
      "Label 21 Num Images: 28\n",
      "Label 22 Num Images: 6\n",
      "Label 23 Num Images: 4\n",
      "Label 24 Num Images: 28\n",
      "Label 25 Num Images: 1\n",
      "Label 26 Num Images: 7\n",
      "Label 27 Num Images: 23\n",
      "Label 28 Num Images: 21\n",
      "Label 29 Num Images: 244\n",
      "Label 30 Num Images: 54\n",
      "Label 31 Num Images: 656\n",
      "Label 32 Num Images: 27\n",
      "Label 33 Num Images: 29\n",
      "Label 34 Num Images: 4\n",
      "Label 35 Num Images: 416\n",
      "Label 36 Num Images: 4\n",
      "Label 37 Num Images: 1\n",
      "Label 38 Num Images: 420\n",
      "Label 39 Num Images: 30\n",
      "Label 40 Num Images: 6\n",
      "Label 41 Num Images: 16\n",
      "Label 42 Num Images: 614\n",
      "Label 43 Num Images: 96\n",
      "Label 44 Num Images: 13\n",
      "Label 45 Num Images: 26\n",
      "Label 46 Num Images: 68\n",
      "Label 47 Num Images: 72\n",
      "Label 48 Num Images: 1\n",
      "Label 49 Num Images: 16\n",
      "Label 50 Num Images: 23\n",
      "Label 51 Num Images: 18\n",
      "Label 52 Num Images: 51\n",
      "Label 53 Num Images: 14\n",
      "Label 54 Num Images: 4\n",
      "Label 55 Num Images: 25\n",
      "Label 56 Num Images: 8\n",
      "Label 57 Num Images: 1\n",
      "Label 58 Num Images: 144\n",
      "Label 59 Num Images: 15\n",
      "Label 60 Num Images: 65\n",
      "Label 61 Num Images: 6\n",
      "Label 62 Num Images: 52\n",
      "Label 63 Num Images: 44\n",
      "Label 64 Num Images: 36\n",
      "Label 65 Num Images: 717\n",
      "Label 66 Num Images: 62\n",
      "Label 67 Num Images: 2\n",
      "Label 68 Num Images: 102\n",
      "Label 69 Num Images: 53\n",
      "Label 70 Num Images: 20\n",
      "Label 71 Num Images: 98\n",
      "Label 72 Num Images: 16\n",
      "Label 73 Num Images: 36\n",
      "Label 74 Num Images: 10\n",
      "Label 75 Num Images: 85\n",
      "Label 76 Num Images: 119\n",
      "Label 77 Num Images: 45\n",
      "Label 78 Num Images: 177\n",
      "Label 79 Num Images: 3\n",
      "Label 80 Num Images: 42\n",
      "Label 81 Num Images: 104\n",
      "Label 82 Num Images: 516\n",
      "Label 83 Num Images: 451\n",
      "Label 84 Num Images: 8\n",
      "Label 85 Num Images: 92\n",
      "\n",
      "Clinical Class: 2 dermal-tumor-malignant\n",
      "Label 86 Num Images: 881\n",
      "\n",
      "Clinical Class: 3 epidermal-tumor-benign\n",
      "Label 87 Num Images: 47\n",
      "Label 88 Num Images: 7\n",
      "Label 89 Num Images: 45\n",
      "Label 90 Num Images: 17\n",
      "Label 91 Num Images: 68\n",
      "Label 92 Num Images: 761\n",
      "Label 93 Num Images: 16\n",
      "Label 94 Num Images: 11\n",
      "Label 95 Num Images: 392\n",
      "Label 96 Num Images: 437\n",
      "Label 97 Num Images: 331\n",
      "Label 98 Num Images: 179\n",
      "Label 99 Num Images: 83\n",
      "Label 100 Num Images: 78\n",
      "Label 101 Num Images: 508\n",
      "Label 102 Num Images: 133\n",
      "Label 103 Num Images: 1090\n",
      "Label 104 Num Images: 172\n",
      "Label 105 Num Images: 81\n",
      "Label 106 Num Images: 31\n",
      "Label 107 Num Images: 7\n",
      "\n",
      "Clinical Class: 4 epidermal-tumor-malignant\n",
      "Label 108 Num Images: 196\n",
      "Label 109 Num Images: 3063\n",
      "Label 110 Num Images: 6\n",
      "Label 111 Num Images: 48\n",
      "Label 112 Num Images: 55\n",
      "Label 113 Num Images: 130\n",
      "Label 114 Num Images: 53\n",
      "Label 115 Num Images: 41\n",
      "Label 116 Num Images: 106\n",
      "Label 117 Num Images: 91\n",
      "Label 118 Num Images: 35\n",
      "Label 119 Num Images: 4\n",
      "Label 120 Num Images: 71\n",
      "Label 121 Num Images: 12\n",
      "Label 122 Num Images: 44\n",
      "Label 123 Num Images: 58\n",
      "Label 124 Num Images: 27\n",
      "Label 125 Num Images: 128\n",
      "Label 126 Num Images: 49\n",
      "Label 127 Num Images: 9\n",
      "Label 128 Num Images: 43\n",
      "Label 129 Num Images: 373\n",
      "Label 130 Num Images: 40\n",
      "Label 131 Num Images: 66\n",
      "Label 132 Num Images: 61\n",
      "Label 133 Num Images: 42\n",
      "Label 134 Num Images: 27\n",
      "Label 135 Num Images: 54\n",
      "Label 136 Num Images: 24\n",
      "Label 137 Num Images: 12\n",
      "Label 138 Num Images: 49\n",
      "Label 139 Num Images: 18\n",
      "Label 140 Num Images: 21\n",
      "Label 141 Num Images: 23\n",
      "Label 142 Num Images: 5\n",
      "Label 143 Num Images: 501\n",
      "Label 144 Num Images: 1\n",
      "Label 145 Num Images: 162\n",
      "Label 146 Num Images: 97\n",
      "Label 147 Num Images: 514\n",
      "Label 148 Num Images: 54\n",
      "Label 149 Num Images: 669\n",
      "Label 150 Num Images: 4\n",
      "Label 151 Num Images: 1033\n",
      "Label 152 Num Images: 44\n",
      "Label 153 Num Images: 14\n",
      "Label 154 Num Images: 21\n",
      "Label 155 Num Images: 45\n",
      "Label 156 Num Images: 40\n",
      "Label 157 Num Images: 15\n",
      "Label 158 Num Images: 62\n",
      "Label 159 Num Images: 40\n",
      "Label 160 Num Images: 43\n",
      "Label 161 Num Images: 24\n",
      "Label 162 Num Images: 97\n",
      "Label 163 Num Images: 54\n",
      "\n",
      "Clinical Class: 5 genodermatosis\n",
      "Label 164 Num Images: 103\n",
      "Label 165 Num Images: 49\n",
      "Label 166 Num Images: 25\n",
      "Label 167 Num Images: 19\n",
      "Label 168 Num Images: 19\n",
      "Label 169 Num Images: 16\n",
      "Label 170 Num Images: 64\n",
      "Label 171 Num Images: 12\n",
      "Label 172 Num Images: 23\n",
      "Label 173 Num Images: 12\n",
      "Label 174 Num Images: 33\n",
      "Label 175 Num Images: 21\n",
      "Label 176 Num Images: 422\n",
      "Label 177 Num Images: 10\n",
      "Label 178 Num Images: 152\n",
      "Label 179 Num Images: 575\n",
      "Label 180 Num Images: 74\n",
      "Label 181 Num Images: 10\n",
      "Label 182 Num Images: 75\n",
      "Label 183 Num Images: 69\n",
      "Label 184 Num Images: 39\n",
      "Label 185 Num Images: 5\n",
      "Label 186 Num Images: 246\n",
      "Label 187 Num Images: 976\n",
      "Label 188 Num Images: 233\n",
      "Label 189 Num Images: 54\n",
      "Label 190 Num Images: 17\n",
      "Label 191 Num Images: 71\n",
      "Label 192 Num Images: 8\n",
      "Label 193 Num Images: 66\n",
      "Label 194 Num Images: 23\n",
      "Label 195 Num Images: 529\n",
      "Label 196 Num Images: 38\n",
      "Label 197 Num Images: 9\n",
      "Label 198 Num Images: 93\n",
      "Label 199 Num Images: 82\n",
      "Label 200 Num Images: 33\n",
      "Label 201 Num Images: 30\n",
      "Label 202 Num Images: 68\n",
      "Label 203 Num Images: 374\n",
      "Label 204 Num Images: 87\n",
      "Label 205 Num Images: 93\n",
      "\n",
      "Clinical Class: 6 inflammatory\n",
      "Label 206 Num Images: 6\n",
      "Label 207 Num Images: 783\n",
      "Label 208 Num Images: 585\n",
      "Label 209 Num Images: 4273\n",
      "Label 210 Num Images: 44\n",
      "Label 211 Num Images: 16\n",
      "Label 212 Num Images: 89\n",
      "Label 213 Num Images: 170\n",
      "Label 214 Num Images: 22\n",
      "Label 215 Num Images: 84\n",
      "Label 216 Num Images: 46\n",
      "Label 217 Num Images: 23\n",
      "Label 218 Num Images: 57\n",
      "Label 219 Num Images: 15\n",
      "Label 220 Num Images: 31\n",
      "Label 221 Num Images: 78\n",
      "Label 222 Num Images: 28\n",
      "Label 223 Num Images: 88\n",
      "Label 224 Num Images: 106\n",
      "Label 225 Num Images: 46\n",
      "Label 226 Num Images: 1221\n",
      "Label 227 Num Images: 50\n",
      "Label 228 Num Images: 834\n",
      "Label 229 Num Images: 10\n",
      "Label 230 Num Images: 14\n",
      "Label 231 Num Images: 146\n",
      "Label 232 Num Images: 104\n",
      "Label 233 Num Images: 47\n",
      "Label 234 Num Images: 47\n",
      "Label 235 Num Images: 36\n",
      "Label 236 Num Images: 39\n",
      "Label 237 Num Images: 39\n",
      "Label 238 Num Images: 356\n",
      "Label 239 Num Images: 62\n",
      "Label 240 Num Images: 10\n",
      "Label 241 Num Images: 13\n",
      "Label 242 Num Images: 51\n",
      "Label 243 Num Images: 18\n",
      "Label 244 Num Images: 65\n",
      "Label 245 Num Images: 96\n",
      "Label 246 Num Images: 759\n",
      "Label 247 Num Images: 10\n",
      "Label 248 Num Images: 701\n",
      "Label 249 Num Images: 4\n",
      "Label 250 Num Images: 561\n",
      "Label 251 Num Images: 4\n",
      "Label 252 Num Images: 7\n",
      "Label 253 Num Images: 95\n",
      "Label 254 Num Images: 29\n",
      "Label 255 Num Images: 25\n",
      "Label 256 Num Images: 33\n",
      "Label 257 Num Images: 23\n",
      "Label 258 Num Images: 46\n",
      "Label 259 Num Images: 60\n",
      "Label 260 Num Images: 2\n",
      "Label 261 Num Images: 61\n",
      "Label 262 Num Images: 422\n",
      "Label 263 Num Images: 333\n",
      "Label 264 Num Images: 2\n",
      "Label 265 Num Images: 864\n",
      "Label 266 Num Images: 12\n",
      "Label 267 Num Images: 27\n",
      "Label 268 Num Images: 125\n",
      "Label 269 Num Images: 127\n",
      "Label 270 Num Images: 75\n",
      "Label 271 Num Images: 426\n",
      "Label 272 Num Images: 229\n",
      "Label 273 Num Images: 30\n",
      "Label 274 Num Images: 76\n",
      "Label 275 Num Images: 36\n",
      "Label 276 Num Images: 24\n",
      "Label 277 Num Images: 377\n",
      "Label 278 Num Images: 53\n",
      "Label 279 Num Images: 55\n",
      "Label 280 Num Images: 18\n",
      "Label 281 Num Images: 539\n",
      "Label 282 Num Images: 23\n",
      "Label 283 Num Images: 296\n",
      "Label 284 Num Images: 149\n",
      "Label 285 Num Images: 67\n",
      "Label 286 Num Images: 8\n",
      "Label 287 Num Images: 63\n",
      "Label 288 Num Images: 8\n",
      "Label 289 Num Images: 30\n",
      "Label 290 Num Images: 3\n",
      "Label 291 Num Images: 227\n",
      "Label 292 Num Images: 71\n",
      "Label 293 Num Images: 32\n",
      "Label 294 Num Images: 25\n",
      "Label 295 Num Images: 319\n",
      "Label 296 Num Images: 108\n",
      "Label 297 Num Images: 5\n",
      "Label 298 Num Images: 13\n",
      "Label 299 Num Images: 96\n",
      "Label 300 Num Images: 398\n",
      "Label 301 Num Images: 165\n",
      "Label 302 Num Images: 44\n",
      "Label 303 Num Images: 424\n",
      "Label 304 Num Images: 891\n",
      "Label 305 Num Images: 265\n",
      "Label 306 Num Images: 71\n",
      "Label 307 Num Images: 42\n",
      "Label 308 Num Images: 972\n",
      "Label 309 Num Images: 148\n",
      "Label 310 Num Images: 17\n",
      "Label 311 Num Images: 250\n",
      "Label 312 Num Images: 676\n",
      "Label 313 Num Images: 48\n",
      "Label 314 Num Images: 30\n",
      "Label 315 Num Images: 584\n",
      "Label 316 Num Images: 37\n",
      "Label 317 Num Images: 4\n",
      "Label 318 Num Images: 78\n",
      "Label 319 Num Images: 22\n",
      "Label 320 Num Images: 300\n",
      "Label 321 Num Images: 61\n",
      "Label 322 Num Images: 510\n",
      "Label 323 Num Images: 20\n",
      "Label 324 Num Images: 52\n",
      "Label 325 Num Images: 235\n",
      "Label 326 Num Images: 43\n",
      "Label 327 Num Images: 1\n",
      "Label 328 Num Images: 95\n",
      "Label 329 Num Images: 4\n",
      "Label 330 Num Images: 72\n",
      "Label 331 Num Images: 20\n",
      "Label 332 Num Images: 8\n",
      "Label 333 Num Images: 23\n",
      "Label 334 Num Images: 68\n",
      "Label 335 Num Images: 25\n",
      "Label 336 Num Images: 99\n",
      "Label 337 Num Images: 52\n",
      "Label 338 Num Images: 59\n",
      "Label 339 Num Images: 83\n",
      "Label 340 Num Images: 3\n",
      "Label 341 Num Images: 11\n",
      "Label 342 Num Images: 50\n",
      "Label 343 Num Images: 36\n",
      "Label 344 Num Images: 28\n",
      "Label 345 Num Images: 38\n",
      "Label 346 Num Images: 6\n",
      "Label 347 Num Images: 7\n",
      "Label 348 Num Images: 9\n",
      "Label 349 Num Images: 13\n",
      "Label 350 Num Images: 56\n",
      "Label 351 Num Images: 3\n",
      "Label 352 Num Images: 194\n",
      "Label 353 Num Images: 776\n",
      "Label 354 Num Images: 22\n",
      "Label 355 Num Images: 60\n",
      "Label 356 Num Images: 8\n",
      "Label 357 Num Images: 193\n",
      "Label 358 Num Images: 19\n",
      "Label 359 Num Images: 17\n",
      "Label 360 Num Images: 50\n",
      "Label 361 Num Images: 43\n",
      "Label 362 Num Images: 7\n",
      "Label 363 Num Images: 11\n",
      "Label 364 Num Images: 32\n",
      "Label 365 Num Images: 41\n",
      "Label 366 Num Images: 62\n",
      "Label 367 Num Images: 62\n",
      "Label 368 Num Images: 759\n",
      "Label 369 Num Images: 726\n",
      "Label 370 Num Images: 2\n",
      "Label 371 Num Images: 11\n",
      "Label 372 Num Images: 79\n",
      "Label 373 Num Images: 512\n",
      "Label 374 Num Images: 49\n",
      "Label 375 Num Images: 280\n",
      "Label 376 Num Images: 5\n",
      "Label 377 Num Images: 15\n",
      "Label 378 Num Images: 10\n",
      "Label 379 Num Images: 147\n",
      "Label 380 Num Images: 27\n",
      "Label 381 Num Images: 5\n",
      "Label 382 Num Images: 65\n",
      "Label 383 Num Images: 188\n",
      "Label 384 Num Images: 17\n",
      "Label 385 Num Images: 14\n",
      "Label 386 Num Images: 157\n",
      "Label 387 Num Images: 352\n",
      "Label 388 Num Images: 124\n",
      "Label 389 Num Images: 205\n",
      "Label 390 Num Images: 15\n",
      "Label 391 Num Images: 102\n",
      "Label 392 Num Images: 159\n",
      "Label 393 Num Images: 6\n",
      "Label 394 Num Images: 1\n",
      "Label 395 Num Images: 351\n",
      "Label 396 Num Images: 229\n",
      "Label 397 Num Images: 340\n",
      "Label 398 Num Images: 2135\n",
      "Label 399 Num Images: 18\n",
      "Label 400 Num Images: 15\n",
      "Label 401 Num Images: 26\n",
      "Label 402 Num Images: 31\n",
      "Label 403 Num Images: 57\n",
      "Label 404 Num Images: 16\n",
      "Label 405 Num Images: 57\n",
      "Label 406 Num Images: 162\n",
      "Label 407 Num Images: 100\n",
      "Label 408 Num Images: 323\n",
      "Label 409 Num Images: 38\n",
      "Label 410 Num Images: 24\n",
      "Label 411 Num Images: 11\n",
      "Label 412 Num Images: 266\n",
      "Label 413 Num Images: 10\n",
      "Label 414 Num Images: 117\n",
      "Label 415 Num Images: 34\n",
      "Label 416 Num Images: 10\n",
      "Label 417 Num Images: 31\n",
      "Label 418 Num Images: 17\n",
      "Label 419 Num Images: 32\n",
      "Label 420 Num Images: 15\n",
      "Label 421 Num Images: 57\n",
      "Label 422 Num Images: 13\n",
      "Label 423 Num Images: 17\n",
      "Label 424 Num Images: 396\n",
      "Label 425 Num Images: 118\n",
      "Label 426 Num Images: 454\n",
      "Label 427 Num Images: 533\n",
      "Label 428 Num Images: 26\n",
      "Label 429 Num Images: 890\n",
      "Label 430 Num Images: 327\n",
      "Label 431 Num Images: 35\n",
      "Label 432 Num Images: 119\n",
      "Label 433 Num Images: 103\n",
      "Label 434 Num Images: 395\n",
      "Label 435 Num Images: 420\n",
      "Label 436 Num Images: 416\n",
      "Label 437 Num Images: 39\n",
      "Label 438 Num Images: 1391\n",
      "Label 439 Num Images: 22\n",
      "Label 440 Num Images: 4\n",
      "Label 441 Num Images: 32\n",
      "Label 442 Num Images: 128\n",
      "Label 443 Num Images: 32\n",
      "Label 444 Num Images: 6\n",
      "Label 445 Num Images: 23\n",
      "Label 446 Num Images: 327\n",
      "Label 447 Num Images: 36\n",
      "Label 448 Num Images: 101\n",
      "Label 449 Num Images: 19\n",
      "Label 450 Num Images: 145\n",
      "Label 451 Num Images: 19\n",
      "Label 452 Num Images: 29\n",
      "Label 453 Num Images: 15\n",
      "Label 454 Num Images: 750\n",
      "Label 455 Num Images: 8\n",
      "Label 456 Num Images: 143\n",
      "Label 457 Num Images: 76\n",
      "Label 458 Num Images: 162\n",
      "Label 459 Num Images: 84\n",
      "Label 460 Num Images: 4\n",
      "Label 461 Num Images: 742\n",
      "Label 462 Num Images: 44\n",
      "Label 463 Num Images: 16\n",
      "Label 464 Num Images: 50\n",
      "Label 465 Num Images: 418\n",
      "Label 466 Num Images: 537\n",
      "Label 467 Num Images: 55\n",
      "Label 468 Num Images: 221\n",
      "Label 469 Num Images: 2\n",
      "Label 470 Num Images: 249\n",
      "Label 471 Num Images: 1\n",
      "Label 472 Num Images: 1767\n",
      "Label 473 Num Images: 50\n",
      "Label 474 Num Images: 4\n",
      "Label 475 Num Images: 210\n",
      "Label 476 Num Images: 9\n",
      "Label 477 Num Images: 4\n",
      "Label 478 Num Images: 477\n",
      "Label 479 Num Images: 207\n",
      "Label 480 Num Images: 35\n",
      "Label 481 Num Images: 71\n",
      "Label 482 Num Images: 89\n",
      "Label 483 Num Images: 43\n",
      "Label 484 Num Images: 89\n",
      "Label 485 Num Images: 28\n",
      "Label 486 Num Images: 80\n",
      "Label 487 Num Images: 377\n",
      "Label 488 Num Images: 18\n",
      "Label 489 Num Images: 220\n",
      "Label 490 Num Images: 5\n",
      "Label 491 Num Images: 72\n",
      "Label 492 Num Images: 65\n",
      "Label 493 Num Images: 53\n",
      "Label 494 Num Images: 80\n",
      "Label 495 Num Images: 127\n",
      "Label 496 Num Images: 67\n",
      "Label 497 Num Images: 64\n",
      "Label 498 Num Images: 41\n",
      "Label 499 Num Images: 2\n",
      "Label 500 Num Images: 50\n",
      "Label 501 Num Images: 67\n",
      "Label 502 Num Images: 68\n",
      "Label 503 Num Images: 223\n",
      "Label 504 Num Images: 236\n",
      "Label 505 Num Images: 971\n",
      "Label 506 Num Images: 33\n",
      "Label 507 Num Images: 70\n",
      "Label 508 Num Images: 20\n",
      "Label 509 Num Images: 221\n",
      "Label 510 Num Images: 234\n",
      "Label 511 Num Images: 125\n",
      "Label 512 Num Images: 45\n",
      "Label 513 Num Images: 115\n",
      "Label 514 Num Images: 10\n",
      "Label 515 Num Images: 451\n",
      "Label 516 Num Images: 6\n",
      "Label 517 Num Images: 18\n",
      "Label 518 Num Images: 18\n",
      "Label 519 Num Images: 7\n",
      "Label 520 Num Images: 21\n",
      "Label 521 Num Images: 138\n",
      "Label 522 Num Images: 155\n",
      "Label 523 Num Images: 29\n",
      "Label 524 Num Images: 19\n",
      "Label 525 Num Images: 4\n",
      "Label 526 Num Images: 43\n",
      "Label 527 Num Images: 751\n",
      "Label 528 Num Images: 12\n",
      "Label 529 Num Images: 42\n",
      "Label 530 Num Images: 4\n",
      "Label 531 Num Images: 20\n",
      "Label 532 Num Images: 17\n",
      "Label 533 Num Images: 899\n",
      "Label 534 Num Images: 266\n",
      "Label 535 Num Images: 113\n",
      "Label 536 Num Images: 101\n",
      "Label 537 Num Images: 7\n",
      "Label 538 Num Images: 247\n",
      "Label 539 Num Images: 56\n",
      "Label 540 Num Images: 273\n",
      "Label 541 Num Images: 56\n",
      "Label 542 Num Images: 156\n",
      "Label 543 Num Images: 121\n",
      "Label 544 Num Images: 11\n",
      "Label 545 Num Images: 6\n",
      "Label 546 Num Images: 68\n",
      "Label 547 Num Images: 117\n",
      "Label 548 Num Images: 46\n",
      "Label 549 Num Images: 75\n",
      "Label 550 Num Images: 29\n",
      "Label 551 Num Images: 133\n",
      "Label 552 Num Images: 21\n",
      "Label 553 Num Images: 21\n",
      "Label 554 Num Images: 9\n",
      "Label 555 Num Images: 32\n",
      "Label 556 Num Images: 10\n",
      "Label 557 Num Images: 134\n",
      "Label 558 Num Images: 4\n",
      "Label 559 Num Images: 135\n",
      "Label 560 Num Images: 479\n",
      "Label 561 Num Images: 22\n",
      "Label 562 Num Images: 552\n",
      "Label 563 Num Images: 135\n",
      "Label 564 Num Images: 23\n",
      "Label 565 Num Images: 1223\n",
      "Label 566 Num Images: 34\n",
      "Label 567 Num Images: 32\n",
      "Label 568 Num Images: 7\n",
      "Label 569 Num Images: 27\n",
      "Label 570 Num Images: 25\n",
      "Label 571 Num Images: 51\n",
      "Label 572 Num Images: 31\n",
      "Label 573 Num Images: 15\n",
      "Label 574 Num Images: 63\n",
      "Label 575 Num Images: 31\n",
      "Label 576 Num Images: 75\n",
      "Label 577 Num Images: 15\n",
      "Label 578 Num Images: 55\n",
      "Label 579 Num Images: 13\n",
      "Label 580 Num Images: 17\n",
      "Label 581 Num Images: 16\n",
      "Label 582 Num Images: 47\n",
      "Label 583 Num Images: 615\n",
      "Label 584 Num Images: 322\n",
      "Label 585 Num Images: 247\n",
      "Label 586 Num Images: 438\n",
      "Label 587 Num Images: 128\n",
      "Label 588 Num Images: 91\n",
      "Label 589 Num Images: 59\n",
      "Label 590 Num Images: 106\n",
      "Label 591 Num Images: 734\n",
      "Label 592 Num Images: 99\n",
      "Label 593 Num Images: 86\n",
      "Label 594 Num Images: 78\n",
      "Label 595 Num Images: 22\n",
      "Label 596 Num Images: 82\n",
      "Label 597 Num Images: 23\n",
      "Label 598 Num Images: 144\n",
      "Label 599 Num Images: 238\n",
      "Label 600 Num Images: 61\n",
      "Label 601 Num Images: 889\n",
      "Label 602 Num Images: 216\n",
      "Label 603 Num Images: 247\n",
      "Label 604 Num Images: 6\n",
      "Label 605 Num Images: 24\n",
      "Label 606 Num Images: 2\n",
      "Label 607 Num Images: 135\n",
      "Label 608 Num Images: 66\n",
      "Label 609 Num Images: 50\n",
      "Label 610 Num Images: 397\n",
      "Label 611 Num Images: 80\n",
      "Label 612 Num Images: 10\n",
      "Label 613 Num Images: 174\n",
      "Label 614 Num Images: 3345\n",
      "Label 615 Num Images: 37\n",
      "Label 616 Num Images: 32\n",
      "Label 617 Num Images: 321\n",
      "Label 618 Num Images: 8\n",
      "Label 619 Num Images: 129\n",
      "Label 620 Num Images: 102\n",
      "Label 621 Num Images: 9\n",
      "Label 622 Num Images: 6\n",
      "Label 623 Num Images: 96\n",
      "Label 624 Num Images: 42\n",
      "Label 625 Num Images: 13\n",
      "Label 626 Num Images: 10\n",
      "Label 627 Num Images: 124\n",
      "Label 628 Num Images: 13\n",
      "Label 629 Num Images: 210\n",
      "Label 630 Num Images: 34\n",
      "Label 631 Num Images: 4\n",
      "Label 632 Num Images: 212\n",
      "Label 633 Num Images: 58\n",
      "Label 634 Num Images: 58\n",
      "Label 635 Num Images: 65\n",
      "Label 636 Num Images: 66\n",
      "Label 637 Num Images: 202\n",
      "Label 638 Num Images: 121\n",
      "Label 639 Num Images: 764\n",
      "Label 640 Num Images: 61\n",
      "Label 641 Num Images: 5\n",
      "Label 642 Num Images: 17\n",
      "Label 643 Num Images: 13\n",
      "Label 644 Num Images: 86\n",
      "Label 645 Num Images: 7\n",
      "Label 646 Num Images: 112\n",
      "Label 647 Num Images: 33\n",
      "Label 648 Num Images: 21\n",
      "Label 649 Num Images: 28\n",
      "Label 650 Num Images: 31\n",
      "Label 651 Num Images: 19\n",
      "Label 652 Num Images: 39\n",
      "Label 653 Num Images: 112\n",
      "Label 654 Num Images: 21\n",
      "Label 655 Num Images: 13\n",
      "Label 656 Num Images: 684\n",
      "Label 657 Num Images: 591\n",
      "Label 658 Num Images: 20\n",
      "Label 659 Num Images: 20\n",
      "Label 660 Num Images: 293\n",
      "Label 661 Num Images: 1145\n",
      "Label 662 Num Images: 98\n",
      "Label 663 Num Images: 10\n",
      "Label 664 Num Images: 621\n",
      "Label 665 Num Images: 29\n",
      "Label 666 Num Images: 80\n",
      "Label 667 Num Images: 312\n",
      "Label 668 Num Images: 2\n",
      "Label 669 Num Images: 85\n",
      "Label 670 Num Images: 70\n",
      "Label 671 Num Images: 128\n",
      "Label 672 Num Images: 1014\n",
      "Label 673 Num Images: 103\n",
      "Label 674 Num Images: 7\n",
      "Label 675 Num Images: 37\n",
      "Label 676 Num Images: 67\n",
      "Label 677 Num Images: 11\n",
      "Label 678 Num Images: 27\n",
      "Label 679 Num Images: 31\n",
      "Label 680 Num Images: 16\n",
      "Label 681 Num Images: 7\n",
      "Label 682 Num Images: 16\n",
      "Label 683 Num Images: 8\n",
      "Label 684 Num Images: 220\n",
      "Label 685 Num Images: 84\n",
      "Label 686 Num Images: 18\n",
      "Label 687 Num Images: 10\n",
      "Label 688 Num Images: 73\n",
      "Label 689 Num Images: 660\n",
      "Label 690 Num Images: 24\n",
      "Label 691 Num Images: 456\n",
      "\n",
      "Clinical Class: 7 pigmented-lesion-benign\n",
      "Label 692 Num Images: 12\n",
      "Label 693 Num Images: 512\n",
      "Label 694 Num Images: 30\n",
      "Label 695 Num Images: 164\n",
      "Label 696 Num Images: 11\n",
      "Label 697 Num Images: 70\n",
      "Label 698 Num Images: 27\n",
      "Label 699 Num Images: 12\n",
      "Label 700 Num Images: 712\n",
      "Label 701 Num Images: 8\n",
      "Label 702 Num Images: 32\n",
      "Label 703 Num Images: 20\n",
      "Label 704 Num Images: 153\n",
      "Label 705 Num Images: 25\n",
      "Label 706 Num Images: 50\n",
      "Label 707 Num Images: 35\n",
      "Label 708 Num Images: 53\n",
      "Label 709 Num Images: 61\n",
      "Label 710 Num Images: 13\n",
      "Label 711 Num Images: 31\n",
      "Label 712 Num Images: 5\n",
      "Label 713 Num Images: 14\n",
      "Label 714 Num Images: 33\n",
      "Label 715 Num Images: 10\n",
      "Label 716 Num Images: 7\n",
      "Label 717 Num Images: 139\n",
      "Label 718 Num Images: 10\n",
      "Label 719 Num Images: 48\n",
      "Label 720 Num Images: 38\n",
      "Label 721 Num Images: 4\n",
      "Label 722 Num Images: 108\n",
      "Label 723 Num Images: 177\n",
      "Label 724 Num Images: 26\n",
      "Label 725 Num Images: 56\n",
      "\n",
      "Clinical Class: 8 pigmented-lesion-malignant\n",
      "Label 726 Num Images: 41\n",
      "Label 727 Num Images: 27\n",
      "Label 728 Num Images: 216\n",
      "Label 729 Num Images: 90\n",
      "Label 730 Num Images: 23\n",
      "Label 731 Num Images: 676\n",
      "Label 732 Num Images: 16\n",
      "Label 733 Num Images: 2760\n",
      "Label 734 Num Images: 4\n",
      "Label 735 Num Images: 7\n",
      "Label 736 Num Images: 7\n",
      "Label 737 Num Images: 31\n",
      "Label 738 Num Images: 46\n",
      "Label 739 Num Images: 293\n",
      "\n"
     ]
    }
   ],
   "source": [
    "classes, _ = rootNodeClasses(meta_train)\n",
    "for clinical_label, clinical_name in classes.iteritems():\n",
    "    print 'Clinical Class:', clinical_label, clinical_name\n",
    "    \n",
    "    entries = getEntries(meta_train, 'clinical_label', clinical_label)\n",
    "    new_labels, counts = np.unique([m['label'] for m in entries], return_counts=True)\n",
    "    for l, c in zip(new_labels, counts):\n",
    "        print 'Label', l,\n",
    "        print 'Num Images:', c\n",
    "    print ''"
   ]
  },
  {
   "cell_type": "markdown",
   "metadata": {},
   "source": [
    "# Retroactive analysis of seborrheic keratosis in our validation set"
   ]
  },
  {
   "cell_type": "code",
   "execution_count": 193,
   "metadata": {
    "collapsed": false
   },
   "outputs": [],
   "source": [
    "def textFiletoMeta(meta, text_file):\n",
    "    \"\"\"Returns the entries in meta that correspond to images listed in text_file.\n",
    "    \n",
    "    This is a function for backtracing. Do not build on top of it. Instead, store the metadata\n",
    "    for train/val/test in separate files for each experiement. \n",
    "    \"\"\"\n",
    "    paths = [line.split()[0].strip() for line in open(text_file).readlines()]\n",
    "    meta_keep = []\n",
    "    for i, path in enumerate(paths):\n",
    "#         print '\\r', i, '/', len(paths)\n",
    "        filename = osp.basename(path)\n",
    "        for entry in meta:\n",
    "            if filename == entry['file_name']:\n",
    "                meta_keep.append(entry)\n",
    "    return meta_keep\n",
    "\n",
    "# valfile = '/media/esteva/ExtraDrive1/ThrunResearch/SKIN-9/experiments/skindata3/baseline_skinprob=0.4_taxpathscore=0.8/val.txt'\n",
    "# valmeta = textFiletoMeta(meta, valfile)\n",
    "# sk_val = [m for m in valmeta if isSeborrheicKeratosis(m)]\n",
    "# print 'The validation set:'\n",
    "# print valfile\n",
    "# print 'has', len(sk_val), 'seborrheic keratosis'"
   ]
  },
  {
   "cell_type": "markdown",
   "metadata": {},
   "source": [
    "# Train/Val/Test based on Leafnodes\n"
   ]
  },
  {
   "cell_type": "code",
   "execution_count": 42,
   "metadata": {
    "collapsed": false
   },
   "outputs": [],
   "source": [
    "# Use Root nodes as labels\n",
    "classes, labels = rootNodeClasses(meta)\n",
    "setEntries(meta, 'label', labels)\n",
    "\n",
    "# Add set identifier to each data point: 0 = train, 1 = val, 2 = test\n",
    "leafNodeTraining(meta, classes, numImagesPerClassForTesting=0)"
   ]
  },
  {
   "cell_type": "markdown",
   "metadata": {},
   "source": [
    "# Diagnostics on the chosen datasets"
   ]
  },
  {
   "cell_type": "code",
   "execution_count": 17,
   "metadata": {
    "collapsed": false
   },
   "outputs": [
    {
     "name": "stdout",
     "output_type": "stream",
     "text": [
      "Generating Training, Validation, and Testing sets.\n",
      "Train and test share 0 images, according to filenames\n"
     ]
    },
    {
     "data": {
      "image/png": "[encoded data removed]",
      "text/plain": [
       "<matplotlib.figure.Figure at 0x7f3b09e7f050>"
      ]
     },
     "metadata": {},
     "output_type": "display_data"
    },
    {
     "data": {
      "image/png": "[encoded data removed]",
      "text/plain": [
       "<matplotlib.figure.Figure at 0x7f3b5bd6de50>"
      ]
     },
     "metadata": {},
     "output_type": "display_data"
    },
    {
     "name": "stdout",
     "output_type": "stream",
     "text": [
      "Dataset sizes (Based on Metadata):\n",
      "Train,\tVal,\tTest,\tTotal\n",
      "964 \t0 \t143 \t1107\n",
      "7880 \t0 \t1268 \t9148\n",
      "913 \t0 \t120 \t1033\n",
      "4602 \t0 \t986 \t5588\n",
      "8735 \t0 \t3122 \t11857\n",
      "5001 \t0 \t458 \t5459\n",
      "80336 \t0 \t10739 \t91075\n",
      "2729 \t0 \t662 \t3391\n",
      "4279 \t0 \t314 \t4593\n",
      "\n",
      "115439 0 17812\n",
      "\n",
      "Dataset sizes (Based on unique images):\n",
      "Train,\tVal,\tTest,\tTotal\n",
      "907 \t0 \t142 \t1049\n",
      "7571 \t0 \t1247 \t8818\n",
      "888 \t0 \t119 \t1007\n",
      "4450 \t0 \t979 \t5429\n",
      "8360 \t0 \t3107 \t11467\n",
      "4876 \t0 \t454 \t5330\n",
      "75627 \t0 \t10666 \t86293\n",
      "2591 \t0 \t656 \t3247\n",
      "4151 \t0 \t301 \t4452\n",
      "# Unique Images in Training: 109421\n",
      "# Unique Images in Validation: 0\n",
      "# Unique Images in Testing: 17671\n",
      "# Unique Images tossed out: 0\n",
      "\n"
     ]
    }
   ],
   "source": [
    "print 'Generating Training, Validation, and Testing sets.'\n",
    "\n",
    "# Gather each dataset's paths and labels\n",
    "trainset = gatherPathsAndLabels(meta, dataset_directory, TRAINING_SET)\n",
    "valset = gatherPathsAndLabels(meta, dataset_directory, VALIDATION_SET)\n",
    "testset = gatherPathsAndLabels(meta, dataset_directory, TESTING_SET)\n",
    "no_set = gatherPathsAndLabels(meta, dataset_directory, NO_SET)\n",
    "\n",
    "# Since some images have multiple diseases, we keep only the unique 'path [label]' entries\n",
    "trainset = np.unique(trainset)\n",
    "valset = np.unique(valset)\n",
    "testset = np.unique(testset)\n",
    "noset = np.unique(no_set)\n",
    "\n",
    "# Lets check that there is no overlap between train and test paths\n",
    "trainpaths = np.unique([osp.basename(t.split()[0]) for t in trainset])\n",
    "testpaths = np.unique([osp.basename(t.split()[0]) for t in testset])\n",
    "intersection = np.intersect1d(trainpaths, testpaths)\n",
    "print 'Train and test share %d images, according to filenames' % len(intersection)\n",
    "\n",
    "\n",
    "# Print the validation bar graph to make sure we have a nice distribution.\n",
    "labels = np.array([int(e.split()[1]) for e in valset])\n",
    "counts = []\n",
    "for l in np.unique(labels):\n",
    "    counts.append(np.sum(l == labels))\n",
    "plt.bar(np.unique(labels), counts)\n",
    "plt.title('Data distribution over the validation set')\n",
    "plt.show()\n",
    "\n",
    "# Print the testing bar graph to make sure we have a nice distribution.\n",
    "labels = np.array([int(e.split()[1]) for e in testset])\n",
    "counts = []\n",
    "for l in np.unique(labels):\n",
    "    counts.append(np.sum(l == labels))\n",
    "plt.bar(np.unique(labels), counts)\n",
    "plt.title('Data distribution over the test set')\n",
    "plt.show()\n",
    "\n",
    "getClassFromValidationSet = lambda meta, c: [m for m in meta if m['set_identifier'] == VALIDATION_SET and m['clinical_label'] == c]\n",
    "getClassFromTrainingSet = lambda meta, c: [m for m in meta if m['set_identifier'] == TRAINING_SET and m['clinical_label'] == c]\n",
    "getClassFromTestingSet = lambda meta, c: [m for m in meta if m['set_identifier'] == TESTING_SET and m['clinical_label'] == c]\n",
    "print 'Dataset sizes (Based on Metadata):'\n",
    "print 'Train,\\tVal,\\tTest,\\tTotal'\n",
    "for c in classes:\n",
    "    v = len(getClassFromValidationSet(meta, c))\n",
    "    t = len(getClassFromTrainingSet(meta, c))\n",
    "    te = len(getClassFromTestingSet(meta, c))\n",
    "    print t, '\\t', v, '\\t', te, '\\t', v + t + te\n",
    "\n",
    "print ''\n",
    "print len(getEntries(meta, 'set_identifier', TRAINING_SET)),\n",
    "print len(getEntries(meta, 'set_identifier', VALIDATION_SET)),\n",
    "print len(getEntries(meta, 'set_identifier', TESTING_SET))\n",
    "print ''\n",
    "\n",
    "print 'Dataset sizes (Based on unique images):'\n",
    "print 'Train,\\tVal,\\tTest,\\tTotal'\n",
    "for c in classes:    \n",
    "    v = len(np.unique([m['file_name'] for m in getClassFromValidationSet(meta, c)]))\n",
    "    t = len(np.unique([m['file_name'] for m in getClassFromTrainingSet(meta, c)]))\n",
    "    te = len(np.unique([m['file_name'] for m in getClassFromTestingSet(meta, c)]))\n",
    "    print t, '\\t', v, '\\t', te, '\\t', v + t + te\n",
    "    \n",
    "print '# Unique Images in Training:', len(trainset)\n",
    "print '# Unique Images in Validation:', len(valset)\n",
    "print '# Unique Images in Testing:', len(testset)\n",
    "print '# Unique Images tossed out:', len(noset)\n",
    "print ''"
   ]
  },
  {
   "cell_type": "markdown",
   "metadata": {},
   "source": [
    "### Write synset, trainset, valset and test set to file"
   ]
  },
  {
   "cell_type": "code",
   "execution_count": 11,
   "metadata": {
    "collapsed": false
   },
   "outputs": [],
   "source": [
    "train_file = './train.txt'\n",
    "val_file = './val.txt'\n",
    "test_file = './test.txt'\n",
    "synset_file = './synset.txt'\n",
    "\n",
    "def writeToFile(filename, set_):\n",
    "    \"\"\"Write each entry in set_ to the filename.\n",
    "        \n",
    "        Args:\n",
    "            filename(string): the name of the file to open. This erases all content.\n",
    "            set_ (list): A list of strings to write out, separated by newline characters\n",
    "    \"\"\"\n",
    "    prefix = \"\"\n",
    "    with open(filename, 'w') as f:\n",
    "        for s in set_:\n",
    "            f.write(prefix)\n",
    "            f.write(s)\n",
    "            prefix = '\\n'\n",
    "\n",
    "writeToFile(train_file, trainset)\n",
    "writeToFile(val_file, valset)\n",
    "writeToFile(test_file, testset)\n",
    "\n",
    "# Synsets must be generated by the blocks above, since they will be different in the case of tree-based learning\n",
    "writeToFile(synset_file, synset)\n",
    "# writeToFile(synset_file, [' '.join([str(k),v]) for k,v in classes.iteritems()])\n"
   ]
  },
  {
   "cell_type": "code",
   "execution_count": null,
   "metadata": {
    "collapsed": true
   },
   "outputs": [],
   "source": []
  }
 ],
 "metadata": {
  "kernelspec": {
   "display_name": "Python 2",
   "language": "python",
   "name": "python2"
  },
  "language_info": {
   "codemirror_mode": {
    "name": "ipython",
    "version": 2
   },
   "file_extension": ".py",
   "mimetype": "text/x-python",
   "name": "python",
   "nbconvert_exporter": "python",
   "pygments_lexer": "ipython2",
   "version": "2.7.6"
  }
 },
 "nbformat": 4,
 "nbformat_minor": 0
}
