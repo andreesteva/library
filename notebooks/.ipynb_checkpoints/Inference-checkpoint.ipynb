{
 "cells": [
  {
   "cell_type": "code",
   "execution_count": 5,
   "metadata": {
    "collapsed": false
   },
   "outputs": [
    {
     "name": "stdout",
     "output_type": "stream",
     "text": [
      "500\n"
     ]
    }
   ],
   "source": [
    "from __future__ import absolute_import\n",
    "from __future__ import division\n",
    "\n",
    "from datetime import datetime\n",
    "import math\n",
    "import os.path\n",
    "import time\n",
    "\n",
    "import tensorflow as tf\n",
    "import numpy as np\n",
    "\n",
    "from inception import inception_eval\n",
    "from inception.skin_data import SkinData\n",
    "from inception import image_processing\n",
    "from inception import inception_model\n",
    "FLAGS = tf.app.flags.FLAGS\n",
    "\n",
    "FLAGS.data_dir = '/ssd/esteva/skindata4/nine-way'\n",
    "FLAGS.eval_dir = '/archive/esteva/experiments/skin_eval'\n",
    "FLAGS.subset = 'validation'\n",
    "FLAGS.num_examples = 500\n",
    "FLAGS.checkpoint_dir = '/archive/esteva/experiments/skin_train'\n",
    "FLAGS.input_queue_memory_factor=1\n",
    "FLAGS.run_once = True\n",
    "\n",
    "print FLAGS.num_examples"
   ]
  },
  {
   "cell_type": "code",
   "execution_count": 6,
   "metadata": {
    "collapsed": false
   },
   "outputs": [],
   "source": [
    "dataset = SkinData(subset='validation')\n",
    "# inception_eval.evaluate(dataset)"
   ]
  },
  {
   "cell_type": "code",
   "execution_count": 23,
   "metadata": {
    "collapsed": false,
    "scrolled": false
   },
   "outputs": [
    {
     "name": "stderr",
     "output_type": "stream",
     "text": [
      "WARNING:tensorflow:Passing a `GraphDef` to the SummaryWriter is deprecated. Pass a `Graph` object instead, such as `sess.graph`.\n"
     ]
    },
    {
     "name": "stdout",
     "output_type": "stream",
     "text": [
      "Succesfully loaded model from /archive/esteva/experiments/skin_train/model.ckpt-215000 at step=215000.\n",
      "2016-06-08 16:45:13.548924: starting evaluation on (validation).\n",
      "2016-06-08 16:45:20.502478: precision @ 1 = 0.8418 recall @ 5 = 0.9707 [512 examples]\n",
      "(32, 10)\n"
     ]
    }
   ],
   "source": [
    "with tf.Graph().as_default(), tf.Session() as sess:\n",
    "    images, labels = image_processing.inputs(dataset)\n",
    "    num_classes = dataset.num_classes() + 1\n",
    "    logits, _ = inception_model.inference(images, num_classes)\n",
    "    top_1_op = tf.nn.in_top_k(logits, labels, 1)\n",
    "    top_5_op = tf.nn.in_top_k(logits, labels, 5)\n",
    "    variable_averages = tf.train.ExponentialMovingAverage(\n",
    "        inception_model.MOVING_AVERAGE_DECAY)\n",
    "    variables_to_restore = variable_averages.variables_to_restore()\n",
    "    saver = tf.train.Saver(variables_to_restore)\n",
    "    summary_op = tf.merge_all_summaries()\n",
    "    \n",
    "    graph_def = tf.get_default_graph().as_graph_def()\n",
    "    summary_writer = tf.train.SummaryWriter(FLAGS.eval_dir,\n",
    "                                            graph_def=graph_def)\n",
    "    \n",
    "#     _eval_once(saver, summary_writer, top_1_op, top_5_op, summary_op)\n",
    "\n",
    "    ckpt = tf.train.get_checkpoint_state(FLAGS.checkpoint_dir)\n",
    "    if ckpt and ckpt.model_checkpoint_path:\n",
    "        if os.path.isabs(ckpt.model_checkpoint_path):\n",
    "            # Restores from checkpoint with absolute path.\n",
    "            saver.restore(sess, ckpt.model_checkpoint_path)\n",
    "        else:\n",
    "            # Restores from checkpoint with relative path.\n",
    "            saver.restore(sess, os.path.join(FLAGS.checkpoint_dir,\n",
    "                                             ckpt.model_checkpoint_path))\n",
    "\n",
    "        # Assuming model_checkpoint_path looks something like:\n",
    "        #   /my-favorite-path/imagenet_train/model.ckpt-0,\n",
    "        # extract global_step from it.\n",
    "        global_step = ckpt.model_checkpoint_path.split('/')[-1].split('-')[-1]\n",
    "        print('Succesfully loaded model from %s at step=%s.' %\n",
    "            (ckpt.model_checkpoint_path, global_step))\n",
    "    else:\n",
    "        print('No checkpoint file found')\n",
    "        \n",
    "\n",
    "    # Start the queue runners.\n",
    "    coord = tf.train.Coordinator()\n",
    "    try:\n",
    "        threads = []\n",
    "        for qr in tf.get_collection(tf.GraphKeys.QUEUE_RUNNERS):            \n",
    "            threads.extend(qr.create_threads(sess, coord=coord, daemon=True,\n",
    "                                             start=True))\n",
    "\n",
    "        num_iter = int(math.ceil(FLAGS.num_examples / FLAGS.batch_size))\n",
    "        # Counts the number of correct predictions.\n",
    "        count_top_1 = 0.0\n",
    "        count_top_5 = 0.0\n",
    "        total_sample_count = num_iter * FLAGS.batch_size\n",
    "        step = 0\n",
    "\n",
    "        print('%s: starting evaluation on (%s).' % (datetime.now(), FLAGS.subset))\n",
    "        start_time = time.time()\n",
    "        while step < num_iter and not coord.should_stop():\n",
    "            top_1, top_5 = sess.run([top_1_op, top_5_op])\n",
    "            count_top_1 += np.sum(top_1)\n",
    "            count_top_5 += np.sum(top_5)\n",
    "            step += 1\n",
    "            if step % 20 == 0:\n",
    "                duration = time.time() - start_time\n",
    "                sec_per_batch = duration / 20.0\n",
    "                examples_per_sec = FLAGS.batch_size / sec_per_batch\n",
    "                print('%s: [%d batches out of %d] (%.1f examples/sec; %.3f'\n",
    "                    'sec/batch)' % (datetime.now(), step, num_iter,\n",
    "                                    examples_per_sec, sec_per_batch))\n",
    "                start_time = time.time()\n",
    "\n",
    "        # Compute precision @ 1.\n",
    "        precision_at_1 = count_top_1 / total_sample_count\n",
    "        recall_at_5 = count_top_5 / total_sample_count\n",
    "        print('%s: precision @ 1 = %.4f recall @ 5 = %.4f [%d examples]' %\n",
    "            (datetime.now(), precision_at_1, recall_at_5, total_sample_count))\n",
    "\n",
    "        summary = tf.Summary()\n",
    "        summary.ParseFromString(sess.run(summary_op))\n",
    "        summary.value.add(tag='Precision @ 1', simple_value=precision_at_1)\n",
    "        summary.value.add(tag='Recall @ 5', simple_value=recall_at_5)\n",
    "        summary_writer.add_summary(summary, global_step)\n",
    "\n",
    "    except Exception as e:  # pylint: disable=broad-except\n",
    "        coord.request_stop(e)\n",
    "\n",
    "    coord.request_stop()\n",
    "    coord.join(threads, stop_grace_period_secs=10)\n",
    "    \n",
    "    l = sess.run([logits])\n",
    "    print l[0].shape\n",
    "\n"
   ]
  },
  {
   "cell_type": "code",
   "execution_count": null,
   "metadata": {
    "collapsed": true
   },
   "outputs": [],
   "source": []
  }
 ],
 "metadata": {
  "kernelspec": {
   "display_name": "Python 2",
   "language": "python",
   "name": "python2"
  },
  "language_info": {
   "codemirror_mode": {
    "name": "ipython",
    "version": 2
   },
   "file_extension": ".py",
   "mimetype": "text/x-python",
   "name": "python",
   "nbconvert_exporter": "python",
   "pygments_lexer": "ipython2",
   "version": "2.7.6"
  }
 },
 "nbformat": 4,
 "nbformat_minor": 0
}
