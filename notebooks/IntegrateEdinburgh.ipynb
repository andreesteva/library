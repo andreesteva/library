{
 "cells": [
  {
   "cell_type": "markdown",
   "metadata": {},
   "source": [
    "# Integrate the edinburgh dataset into the images/ folder of skindata4"
   ]
  },
  {
   "cell_type": "code",
   "execution_count": 1,
   "metadata": {
    "collapsed": true
   },
   "outputs": [],
   "source": [
    "import json\n",
    "import os\n",
    "import lib\n",
    "from lib.notebooks import parse_isic_helper as pih\n",
    "from lib.taxonomy.loading import getEntries, setEntries, getEntryValues\n",
    "\n",
    "# for auto-reloading external modules\n",
    "%load_ext autoreload\n",
    "%autoreload 2"
   ]
  },
  {
   "cell_type": "code",
   "execution_count": 2,
   "metadata": {
    "collapsed": true
   },
   "outputs": [],
   "source": [
    "meta = json.load(open('/ssd/esteva/skindata4/meta.json', 'r'))"
   ]
  },
  {
   "cell_type": "code",
   "execution_count": 8,
   "metadata": {
    "collapsed": true
   },
   "outputs": [],
   "source": [
    "edin = getEntries(meta, 'database', 'edinburgh')"
   ]
  },
  {
   "cell_type": "code",
   "execution_count": 16,
   "metadata": {
    "collapsed": false
   },
   "outputs": [
    {
     "data": {
      "text/plain": [
       "[{u'caption': u'hemangioma',\n",
       "  u'database': u'edinburgh',\n",
       "  u'filename': u'B573b.jpg',\n",
       "  u'label': u'dermal benign',\n",
       "  u'skin_prob': 1,\n",
       "  u'tax_path': [[u'benign', u'dermal', u'tumors', u'cysts', u'sinuses'],\n",
       "   [u'vascular', u'tumors', u'and', u'malformations'],\n",
       "   [u'benign', u'vascular', u'lesions'],\n",
       "   [u'hemangioma'],\n",
       "   [u'hemangioma']],\n",
       "  u'tax_path_score': 1.0}]"
      ]
     },
     "execution_count": 16,
     "metadata": {},
     "output_type": "execute_result"
    }
   ],
   "source": [
    "[e for e in edin if 'B573b' in e['filename']]"
   ]
  },
  {
   "cell_type": "code",
   "execution_count": 11,
   "metadata": {
    "collapsed": true
   },
   "outputs": [],
   "source": [
    "edinburgh_dir = '/archive/esteva/raw-data/edinburgh/data'\n",
    "images = []\n",
    "for root, dirs, files in os.walk(edinburgh_dir):\n",
    "    if not dirs:\n",
    "        for f in files:\n",
    "            if 'mask' not in f:\n",
    "                images.append(os.path.join(root, f))\n",
    "        "
   ]
  },
  {
   "cell_type": "code",
   "execution_count": 15,
   "metadata": {
    "collapsed": false,
    "scrolled": false
   },
   "outputs": [],
   "source": [
    "for i in images:\n",
    "    assert '.png' in i"
   ]
  },
  {
   "cell_type": "code",
   "execution_count": 4,
   "metadata": {
    "collapsed": false
   },
   "outputs": [
    {
     "data": {
      "text/plain": [
       "'/archive/esteva/raw-data/edinburgh/data/VASC/B573b'"
      ]
     },
     "execution_count": 4,
     "metadata": {},
     "output_type": "execute_result"
    }
   ],
   "source": [
    "root"
   ]
  },
  {
   "cell_type": "code",
   "execution_count": 5,
   "metadata": {
    "collapsed": false
   },
   "outputs": [
    {
     "data": {
      "text/plain": [
       "[]"
      ]
     },
     "execution_count": 5,
     "metadata": {},
     "output_type": "execute_result"
    }
   ],
   "source": [
    "dirs"
   ]
  },
  {
   "cell_type": "code",
   "execution_count": 6,
   "metadata": {
    "collapsed": false
   },
   "outputs": [
    {
     "data": {
      "text/plain": [
       "['B573b.png', 'B573bmask.png']"
      ]
     },
     "execution_count": 6,
     "metadata": {},
     "output_type": "execute_result"
    }
   ],
   "source": [
    "files"
   ]
  },
  {
   "cell_type": "code",
   "execution_count": 7,
   "metadata": {
    "collapsed": false
   },
   "outputs": [
    {
     "name": "stdout",
     "output_type": "stream",
     "text": [
      "B573bmask.png  B573b.png\r\n"
     ]
    }
   ],
   "source": [
    "!ls /archive/esteva/raw-data/edinburgh/data/VASC/B573b\n"
   ]
  },
  {
   "cell_type": "code",
   "execution_count": null,
   "metadata": {
    "collapsed": true
   },
   "outputs": [],
   "source": []
  }
 ],
 "metadata": {
  "kernelspec": {
   "display_name": "Python 2",
   "language": "python",
   "name": "python2"
  },
  "language_info": {
   "codemirror_mode": {
    "name": "ipython",
    "version": 2
   },
   "file_extension": ".py",
   "mimetype": "text/x-python",
   "name": "python",
   "nbconvert_exporter": "python",
   "pygments_lexer": "ipython2",
   "version": "2.7.6"
  }
 },
 "nbformat": 4,
 "nbformat_minor": 0
}
