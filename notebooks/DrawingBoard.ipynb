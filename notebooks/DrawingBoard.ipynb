{
 "cells": [
  {
   "cell_type": "markdown",
   "metadata": {},
   "source": [
    "# Drawing Board"
   ]
  },
  {
   "cell_type": "code",
   "execution_count": 3,
   "metadata": {
    "collapsed": false
   },
   "outputs": [
    {
     "name": "stdout",
     "output_type": "stream",
     "text": [
      "Processing directory /archive/esteva/skindata4/splits/nine-way/train\n",
      "Generating group [0]\n",
      "Generating group [1]\n",
      "Generating group [2]\n",
      "Generating group [3]\n",
      "Generating group [4]\n",
      "Generating group [5]\n",
      "Generating group [6]\n",
      "Generating group [7]\n",
      "Generating group [8]\n",
      "Creating directory /archive/esteva/skindata4/splits/nine-way/train-even\n",
      "Linking new entry 18000"
     ]
    },
    {
     "ename": "KeyboardInterrupt",
     "evalue": "",
     "output_type": "error",
     "traceback": [
      "\u001b[1;31m---------------------------------------------------------------------------\u001b[0m",
      "\u001b[1;31mKeyboardInterrupt\u001b[0m                         Traceback (most recent call last)",
      "\u001b[1;32m<ipython-input-3-825852137533>\u001b[0m in \u001b[0;36m<module>\u001b[1;34m()\u001b[0m\n\u001b[0;32m    108\u001b[0m     \u001b[0msrc\u001b[0m \u001b[1;33m=\u001b[0m \u001b[0mentry\u001b[0m\u001b[1;33m.\u001b[0m\u001b[0msplit\u001b[0m\u001b[1;33m(\u001b[0m\u001b[1;33m)\u001b[0m\u001b[1;33m[\u001b[0m\u001b[1;36m0\u001b[0m\u001b[1;33m]\u001b[0m\u001b[1;33m\u001b[0m\u001b[0m\n\u001b[0;32m    109\u001b[0m     \u001b[0mdst\u001b[0m \u001b[1;33m=\u001b[0m \u001b[0mos\u001b[0m\u001b[1;33m.\u001b[0m\u001b[0mpath\u001b[0m\u001b[1;33m.\u001b[0m\u001b[0mjoin\u001b[0m\u001b[1;33m(\u001b[0m\u001b[0mnew_dir\u001b[0m\u001b[1;33m,\u001b[0m \u001b[0msrc\u001b[0m\u001b[1;33m[\u001b[0m\u001b[0mlen\u001b[0m\u001b[1;33m(\u001b[0m\u001b[0mdata_dir\u001b[0m\u001b[1;33m)\u001b[0m\u001b[1;33m+\u001b[0m\u001b[1;36m1\u001b[0m\u001b[1;33m:\u001b[0m\u001b[1;33m]\u001b[0m\u001b[1;33m)\u001b[0m\u001b[1;33m\u001b[0m\u001b[0m\n\u001b[1;32m--> 110\u001b[1;33m     \u001b[0mcopy\u001b[0m\u001b[1;33m(\u001b[0m\u001b[0msrc\u001b[0m\u001b[1;33m,\u001b[0m \u001b[0mdst\u001b[0m\u001b[1;33m)\u001b[0m\u001b[1;33m\u001b[0m\u001b[0m\n\u001b[0m",
      "\u001b[1;32m<ipython-input-3-825852137533>\u001b[0m in \u001b[0;36mcopy\u001b[1;34m(src, dst)\u001b[0m\n\u001b[0;32m     66\u001b[0m     \u001b[1;32mif\u001b[0m \u001b[0mos\u001b[0m\u001b[1;33m.\u001b[0m\u001b[0mpath\u001b[0m\u001b[1;33m.\u001b[0m\u001b[0mislink\u001b[0m\u001b[1;33m(\u001b[0m\u001b[0msrc\u001b[0m\u001b[1;33m)\u001b[0m\u001b[1;33m:\u001b[0m\u001b[1;33m\u001b[0m\u001b[0m\n\u001b[0;32m     67\u001b[0m         \u001b[0mlinkto\u001b[0m \u001b[1;33m=\u001b[0m \u001b[0mos\u001b[0m\u001b[1;33m.\u001b[0m\u001b[0mreadlink\u001b[0m\u001b[1;33m(\u001b[0m\u001b[0msrc\u001b[0m\u001b[1;33m)\u001b[0m\u001b[1;33m\u001b[0m\u001b[0m\n\u001b[1;32m---> 68\u001b[1;33m         \u001b[0mos\u001b[0m\u001b[1;33m.\u001b[0m\u001b[0msymlink\u001b[0m\u001b[1;33m(\u001b[0m\u001b[0mlinkto\u001b[0m\u001b[1;33m,\u001b[0m \u001b[0mdst\u001b[0m\u001b[1;33m)\u001b[0m\u001b[1;33m\u001b[0m\u001b[0m\n\u001b[0m\u001b[0;32m     69\u001b[0m     \u001b[1;32melse\u001b[0m\u001b[1;33m:\u001b[0m\u001b[1;33m\u001b[0m\u001b[0m\n\u001b[0;32m     70\u001b[0m         \u001b[0mshutil\u001b[0m\u001b[1;33m.\u001b[0m\u001b[0mcopy\u001b[0m\u001b[1;33m(\u001b[0m\u001b[0msrc\u001b[0m\u001b[1;33m,\u001b[0m\u001b[0mdst\u001b[0m\u001b[1;33m)\u001b[0m\u001b[1;33m\u001b[0m\u001b[0m\n",
      "\u001b[1;31mKeyboardInterrupt\u001b[0m: "
     ]
    }
   ],
   "source": [
    "import os\n",
    "import numpy as np\n",
    "import time\n",
    "import shutil\n",
    "\n",
    "def bufferFillPerGroup(entries, groups=None):\n",
    "    \"\"\"Bufferfills a set of path-labels, possibly at the rootNode class level.\n",
    "\n",
    "    Args:\n",
    "        entries (list): A list of entries in the format 'path/to/stuff [label]'\n",
    "        groups (List of Lists, or None): Each sublist must contain a set of integers\n",
    "            denoting the labels of 'entries' to cluster together into a supergroup.\n",
    "\n",
    "    Returns:\n",
    "        A list of these, duplicated, such that each supergroup occurs the same number\n",
    "        of times. if m = max(instances(supergroup_i), over i), then new_set contains\n",
    "        m copies of the instances of each supergroup.\n",
    "    \"\"\"\n",
    "    def label(entry):\n",
    "        return int(entry.strip().split()[1])\n",
    "\n",
    "    # 'Enough' of a group means as many entries of that group as of the biggest group.\n",
    "    labels = [label(e) for e in entries]\n",
    "    if groups is None:\n",
    "        groups = [[g] for g in set(labels)]\n",
    "    group_sizes = [len([e for e in entries if label(e) in group]) for group in groups]\n",
    "    m = max(group_sizes)\n",
    "\n",
    "    # The strategy here is to iterate over each group until we have enough of that group.\n",
    "    def group_iterator(entries, group):\n",
    "        \"\"\"Iterates forever over the entries that are in group\"\"\"\n",
    "        labels = [int(e.split()[1]) for e in entries]\n",
    "        relevant = [e for e in entries if label(e) in group]\n",
    "        i = 0         \n",
    "        while(True):\n",
    "            yield(relevant[i])\n",
    "            i += 1\n",
    "            if i == len(relevant):\n",
    "                i = 0 \n",
    "\n",
    "    new_entries = []\n",
    "    for group in groups:\n",
    "        print 'Generating group', group\n",
    "        time.sleep(0.5)\n",
    "        count = 0 \n",
    "        for entry in group_iterator(entries, group):\n",
    "            new_entries.append(entry)\n",
    "            count += 1\n",
    "            if count >= m:\n",
    "                break\n",
    "    return new_entries\n",
    "\n",
    "\n",
    "def rename_file(filename):\n",
    "    \"\"\"Appends a '_' to a filename until the new filename no longer exists.\"\"\"\n",
    "    if not os.path.exists(filename):\n",
    "        return filename\n",
    "    else:\n",
    "        filename = filename + '_'\n",
    "        return rename_file(filename)\n",
    "    \n",
    "\n",
    "def copy(src, dst):\n",
    "    \"\"\"Copies symlinks. If dst exists we append a _ to it.\"\"\"\n",
    "    dst = rename_file(dst)\n",
    "    if os.path.islink(src):\n",
    "        linkto = os.readlink(src)\n",
    "        os.symlink(linkto, dst)\n",
    "    else:\n",
    "        shutil.copy(src,dst)\n",
    "        \n",
    "\n",
    "def make_dir_structure(new_dir, classes):\n",
    "    if not os.path.exists(new_dir):\n",
    "        os.makedirs(new_dir)\n",
    "        for c in classes:\n",
    "            os.makedirs(os.path.join(new_dir, c))\n",
    "    else:\n",
    "        print 'Directory exists: %s' % new_dir\n",
    "\n",
    "\n",
    "\n",
    "data_dir = '/archive/esteva/skindata4/splits/nine-way/train'\n",
    "new_dir = data_dir + '-even'\n",
    "labels_file = '/archive/esteva/skindata4/splits/nine-way/labels.txt'\n",
    "\n",
    "print 'Processing directory %s' % data_dir\n",
    "classes = np.array([line.strip() for line in open(labels_file).readlines()])\n",
    "unique_classes = np.unique([c.split('_')[0] for c in classes])\n",
    "groups = [np.where(c == classes)[0].tolist() for c in unique_classes]\n",
    "\n",
    "dataset = []\n",
    "for i, c in enumerate(classes):\n",
    "    data = os.listdir(os.path.join(data_dir, c))\n",
    "    for d in data:\n",
    "        dataset.append(' '.join([os.path.join(data_dir, c, d), str(i)])) \n",
    "\n",
    "new_dataset = bufferFillPerGroup(dataset, groups)\n",
    "\n",
    "print 'Creating directory %s' % new_dir\n",
    "if os.path.exists(new_dir):\n",
    "    shutil.rmtree(new_dir)\n",
    "make_dir_structure(new_dir, classes)\n",
    "\n",
    "for i, entry in enumerate(new_dataset):\n",
    "    if i % 1000 == 0:\n",
    "        print '\\rLinking new entry %d/%d' % (i, len(new_dataset)),\n",
    "    src = entry.split()[0]\n",
    "    dst = os.path.join(new_dir, src[len(data_dir)+1:])\n",
    "    copy(src, dst)\n"
   ]
  },
  {
   "cell_type": "markdown",
   "metadata": {},
   "source": [
    "# Create ISIC metadata for /archive/esteva/isic-dermoscopy-curated"
   ]
  },
  {
   "cell_type": "code",
   "execution_count": 51,
   "metadata": {
    "collapsed": true
   },
   "outputs": [],
   "source": [
    "names_labels = [line.strip() for line in open('/archive/esteva/isic-dermoscopy-curated/curated_dermoscopy.csv').readlines()]\n",
    "def name(entry):\n",
    "    return entry.split(',')[0]\n",
    "\n",
    "def label(entry):\n",
    "    return entry.split(',')[1]\n",
    "\n",
    "for entry in names_labels:\n",
    "    n = name(entry)\n",
    "    \n"
   ]
  },
  {
   "cell_type": "code",
   "execution_count": 52,
   "metadata": {
    "collapsed": false
   },
   "outputs": [
    {
     "data": {
      "text/plain": [
       "'ISIC_0012079.png'"
      ]
     },
     "execution_count": 52,
     "metadata": {},
     "output_type": "execute_result"
    }
   ],
   "source": [
    "n"
   ]
  },
  {
   "cell_type": "markdown",
   "metadata": {},
   "source": [
    "# Parse ISIC Metadata"
   ]
  },
  {
   "cell_type": "code",
   "execution_count": 38,
   "metadata": {
    "collapsed": false
   },
   "outputs": [
    {
     "name": "stdout",
     "output_type": "stream",
     "text": [
      "The autoreload extension is already loaded. To reload it, use:\n",
      "  %reload_ext autoreload\n"
     ]
    }
   ],
   "source": [
    "import json\n",
    "import os\n",
    "import lib\n",
    "from lib.notebooks.parse_isic_helper import *\n",
    "\n",
    "# for auto-reloading external modules\n",
    "%load_ext autoreload\n",
    "%autoreload 2"
   ]
  },
  {
   "cell_type": "code",
   "execution_count": 2,
   "metadata": {
    "collapsed": true
   },
   "outputs": [],
   "source": [
    "meta = json.load(open('/archive/isic_meta.json', 'r'))"
   ]
  },
  {
   "cell_type": "code",
   "execution_count": 18,
   "metadata": {
    "collapsed": false
   },
   "outputs": [
    {
     "data": {
      "text/plain": [
       "12086"
      ]
     },
     "execution_count": 18,
     "metadata": {},
     "output_type": "execute_result"
    }
   ],
   "source": [
    "def get_isic_id(m):\n",
    "    return int(os.path.basename(m['path']).split('_')[1])\n",
    "\n",
    "ids = [get_isic_id(m) for m in meta]\n",
    "len(set(ids))"
   ]
  },
  {
   "cell_type": "code",
   "execution_count": 21,
   "metadata": {
    "collapsed": false
   },
   "outputs": [],
   "source": [
    "for i, elem in enumerate(ids):\n",
    "    assert i== elem"
   ]
  },
  {
   "cell_type": "code",
   "execution_count": 10,
   "metadata": {
    "collapsed": false
   },
   "outputs": [
    {
     "data": {
      "text/plain": [
       "12086"
      ]
     },
     "execution_count": 10,
     "metadata": {},
     "output_type": "execute_result"
    }
   ],
   "source": [
    "len(meta)"
   ]
  },
  {
   "cell_type": "code",
   "execution_count": 34,
   "metadata": {
    "collapsed": false,
    "scrolled": false
   },
   "outputs": [
    {
     "data": {
      "text/plain": [
       "[u'files', u'p1a', u'p1b', u'p1c', u'exif', u'label', u'meta', u'path']"
      ]
     },
     "execution_count": 34,
     "metadata": {},
     "output_type": "execute_result"
    }
   ],
   "source": [
    "meta[100].keys()\n"
   ]
  },
  {
   "cell_type": "code",
   "execution_count": 30,
   "metadata": {
    "collapsed": false
   },
   "outputs": [
    {
     "data": {
      "text/plain": [
       "u'benign'"
      ]
     },
     "execution_count": 30,
     "metadata": {},
     "output_type": "execute_result"
    }
   ],
   "source": [
    "diagnoses[0]"
   ]
  },
  {
   "cell_type": "code",
   "execution_count": 47,
   "metadata": {
    "collapsed": false
   },
   "outputs": [
    {
     "ename": "AssertionError",
     "evalue": "",
     "output_type": "error",
     "traceback": [
      "\u001b[1;31m---------------------------------------------------------------------------\u001b[0m",
      "\u001b[1;31mAssertionError\u001b[0m                            Traceback (most recent call last)",
      "\u001b[1;32m<ipython-input-47-87d33def8770>\u001b[0m in \u001b[0;36m<module>\u001b[1;34m()\u001b[0m\n\u001b[0;32m      2\u001b[0m \u001b[1;32mfor\u001b[0m \u001b[0md\u001b[0m\u001b[1;33m,\u001b[0m \u001b[0mm\u001b[0m \u001b[1;32min\u001b[0m \u001b[0mzip\u001b[0m\u001b[1;33m(\u001b[0m\u001b[0mdiagnoses\u001b[0m\u001b[1;33m,\u001b[0m \u001b[0mmeta\u001b[0m\u001b[1;33m)\u001b[0m\u001b[1;33m:\u001b[0m\u001b[1;33m\u001b[0m\u001b[0m\n\u001b[0;32m      3\u001b[0m     \u001b[1;32mif\u001b[0m \u001b[1;34m'label'\u001b[0m \u001b[1;32min\u001b[0m \u001b[0mm\u001b[0m\u001b[1;33m:\u001b[0m\u001b[1;33m\u001b[0m\u001b[0m\n\u001b[1;32m----> 4\u001b[1;33m         \u001b[1;32massert\u001b[0m \u001b[0md\u001b[0m \u001b[1;33m==\u001b[0m \u001b[0mm\u001b[0m\u001b[1;33m[\u001b[0m\u001b[1;34m'label'\u001b[0m\u001b[1;33m]\u001b[0m\u001b[1;33m\u001b[0m\u001b[0m\n\u001b[0m",
      "\u001b[1;31mAssertionError\u001b[0m: "
     ]
    }
   ],
   "source": [
    "diagnoses = [get_diagnosis(m) for m in meta]\n",
    "for d, m in zip(diagnoses, meta):\n",
    "    if 'label' in m:\n",
    "        assert d == m['label']\n"
   ]
  },
  {
   "cell_type": "code",
   "execution_count": 48,
   "metadata": {
    "collapsed": false,
    "scrolled": false
   },
   "outputs": [
    {
     "data": {
      "text/plain": [
       "{u'files': [u'ISIC_0001102.tif',\n",
       "  u'UDA2_pilot_052-p1b.png',\n",
       "  u'UDA2_pilot_052-tile-p1b.png',\n",
       "  u'UDA2_pilot_052-p1c.png',\n",
       "  u'UDA2_pilot_052-p1b.json',\n",
       "  u'UDA2_pilot_052-tile-p1c.png',\n",
       "  u'UDA2_pilot_052-tile-p1a.png',\n",
       "  u'UDA2_pilot_052-p1a.json',\n",
       "  u'UDA2_pilot_052-p1c.json',\n",
       "  u'UDA2_pilot_052-p1a.png',\n",
       "  u'ISIC_0001102.jpg'],\n",
       " u'label': u'malignant',\n",
       " u'meta': {u'convertedFilename': u'UDA2_pilot_052.new.tif',\n",
       "  u'convertedMimeType': u'image/tiff',\n",
       "  u'originalFilename': u'UDA2_pilot_052.jpg',\n",
       "  u'originalMimeType': u'image/jpeg',\n",
       "  u'p1a_folder_id': u'54e7571ebae47850e86ce0f8',\n",
       "  u'p1a_result': u'ok',\n",
       "  u'p1a_start_time': u'2015-02-20 17:13:23.413000',\n",
       "  u'p1a_stop_time': u'2015-02-20 17:13:43.646000',\n",
       "  u'p1a_user': u'5450e996bae47865794e4d0d',\n",
       "  u'p1b_folder_id': u'54e759cabae47850e86ce100',\n",
       "  u'p1b_result': u'ok',\n",
       "  u'p1b_start_time': u'2015-02-20 18:03:12.439000',\n",
       "  u'p1b_stop_time': u'2015-02-20 18:03:21.749000',\n",
       "  u'p1b_user': u'54cb967ebae47819d8e4c724',\n",
       "  u'qc_folder_id': u'54e755f3bae47850e86cdfc4',\n",
       "  u'qc_result': u'ok',\n",
       "  u'qc_stop_time': u'2015-02-20 15:48:02.385000',\n",
       "  u'qc_user': u'5450e996bae47865794e4d0d'},\n",
       " u'p1a': {u'image': {u'_id': u'54e755f4bae47850e86cdfd1',\n",
       "   u'baseParentId': u'5428cb05bae478621f6159e2',\n",
       "   u'baseParentType': u'collection',\n",
       "   u'created': u'2015-02-20 15:42:44.157000',\n",
       "   u'creatorId': u'5450e996bae47865794e4d0d',\n",
       "   u'description': u'',\n",
       "   u'folderId': u'54e7571ebae47850e86ce0f8',\n",
       "   u'lowerName': u'uda2_pilot_052',\n",
       "   u'name': u'UDA2_pilot_052',\n",
       "   u'size': 315963,\n",
       "   u'updated': u'2015-02-20 15:48:02.385000'},\n",
       "  u'result': {u'p1a_folder_id': u'54e7571ebae47850e86ce0f8',\n",
       "   u'p1a_result': u'ok',\n",
       "   u'p1a_start_time': u'2015-02-20T17:13:23.413000',\n",
       "   u'p1a_stop_time': u'2015-02-20T17:13:43.646000',\n",
       "   u'p1a_user': u'5450e996bae47865794e4d0d'},\n",
       "  u'user': {u'_accessLevel': 2,\n",
       "   u'_id': u'5450e996bae47865794e4d0d',\n",
       "   u'admin': False,\n",
       "   u'created': u'2014-10-29 13:20:21.933000',\n",
       "   u'email': u'whitfori@mskcc.org',\n",
       "   u'firstName': u'Ian',\n",
       "   u'groupInvites': [],\n",
       "   u'groups': [u'5428cb05bae478621f6159cf',\n",
       "    u'5428cb05bae478621f6159de',\n",
       "    u'5428cb05bae478621f6159df',\n",
       "    u'5428cb05bae478621f6159e0',\n",
       "    u'5428cb05bae478621f6159e1'],\n",
       "   u'lastName': u'Whitford',\n",
       "   u'login': u'iwhitford',\n",
       "   u'public': True,\n",
       "   u'size': 31977969324}},\n",
       " u'p1b': {u'image': {u'_id': u'54e755f4bae47850e86cdfd1',\n",
       "   u'baseParentId': u'5428cb05bae478621f6159e4',\n",
       "   u'baseParentType': u'collection',\n",
       "   u'created': u'2015-02-20 15:42:44.157000',\n",
       "   u'creatorId': u'5450e996bae47865794e4d0d',\n",
       "   u'description': u'',\n",
       "   u'folderId': u'54e759cabae47850e86ce100',\n",
       "   u'lowerName': u'uda2_pilot_052',\n",
       "   u'name': u'UDA2_pilot_052',\n",
       "   u'size': 1401824,\n",
       "   u'updated': u'2015-02-20 17:13:59.785000'},\n",
       "  u'result': {u'p1b_folder_id': u'54e759cabae47850e86ce100',\n",
       "   u'p1b_result': u'ok',\n",
       "   u'p1b_start_time': u'2015-02-20T18:03:12.439000',\n",
       "   u'p1b_stop_time': u'2015-02-20T18:03:21.749000',\n",
       "   u'p1b_user': u'54cb967ebae47819d8e4c724'},\n",
       "  u'user': {u'_accessLevel': 2,\n",
       "   u'_id': u'54cb967ebae47819d8e4c724',\n",
       "   u'admin': False,\n",
       "   u'created': u'2015-01-30 14:34:37.878000',\n",
       "   u'email': u'marchetti.michael@gmail.com',\n",
       "   u'firstName': u'Michael',\n",
       "   u'groupInvites': [],\n",
       "   u'groups': [u'5428cb05bae478621f6159df',\n",
       "    u'5428cb05bae478621f6159e0',\n",
       "    u'5428cb05bae478621f6159e1',\n",
       "    u'5428cb05bae478621f6159cf',\n",
       "    u'5428cb05bae478621f6159de'],\n",
       "   u'lastName': u'Marchetti',\n",
       "   u'login': u'marchetm',\n",
       "   u'public': True,\n",
       "   u'size': 0}},\n",
       " u'p1c': {u'image': {u'_id': u'54e755f4bae47850e86cdfd1',\n",
       "   u'baseParentId': u'5428cb05bae478621f6159e6',\n",
       "   u'baseParentType': u'collection',\n",
       "   u'created': u'2015-02-20 15:42:44.157000',\n",
       "   u'creatorId': u'5450e996bae47865794e4d0d',\n",
       "   u'description': u'',\n",
       "   u'folderId': u'54e759e4bae47850e86ce107',\n",
       "   u'lowerName': u'uda2_pilot_052',\n",
       "   u'name': u'UDA2_pilot_052',\n",
       "   u'size': 2517839,\n",
       "   u'updated': u'2015-02-20 18:03:40.091000'},\n",
       "  u'result': {u'p1c_folder_id': u'54e759e4bae47850e86ce107',\n",
       "   u'p1c_result': u'ok',\n",
       "   u'p1c_start_time': u'2015-02-20T18:11:54.030000',\n",
       "   u'p1c_stop_time': u'2015-02-20T18:11:58.700000',\n",
       "   u'p1c_user': u'54cb967ebae47819d8e4c724'},\n",
       "  u'user': {u'_accessLevel': 2,\n",
       "   u'_id': u'54cb967ebae47819d8e4c724',\n",
       "   u'admin': False,\n",
       "   u'created': u'2015-01-30 14:34:37.878000',\n",
       "   u'email': u'marchetti.michael@gmail.com',\n",
       "   u'firstName': u'Michael',\n",
       "   u'groupInvites': [],\n",
       "   u'groups': [u'5428cb05bae478621f6159df',\n",
       "    u'5428cb05bae478621f6159e0',\n",
       "    u'5428cb05bae478621f6159e1',\n",
       "    u'5428cb05bae478621f6159cf',\n",
       "    u'5428cb05bae478621f6159de'],\n",
       "   u'lastName': u'Marchetti',\n",
       "   u'login': u'marchetm',\n",
       "   u'public': True,\n",
       "   u'size': 0}},\n",
       " u'path': u'ISIC/Lesion Images/ISIC_UDA-2_1 (ISBI training)/ISIC_0001102'}"
      ]
     },
     "execution_count": 48,
     "metadata": {},
     "output_type": "execute_result"
    }
   ],
   "source": [
    "m"
   ]
  },
  {
   "cell_type": "code",
   "execution_count": 49,
   "metadata": {
    "collapsed": true
   },
   "outputs": [],
   "source": [
    "get_diagnosis(m)"
   ]
  },
  {
   "cell_type": "code",
   "execution_count": 50,
   "metadata": {
    "collapsed": false
   },
   "outputs": [
    {
     "data": {
      "text/plain": [
       "u'malignant'"
      ]
     },
     "execution_count": 50,
     "metadata": {},
     "output_type": "execute_result"
    }
   ],
   "source": [
    "m['label']"
   ]
  },
  {
   "cell_type": "code",
   "execution_count": 15,
   "metadata": {
    "collapsed": false
   },
   "outputs": [
    {
     "data": {
      "text/plain": [
       "10293"
      ]
     },
     "execution_count": 15,
     "metadata": {},
     "output_type": "execute_result"
    }
   ],
   "source": [
    "len([m for m in meta if 'p1a' in m])"
   ]
  },
  {
   "cell_type": "code",
   "execution_count": 16,
   "metadata": {
    "collapsed": false
   },
   "outputs": [
    {
     "data": {
      "text/plain": [
       "10917"
      ]
     },
     "execution_count": 16,
     "metadata": {},
     "output_type": "execute_result"
    }
   ],
   "source": [
    "len([m for m in meta if 'label' in m])"
   ]
  },
  {
   "cell_type": "code",
   "execution_count": 17,
   "metadata": {
    "collapsed": false
   },
   "outputs": [
    {
     "data": {
      "text/plain": [
       "10293"
      ]
     },
     "execution_count": 17,
     "metadata": {},
     "output_type": "execute_result"
    }
   ],
   "source": [
    "len([m for m in meta if 'p1a' in m])"
   ]
  },
  {
   "cell_type": "code",
   "execution_count": 25,
   "metadata": {
    "collapsed": true
   },
   "outputs": [],
   "source": [
    "paths = [m['path'] for m in meta]\n",
    "paths = np.sort(paths)"
   ]
  },
  {
   "cell_type": "code",
   "execution_count": 27,
   "metadata": {
    "collapsed": false
   },
   "outputs": [],
   "source": [
    "with open('isic_paths.txt', 'w') as f:\n",
    "    prefix = \"\"\n",
    "    for p in paths:\n",
    "        f.write(prefix)\n",
    "        f.write(p)\n",
    "        prefix = '\\n'\n",
    "        "
   ]
  },
  {
   "cell_type": "code",
   "execution_count": null,
   "metadata": {
    "collapsed": true
   },
   "outputs": [],
   "source": []
  }
 ],
 "metadata": {
  "kernelspec": {
   "display_name": "Python 2",
   "language": "python",
   "name": "python2"
  },
  "language_info": {
   "codemirror_mode": {
    "name": "ipython",
    "version": 2
   },
   "file_extension": ".py",
   "mimetype": "text/x-python",
   "name": "python",
   "nbconvert_exporter": "python",
   "pygments_lexer": "ipython2",
   "version": "2.7.6"
  }
 },
 "nbformat": 4,
 "nbformat_minor": 0
}
