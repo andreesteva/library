{
 "cells": [
  {
   "cell_type": "markdown",
   "metadata": {
    "collapsed": true
   },
   "source": [
    "# Make quilter"
   ]
  },
  {
   "cell_type": "code",
   "execution_count": 35,
   "metadata": {
    "collapsed": false
   },
   "outputs": [
    {
     "name": "stdout",
     "output_type": "stream",
     "text": [
      "The autoreload extension is already loaded. To reload it, use:\n",
      "  %reload_ext autoreload\n"
     ]
    }
   ],
   "source": [
    "import lib\n",
    "from lib.inference import retrieval\n",
    "\n",
    "from sklearn.metrics.pairwise import euclidean_distances\n",
    "import time\n",
    "\n",
    "%load_ext autoreload\n",
    "%autoreload 2\n",
    "\n",
    "%matplotlib inline"
   ]
  },
  {
   "cell_type": "code",
   "execution_count": 53,
   "metadata": {
    "collapsed": false
   },
   "outputs": [],
   "source": [
    "import numpy as np\n",
    "import os\n",
    "import matplotlib.pyplot as plt\n",
    "\n",
    "IMAGES_DIR = '/ssd/esteva/skindata4/images'\n",
    "SAVE_NAME='/tmp/retrieval/quilt.jpg'"
   ]
  },
  {
   "cell_type": "code",
   "execution_count": 24,
   "metadata": {
    "collapsed": true
   },
   "outputs": [],
   "source": [
    "\n",
    "def readtxt(fn):\n",
    "    return np.array([line.strip() for line in open(fn).readlines()])\n",
    "\n",
    "def readmat(fn):\n",
    "    return np.load(fn)\n",
    "\n",
    "def addFullImagePath(basename):\n",
    "    return os.path.join(IMAGES_DIR, basename)\n",
    "\n",
    "def keep_unique_filenames(filenames, mat):\n",
    "    \"\"\"Reduces filenames and mat based on filename uniqueness.\n",
    "    \n",
    "    Filenames come in the form:\n",
    "        '-0GnmpIR2i8V5M.jpg'\n",
    "        '-0GnmpIR2i8V5M.jpg_1'\n",
    "        '-0GnmpIR2i8V5M.jpg_2'\n",
    "        ...\n",
    "    This function strips the _1, _2 from them, then takes the unique set.\n",
    "    \"\"\"\n",
    "    tmp = []\n",
    "    for f in filenames:\n",
    "        assert '.jpg' in f, 'Only .jpg is supported: %s' % f\n",
    "        fn = f.split('.jpg')[0] + '.jpg'\n",
    "        tmp.append(fn)\n",
    "    filenames = tmp\n",
    "            \n",
    "    unique_filenames, indices = np.unique(filenames, return_index=True)\n",
    "    unique_mat = mat[indices]\n",
    "    return unique_filenames, unique_mat\n",
    "\n",
    "\n",
    "def NN_sort(dist_mat, filenames):\n",
    "    \"\"\"Sorts dist_mat and filenames based on first-NN distance.\"\"\"\n",
    "    assert dist_mat.shape[0] == len(filenames)\n",
    "    d_NN = np.min(dist_mat, axis=1)\n",
    "    ind_sort = np.argsort(d_NN)\n",
    "    dist_mat = dist_mat[ind_sort]\n",
    "    filenames = filenames[ind_sort]\n",
    "    return dist_mat, filenames"
   ]
  },
  {
   "cell_type": "code",
   "execution_count": 3,
   "metadata": {
    "collapsed": false
   },
   "outputs": [],
   "source": [
    "# Load features and filenames \n",
    "dirname = '/archive/esteva/experiments/skindata4/inflammatory2/retrieve'\n",
    "\n",
    "# Train Data\n",
    "train_filenames = os.path.join(dirname, 'train-filenames.txt')\n",
    "train_filenames = readtxt(train_filenames)\n",
    "\n",
    "train_features = os.path.join(dirname, 'train-features.npy')\n",
    "train_features = readmat(train_features)\n",
    "\n",
    "train_filenames, train_features = keep_unique_filenames(\n",
    "    train_filenames, train_features)\n",
    "\n",
    "# Validation Data\n",
    "val_filenames = os.path.join(dirname, 'validation-filenames.txt')\n",
    "val_filenames = readtxt(val_filenames)\n",
    "\n",
    "val_features = os.path.join(dirname, 'validation-features.npy')\n",
    "val_features = readmat(val_features)\n",
    "\n",
    "val_filenames, val_features = keep_unique_filenames(\n",
    "    val_filenames, val_features)\n"
   ]
  },
  {
   "cell_type": "code",
   "execution_count": 25,
   "metadata": {
    "collapsed": false
   },
   "outputs": [
    {
     "name": "stdout",
     "output_type": "stream",
     "text": [
      "2.03960800171\n"
     ]
    }
   ],
   "source": [
    "# Find nearest neighbors and sort distance matrix and val_filenames by \n",
    "# first nearest neighbor distance\n",
    "t = time.time()\n",
    "dist_mat = euclidean_distances(val_features, train_features)\n",
    "dist_mat, val_filenames = NN_sort(dist_mat, val_filenames)\n",
    "print time.time() - t"
   ]
  },
  {
   "cell_type": "code",
   "execution_count": 30,
   "metadata": {
    "collapsed": false
   },
   "outputs": [
    {
     "name": "stdout",
     "output_type": "stream",
     "text": [
      "10.8288450241\n"
     ]
    }
   ],
   "source": [
    "t = time.time()\n",
    "index_mat = np.argsort(dist_mat, axis=1)\n",
    "print time.time() - t"
   ]
  },
  {
   "cell_type": "code",
   "execution_count": 31,
   "metadata": {
    "collapsed": false
   },
   "outputs": [
    {
     "name": "stdout",
     "output_type": "stream",
     "text": [
      "(4704, 33521)\n",
      "(4704, 33521)\n"
     ]
    }
   ],
   "source": [
    "print dist_mat.shape\n",
    "print index_mat.shape"
   ]
  },
  {
   "cell_type": "code",
   "execution_count": null,
   "metadata": {
    "collapsed": true
   },
   "outputs": [],
   "source": [
    "# Sort "
   ]
  },
  {
   "cell_type": "code",
   "execution_count": 32,
   "metadata": {
    "collapsed": false
   },
   "outputs": [],
   "source": [
    "# Put filenames from val and train into quilt format\n",
    "quilt_paths = []\n",
    "N = 10\n",
    "image_dir = '/ssd/esteva/skindata4/images'\n",
    "for fn, indices in zip(val_filenames, index_mat):\n",
    "    q = [fn]\n",
    "    q.extend(train_filenames[indices[:N]].tolist())\n",
    "    q = [addFullImagePath(qq) for qq in q]\n",
    "    quilt_paths.append(q)\n",
    "    "
   ]
  },
  {
   "cell_type": "code",
   "execution_count": 72,
   "metadata": {
    "collapsed": false
   },
   "outputs": [],
   "source": [
    "def save_quilt(quilt_paths, M=50):\n",
    "    \"\"\"Saves quilted image, M vertical thumbnails at a time.\"\"\"\n",
    "    N = len(quilt_paths)\n",
    "    \n",
    "    for i in range(0, N, M):\n",
    "        print '\\rQuilting %d/%d' % (i+M, N),\n",
    "        quilt = retrieval.quiltTheImages(quilt_paths[i:i+M])\n",
    "        ext = SAVE_NAME.split('.')[-1]\n",
    "        fn = \"\".join(SAVE_NAME.split('.')[:-1]) +'-' + str(i+M) + '.' + ext\n",
    "        print fn\n",
    "        quilt.save(fn)"
   ]
  },
  {
   "cell_type": "code",
   "execution_count": 73,
   "metadata": {
    "collapsed": false
   },
   "outputs": [
    {
     "name": "stdout",
     "output_type": "stream",
     "text": [
      "Quilting 50/4704 /tmp/retrieval/quilt-50.jpg\n",
      "Quilting 100/4704 /tmp/retrieval/quilt-100.jpg\n",
      "Quilting 150/4704 /tmp/retrieval/quilt-150.jpg\n",
      "Quilting 200/4704 /tmp/retrieval/quilt-200.jpg\n",
      "Quilting 250/4704 /tmp/retrieval/quilt-250.jpg\n",
      "Quilting 300/4704 /tmp/retrieval/quilt-300.jpg\n",
      "Quilting 350/4704 /tmp/retrieval/quilt-350.jpg\n",
      "Quilting 400/4704 /tmp/retrieval/quilt-400.jpg\n",
      "Quilting 450/4704 /tmp/retrieval/quilt-450.jpg\n",
      "Quilting 500/4704 /tmp/retrieval/quilt-500.jpg\n",
      "Quilting 550/4704 /tmp/retrieval/quilt-550.jpg\n",
      "Quilting 600/4704 /tmp/retrieval/quilt-600.jpg\n",
      "Quilting 650/4704 /tmp/retrieval/quilt-650.jpg\n",
      "Quilting 700/4704 /tmp/retrieval/quilt-700.jpg\n",
      "Quilting 750/4704 /tmp/retrieval/quilt-750.jpg\n",
      "Quilting 800/4704 /tmp/retrieval/quilt-800.jpg\n",
      "Quilting 850/4704 /tmp/retrieval/quilt-850.jpg\n",
      "Quilting 900/4704 /tmp/retrieval/quilt-900.jpg\n",
      "Quilting 950/4704 /tmp/retrieval/quilt-950.jpg\n",
      "Quilting 1000/4704 /tmp/retrieval/quilt-1000.jpg\n",
      "Quilting 1050/4704 /tmp/retrieval/quilt-1050.jpg\n",
      "Quilting 1100/4704 /tmp/retrieval/quilt-1100.jpg\n",
      "Quilting 1150/4704 /tmp/retrieval/quilt-1150.jpg\n",
      "Quilting 1200/4704 /tmp/retrieval/quilt-1200.jpg\n",
      "Quilting 1250/4704 /tmp/retrieval/quilt-1250.jpg\n",
      "Quilting 1300/4704 /tmp/retrieval/quilt-1300.jpg\n",
      "Quilting 1350/4704 /tmp/retrieval/quilt-1350.jpg\n",
      "Quilting 1400/4704 /tmp/retrieval/quilt-1400.jpg\n",
      "Quilting 1450/4704 /tmp/retrieval/quilt-1450.jpg\n",
      "Quilting 1500/4704 /tmp/retrieval/quilt-1500.jpg\n",
      "Quilting 1550/4704 /tmp/retrieval/quilt-1550.jpg\n",
      "Quilting 1600/4704 /tmp/retrieval/quilt-1600.jpg\n",
      "Quilting 1650/4704 /tmp/retrieval/quilt-1650.jpg\n",
      "Quilting 1700/4704 /tmp/retrieval/quilt-1700.jpg\n",
      "Quilting 1750/4704 /tmp/retrieval/quilt-1750.jpg\n",
      "Quilting 1800/4704 /tmp/retrieval/quilt-1800.jpg\n",
      "Quilting 1850/4704 /tmp/retrieval/quilt-1850.jpg\n",
      "Quilting 1900/4704 /tmp/retrieval/quilt-1900.jpg\n",
      "Quilting 1950/4704 /tmp/retrieval/quilt-1950.jpg\n",
      "Quilting 2000/4704 /tmp/retrieval/quilt-2000.jpg\n",
      "Quilting 2050/4704 /tmp/retrieval/quilt-2050.jpg\n",
      "Quilting 2100/4704 /tmp/retrieval/quilt-2100.jpg\n",
      "Quilting 2150/4704 /tmp/retrieval/quilt-2150.jpg\n",
      "Quilting 2200/4704 /tmp/retrieval/quilt-2200.jpg\n",
      "Quilting 2250/4704 /tmp/retrieval/quilt-2250.jpg\n",
      "Quilting 2300/4704 /tmp/retrieval/quilt-2300.jpg\n",
      "Quilting 2350/4704 /tmp/retrieval/quilt-2350.jpg\n",
      "Quilting 2400/4704 /tmp/retrieval/quilt-2400.jpg\n",
      "Quilting 2450/4704 /tmp/retrieval/quilt-2450.jpg\n",
      "Quilting 2500/4704 /tmp/retrieval/quilt-2500.jpg\n",
      "Quilting 2550/4704 /tmp/retrieval/quilt-2550.jpg\n",
      "Quilting 2600/4704 /tmp/retrieval/quilt-2600.jpg\n",
      "Quilting 2650/4704 /tmp/retrieval/quilt-2650.jpg\n",
      "Quilting 2700/4704 /tmp/retrieval/quilt-2700.jpg\n",
      "Quilting 2750/4704 /tmp/retrieval/quilt-2750.jpg\n",
      "Quilting 2800/4704 /tmp/retrieval/quilt-2800.jpg\n",
      "Quilting 2850/4704 /tmp/retrieval/quilt-2850.jpg\n",
      "Quilting 2900/4704 /tmp/retrieval/quilt-2900.jpg\n",
      "Quilting 2950/4704 /tmp/retrieval/quilt-2950.jpg\n",
      "Quilting 3000/4704 /tmp/retrieval/quilt-3000.jpg\n",
      "Quilting 3050/4704 /tmp/retrieval/quilt-3050.jpg\n",
      "Quilting 3100/4704 /tmp/retrieval/quilt-3100.jpg\n",
      "Quilting 3150/4704 /tmp/retrieval/quilt-3150.jpg\n",
      "Quilting 3200/4704 /tmp/retrieval/quilt-3200.jpg\n",
      "Quilting 3250/4704 /tmp/retrieval/quilt-3250.jpg\n",
      "Quilting 3300/4704 /tmp/retrieval/quilt-3300.jpg\n",
      "Quilting 3350/4704 /tmp/retrieval/quilt-3350.jpg\n",
      "Quilting 3400/4704 /tmp/retrieval/quilt-3400.jpg\n",
      "Quilting 3450/4704 /tmp/retrieval/quilt-3450.jpg\n",
      "Quilting 3500/4704 /tmp/retrieval/quilt-3500.jpg\n",
      "Quilting 3550/4704 /tmp/retrieval/quilt-3550.jpg\n",
      "Quilting 3600/4704 /tmp/retrieval/quilt-3600.jpg\n",
      "Quilting 3650/4704 /tmp/retrieval/quilt-3650.jpg\n",
      "Quilting 3700/4704 /tmp/retrieval/quilt-3700.jpg\n",
      "Quilting 3750/4704 /tmp/retrieval/quilt-3750.jpg\n",
      "Quilting 3800/4704 /tmp/retrieval/quilt-3800.jpg\n",
      "Quilting 3850/4704 /tmp/retrieval/quilt-3850.jpg\n",
      "Quilting 3900/4704 /tmp/retrieval/quilt-3900.jpg\n",
      "Quilting 3950/4704 /tmp/retrieval/quilt-3950.jpg\n",
      "Quilting 4000/4704 /tmp/retrieval/quilt-4000.jpg\n",
      "Quilting 4050/4704 /tmp/retrieval/quilt-4050.jpg\n",
      "Quilting 4100/4704 /tmp/retrieval/quilt-4100.jpg\n",
      "Quilting 4150/4704 /tmp/retrieval/quilt-4150.jpg\n",
      "Quilting 4200/4704 /tmp/retrieval/quilt-4200.jpg\n",
      "Quilting 4250/4704 /tmp/retrieval/quilt-4250.jpg\n",
      "Quilting 4300/4704 /tmp/retrieval/quilt-4300.jpg\n",
      "Quilting 4350/4704 /tmp/retrieval/quilt-4350.jpg\n",
      "Quilting 4400/4704 /tmp/retrieval/quilt-4400.jpg\n",
      "Quilting 4450/4704 /tmp/retrieval/quilt-4450.jpg\n",
      "Quilting 4500/4704 /tmp/retrieval/quilt-4500.jpg\n",
      "Quilting 4550/4704 /tmp/retrieval/quilt-4550.jpg\n",
      "Quilting 4600/4704 /tmp/retrieval/quilt-4600.jpg\n",
      "Quilting 4650/4704 /tmp/retrieval/quilt-4650.jpg\n",
      "Quilting 4700/4704 /tmp/retrieval/quilt-4700.jpg\n",
      "Quilting 4750/4704 /tmp/retrieval/quilt-4750.jpg\n"
     ]
    }
   ],
   "source": [
    "save_quilt(quilt_paths)"
   ]
  },
  {
   "cell_type": "code",
   "execution_count": 49,
   "metadata": {
    "collapsed": false
   },
   "outputs": [],
   "source": [
    "quilt = retrieval.quiltTheImages(quilt_paths[1000:1010])\n",
    "a = np.asarray(quilt)\n",
    "\n",
    "plt.imshow(a)"
   ]
  }
 ],
 "metadata": {
  "kernelspec": {
   "display_name": "Python 2",
   "language": "python",
   "name": "python2"
  },
  "language_info": {
   "codemirror_mode": {
    "name": "ipython",
    "version": 2
   },
   "file_extension": ".py",
   "mimetype": "text/x-python",
   "name": "python",
   "nbconvert_exporter": "python",
   "pygments_lexer": "ipython2",
   "version": "2.7.6"
  }
 },
 "nbformat": 4,
 "nbformat_minor": 0
}
