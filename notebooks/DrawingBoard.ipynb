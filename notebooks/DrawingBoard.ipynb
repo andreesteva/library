{
 "cells": [
  {
   "cell_type": "code",
   "execution_count": 45,
   "metadata": {
    "collapsed": true
   },
   "outputs": [],
   "source": [
    "import argparse\n",
    "import numpy as np\n",
    "import os\n",
    "import os.path as osp \n",
    "import json\n",
    "import shutil\n",
    "\n",
    "import lib \n",
    "from lib.taxonomy import loading"
   ]
  },
  {
   "cell_type": "code",
   "execution_count": 20,
   "metadata": {
    "collapsed": false
   },
   "outputs": [
    {
     "name": "stdout",
     "output_type": "stream",
     "text": [
      "10666\n",
      "meta created\n"
     ]
    }
   ],
   "source": [
    "# parser = argparse.ArgumentParser(description='Arguments for production partition')\n",
    "# parser.add_argument('--dataset_directory', type=str)\n",
    "# parser.add_argument('--new_dir', type=str)\n",
    "# parser.add_argument('--meta_file', type=str, help='The meta.json to load from.')\n",
    "# args = parser.parse_args()\n",
    "\n",
    "dataset_directory = '/ssd/esteva/skindata4/splits/nine-way/val/inflammatory'\n",
    "new_dir = dataset_directory + '-split'\n",
    "meta_file = '/ssd/esteva/skindata4/meta.json'\n",
    "\n",
    "image_names = os.listdir(dataset_directory)\n",
    "print len(image_names)\n",
    "\n",
    "meta = json.load(open(meta_file))\n",
    "meta = [m for m in meta if 'tax_path' in m]\n",
    "filename2meta = loading.Field2meta(meta, field='filename')\n",
    "print 'meta created'"
   ]
  },
  {
   "cell_type": "code",
   "execution_count": 48,
   "metadata": {
    "collapsed": true
   },
   "outputs": [],
   "source": [
    "def full_tax_path(entry):\n",
    "    \"\"\"Returns i.e. acne_of-the-leg_but-not-the-ass\"\"\"\n",
    "    tax_path = entry['tax_path'][1:]\n",
    "    tax_path = '_'.join(['-'.join(l) for l in tax_path])\n",
    "    return tax_path\n",
    "\n",
    "def copy(src, dst):\n",
    "    \"\"\"Copy src to dst, making a new symlink if src is a symlink.\"\"\"\n",
    "    if os.path.islink(src):\n",
    "        linkto = os.readlink(src)\n",
    "        os.symlink(linkto, dst)\n",
    "    else:\n",
    "        shutil.copy(src,dst)"
   ]
  },
  {
   "cell_type": "code",
   "execution_count": 40,
   "metadata": {
    "collapsed": false
   },
   "outputs": [],
   "source": [
    "new_dir_structure = {}\n",
    "bad = 0\n",
    "for filename in image_names:\n",
    "    meta_entries = filename2meta(filename)\n",
    "    tax_paths = [full_tax_path(m) for m in meta_entries]\n",
    "    if len(tax_paths) > 1:\n",
    "        bad += 1\n",
    "    tax_path = tax_paths[0]\n",
    "    if tax_path in new_dir_structure:\n",
    "        new_dir_structure[tax_path].append(filename)\n",
    "    else:\n",
    "        new_dir_structure[tax_path] = [filename]"
   ]
  },
  {
   "cell_type": "code",
   "execution_count": 42,
   "metadata": {
    "collapsed": false
   },
   "outputs": [
    {
     "data": {
      "text/plain": [
       "'/ssd/esteva/skindata4/splits/nine-way/val/inflammatory'"
      ]
     },
     "execution_count": 42,
     "metadata": {},
     "output_type": "execute_result"
    }
   ],
   "source": [
    "dataset_directory"
   ]
  },
  {
   "cell_type": "code",
   "execution_count": 50,
   "metadata": {
    "collapsed": false
   },
   "outputs": [
    {
     "name": "stdout",
     "output_type": "stream",
     "text": [
      "Deleting previous\n",
      "Making: skin-diseases-of-pregnancy_pruritic-urticarial-papules-and-plaques-of-pregnancy\n"
     ]
    }
   ],
   "source": [
    "\n",
    "if osp.exists(new_dir):\n",
    "    print 'Deleting previous'\n",
    "    shutil.rmtree(new_dir)\n",
    "os.makedirs(new_dir)\n",
    "\n",
    "for new_class in new_dir_structure:\n",
    "    print '\\rMaking: %s' % new_class,\n",
    "    subdir = osp.join(new_dir, new_class)\n",
    "    os.makedirs(subdir)\n",
    "    for filename in new_dir_structure[new_class]:\n",
    "        src = osp.join(dataset_directory, filename)\n",
    "        dst = osp.join(subdir, filename)\n",
    "        copy(src, dst)        "
   ]
  },
  {
   "cell_type": "code",
   "execution_count": null,
   "metadata": {
    "collapsed": true
   },
   "outputs": [],
   "source": []
  }
 ],
 "metadata": {
  "kernelspec": {
   "display_name": "Python 2",
   "language": "python",
   "name": "python2"
  },
  "language_info": {
   "codemirror_mode": {
    "name": "ipython",
    "version": 2
   },
   "file_extension": ".py",
   "mimetype": "text/x-python",
   "name": "python",
   "nbconvert_exporter": "python",
   "pygments_lexer": "ipython2",
   "version": "2.7.6"
  }
 },
 "nbformat": 4,
 "nbformat_minor": 0
}
