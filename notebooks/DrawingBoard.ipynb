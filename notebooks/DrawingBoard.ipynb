{
 "cells": [
  {
   "cell_type": "markdown",
   "metadata": {},
   "source": [
    "# Use inception_v3 mobile-ready network to load model ckpt into"
   ]
  },
  {
   "cell_type": "code",
   "execution_count": 1,
   "metadata": {
    "collapsed": false
   },
   "outputs": [],
   "source": [
    "!export CUDA_VISIBLE_DEVICES=0"
   ]
  },
  {
   "cell_type": "code",
   "execution_count": 2,
   "metadata": {
    "collapsed": true
   },
   "outputs": [],
   "source": [
    "import tensorflow as tf\n",
    "from tensorflow.python.platform import gfile"
   ]
  },
  {
   "cell_type": "code",
   "execution_count": 16,
   "metadata": {
    "collapsed": false
   },
   "outputs": [],
   "source": [
    "model_filename = '/tmp/imagenet/classify_image_graph_def.pb'\n",
    "model_filename = '/media/esteva/ExtraDrive1/ThrunResearch/tf_experiments/nine-way/export/inference_graph.pb.frozen.stripped'\n",
    "with tf.Session() as sess:    \n",
    "    with gfile.FastGFile(model_filename, 'rb') as f:\n",
    "        graph_def = tf.GraphDef()\n",
    "        graph_def.ParseFromString(f.read())\n",
    "        tf.import_graph_def(graph_def, name='')\n",
    "        \n",
    "    # These are the features!\n",
    "    t = tf.get_default_graph().get_tensor_by_name(\"inception_v3/logits/flatten/Reshape:0\")\n",
    "    "
   ]
  },
  {
   "cell_type": "code",
   "execution_count": 17,
   "metadata": {
    "collapsed": false
   },
   "outputs": [
    {
     "data": {
      "text/plain": [
       "<tf.Tensor 'inception_v3/logits/flatten/Reshape:0' shape=(?, 2048) dtype=float32>"
      ]
     },
     "execution_count": 17,
     "metadata": {},
     "output_type": "execute_result"
    }
   ],
   "source": [
    "t"
   ]
  },
  {
   "cell_type": "code",
   "execution_count": null,
   "metadata": {
    "collapsed": true
   },
   "outputs": [],
   "source": [
    "graph_def."
   ]
  },
  {
   "cell_type": "code",
   "execution_count": 7,
   "metadata": {
    "collapsed": true
   },
   "outputs": [],
   "source": [
    "names = [node.name for node in graph_def.node]"
   ]
  },
  {
   "cell_type": "code",
   "execution_count": 9,
   "metadata": {
    "collapsed": false
   },
   "outputs": [
    {
     "data": {
      "text/plain": [
       "[u'inception_v3/logits/pool/AvgPool',\n",
       " u'inception_v3/logits/flatten/Reshape/shape',\n",
       " u'inception_v3/logits/flatten/Reshape',\n",
       " u'logits/logits/weights',\n",
       " u'logits/logits/weights/read',\n",
       " u'logits/logits/biases',\n",
       " u'logits/logits/biases/read',\n",
       " u'inception_v3/logits/logits/xw_plus_b/MatMul',\n",
       " u'inception_v3/logits/logits/xw_plus_b',\n",
       " u'softmax']"
      ]
     },
     "execution_count": 9,
     "metadata": {},
     "output_type": "execute_result"
    }
   ],
   "source": [
    "names[-10:]"
   ]
  },
  {
   "cell_type": "code",
   "execution_count": 33,
   "metadata": {
    "collapsed": false
   },
   "outputs": [
    {
     "data": {
      "text/plain": [
       "name: \"softmax\"\n",
       "op: \"Softmax\"\n",
       "input: \"softmax/logits\"\n",
       "attr {\n",
       "  key: \"T\"\n",
       "  value {\n",
       "    type: DT_FLOAT\n",
       "  }\n",
       "}"
      ]
     },
     "execution_count": 33,
     "metadata": {},
     "output_type": "execute_result"
    }
   ],
   "source": []
  },
  {
   "cell_type": "code",
   "execution_count": null,
   "metadata": {
    "collapsed": true
   },
   "outputs": [],
   "source": []
  },
  {
   "cell_type": "code",
   "execution_count": 7,
   "metadata": {
    "collapsed": false
   },
   "outputs": [],
   "source": [
    "with tf.Graph().as_default():\n",
    "    g = tf.GraphDef()\n",
    "    with open('/media/esteva/ExtraDrive1/ThrunResearch/tf_experiments/nine-way/export/inference_graph.pb.frozen.stripped.quantized') as f:\n",
    "        g.ParseFromString(f.read())\n",
    "\n",
    "nombres = [node.name for node in g.node]\n",
    "ops = [node.op for node in g.node]"
   ]
  },
  {
   "cell_type": "code",
   "execution_count": 9,
   "metadata": {
    "collapsed": false
   },
   "outputs": [
    {
     "data": {
      "text/plain": [
       "{u'Add',\n",
       " u'AvgPool',\n",
       " u'BiasAdd',\n",
       " u'Concat',\n",
       " u'Const',\n",
       " u'Conv2D',\n",
       " u'Dequantize',\n",
       " u'Identity',\n",
       " u'MatMul',\n",
       " u'MaxPool',\n",
       " u'Mul',\n",
       " u'Placeholder',\n",
       " u'Relu',\n",
       " u'Reshape',\n",
       " u'Rsqrt',\n",
       " u'Softmax',\n",
       " u'Sub'}"
      ]
     },
     "execution_count": 9,
     "metadata": {},
     "output_type": "execute_result"
    }
   ],
   "source": [
    "set(ops)"
   ]
  },
  {
   "cell_type": "code",
   "execution_count": 10,
   "metadata": {
    "collapsed": false
   },
   "outputs": [],
   "source": [
    "sm = [node for node in g.node if node.name == 'softmax']"
   ]
  },
  {
   "cell_type": "code",
   "execution_count": 11,
   "metadata": {
    "collapsed": false
   },
   "outputs": [
    {
     "data": {
      "text/plain": [
       "[name: \"softmax\"\n",
       " op: \"Softmax\"\n",
       " input: \"inception_v3/logits/logits/xw_plus_b\"\n",
       " attr {\n",
       "   key: \"T\"\n",
       "   value {\n",
       "     type: DT_FLOAT\n",
       "   }\n",
       " }]"
      ]
     },
     "execution_count": 11,
     "metadata": {},
     "output_type": "execute_result"
    }
   ],
   "source": [
    "sm"
   ]
  },
  {
   "cell_type": "code",
   "execution_count": 32,
   "metadata": {
    "collapsed": false
   },
   "outputs": [
    {
     "data": {
      "text/plain": [
       "name: \"softmax\"\n",
       "op: \"Softmax\"\n",
       "input: \"inception_v3/logits/logits/xw_plus_b\"\n",
       "attr {\n",
       "  key: \"T\"\n",
       "  value {\n",
       "    type: DT_FLOAT\n",
       "  }\n",
       "}"
      ]
     },
     "execution_count": 32,
     "metadata": {},
     "output_type": "execute_result"
    }
   ],
   "source": [
    "g.node[-1]"
   ]
  },
  {
   "cell_type": "code",
   "execution_count": null,
   "metadata": {
    "collapsed": true
   },
   "outputs": [],
   "source": []
  }
 ],
 "metadata": {
  "kernelspec": {
   "display_name": "Python 2",
   "language": "python",
   "name": "python2"
  },
  "language_info": {
   "codemirror_mode": {
    "name": "ipython",
    "version": 2
   },
   "file_extension": ".py",
   "mimetype": "text/x-python",
   "name": "python",
   "nbconvert_exporter": "python",
   "pygments_lexer": "ipython2",
   "version": "2.7.11"
  }
 },
 "nbformat": 4,
 "nbformat_minor": 0
}
