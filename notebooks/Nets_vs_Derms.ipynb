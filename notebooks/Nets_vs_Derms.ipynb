{
 "cells": [
  {
   "cell_type": "markdown",
   "metadata": {
    "collapsed": true
   },
   "source": [
    "# Nets vs Derms using TF Shards of test sets\n"
   ]
  },
  {
   "cell_type": "code",
   "execution_count": 1,
   "metadata": {
    "collapsed": true
   },
   "outputs": [],
   "source": [
    "from datetime import datetime\n",
    "import math\n",
    "import os.path\n",
    "import time\n",
    "from sklearn.metrics import average_precision_score, roc_curve, auc\n",
    "\n",
    "import numpy as np\n",
    "import tensorflow as tf\n",
    "\n",
    "from inception import image_processing\n",
    "from inception import inception_model as inception\n",
    "from inception.skin_data import SkinData\n",
    "\n",
    "import lib \n",
    "from lib.learning import vis_utils as vu\n",
    "from lib.learning import clumping_utils as cu\n"
   ]
  },
  {
   "cell_type": "code",
   "execution_count": 2,
   "metadata": {
    "collapsed": false
   },
   "outputs": [],
   "source": [
    "FLAGS = tf.app.flags.FLAGS\n",
    "\n",
    "tf.app.flags.DEFINE_string('eval_dir', '/archive/esteva/experiments/skindata4/baseline/eval',\n",
    "                           \"\"\"Directory where to write event logs.\"\"\")\n",
    "tf.app.flags.DEFINE_string('checkpoint_dir', '/archive/esteva/experiments/skindata4/baseline/train',\n",
    "                           \"\"\"Directory where to read model checkpoints.\"\"\")\n",
    "tf.app.flags.DEFINE_string('labels_file', '/archive/esteva/skindata4/splits/nine-way/labels.txt',\n",
    "                           \"\"\"The file with the classnames listed in it.\"\"\")\n",
    "\n",
    "\n",
    "# Flags governing the data used for the eval.\n",
    "tf.app.flags.DEFINE_integer('num_examples', 14712,\n",
    "                            \"\"\"Number of examples to run. Note that the connected componenets\"\"\"\n",
    "                            \"\"\"validation dataset contains 14709 examples.\"\"\")\n",
    "tf.app.flags.DEFINE_string('subset', 'validation',\n",
    "                           \"\"\"Either 'validation' or 'train'.\"\"\")\n",
    "\n",
    "tf.app.flags.DEFINE_string('mapping_file',\n",
    "                           '',\n",
    "                           \"\"\"Defines a mapping from train to validation indicating how classes will be merged.\"\"\"\n",
    "                           \"\"\"If this is specified, we sum probabilities to the validation class level.\"\"\"\n",
    "                           \"\"\"Entries in this file must be of the form:\n",
    "                                [validation-class-0] [training-class-0]\n",
    "                                [validation-class-0] [training-class-1]\n",
    "                                [validation-class-0] [training-class-2]\n",
    "                                [validation-class-1] [training-class-3]\n",
    "                                ...\n",
    "                           \"\"\"\n",
    "                           )\n"
   ]
  },
  {
   "cell_type": "code",
   "execution_count": 3,
   "metadata": {
    "collapsed": false
   },
   "outputs": [],
   "source": [
    "def _eval_once(saver, softmax_op, labels_op, num_classes):\n",
    "    \"\"\"Runs Eval once.\n",
    "\n",
    "    Args:\n",
    "    saver: Saver.        \n",
    "    softmax_op: The softmax op\n",
    "    labels_op: The labels op    \n",
    "    num_classes: the number of classes in the dataset (including background class)\n",
    "    \"\"\"\n",
    "    with tf.Session() as sess:\n",
    "        ckpt = tf.train.get_checkpoint_state(FLAGS.checkpoint_dir)\n",
    "        if ckpt and ckpt.model_checkpoint_path:\n",
    "            if os.path.isabs(ckpt.model_checkpoint_path):\n",
    "                # Restores from checkpoint with absolute path.\n",
    "                saver.restore(sess, ckpt.model_checkpoint_path)\n",
    "            else:\n",
    "                # Restores from checkpoint with relative path.\n",
    "                saver.restore(sess, os.path.join(FLAGS.checkpoint_dir,\n",
    "                                                 ckpt.model_checkpoint_path))\n",
    "\n",
    "            # Assuming model_checkpoint_path looks something like:\n",
    "            #   /my-favorite-path/imagenet_train/model.ckpt-0,\n",
    "            # extract global_step from it.\n",
    "            global_step = ckpt.model_checkpoint_path.split('/')[-1].split('-')[-1]\n",
    "            print('Succesfully loaded model from %s at step=%s.' %\n",
    "                (ckpt.model_checkpoint_path, global_step))\n",
    "        else:\n",
    "            print('No checkpoint file found')\n",
    "            return\n",
    "\n",
    "        # Start the queue runners.\n",
    "        coord = tf.train.Coordinator()\n",
    "        try:\n",
    "            threads = []\n",
    "            for qr in tf.get_collection(tf.GraphKeys.QUEUE_RUNNERS):\n",
    "                threads.extend(qr.create_threads(sess, coord=coord, daemon=True,\n",
    "                                             start=True))\n",
    "\n",
    "            num_iter = int(math.ceil(FLAGS.num_examples / FLAGS.batch_size))\n",
    "            # Counts the number of correct predictions.        \n",
    "            total_sample_count = num_iter * FLAGS.batch_size\n",
    "            step = 0\n",
    "            correct_per_class = np.zeros(num_classes)\n",
    "            count_per_class = np.zeros(num_classes)\n",
    "\n",
    "            mapping = ['__unused_background_class__ __unused_background_class__']\n",
    "            _mapping = [line.strip() for line in open(FLAGS.mapping_file).readlines()]\n",
    "            mapping.extend(_mapping)\n",
    "            val_classes = np.unique([m.split()[0] for m in mapping])\n",
    "            num_val_classes = len(val_classes)\n",
    "            correct_per_class = np.zeros(num_val_classes)\n",
    "            count_per_class = np.zeros(num_val_classes)\n",
    "\n",
    "            print('%s: starting evaluation on (%s).' % (datetime.now(), FLAGS.subset))\n",
    "            start_time = time.time()\n",
    "            total_softmax = []\n",
    "            all_labels = []\n",
    "            while step < num_iter and not coord.should_stop():\n",
    "                softmax, labels = sess.run([softmax_op, labels_op])\n",
    "                all_labels.append(labels)\n",
    "                if FLAGS.mapping_file:\n",
    "                    softmax = cu.mergeProbabilities(softmax, mapping)\n",
    "                total_softmax.append(softmax)\n",
    "\n",
    "                step += 1\n",
    "                if step % 20 == 0:\n",
    "                    duration = time.time() - start_time\n",
    "                    sec_per_batch = duration / 20.0\n",
    "                    examples_per_sec = FLAGS.batch_size / sec_per_batch\n",
    "                    print('%s: [%d batches out of %d] (%.1f examples/sec; %.3f'\n",
    "                        'sec/batch)' % (datetime.now(), step, num_iter,\n",
    "                                        examples_per_sec, sec_per_batch))\n",
    "                    start_time = time.time()\n",
    "\n",
    "        except Exception as e:  # pylint: disable=broad-except\n",
    "            coord.request_stop(e)\n",
    "\n",
    "        coord.request_stop()\n",
    "        coord.join(threads, stop_grace_period_secs=10)\n",
    "    \n",
    "    return np.vstack(total_softmax), np.hstack(all_labels)\n"
   ]
  },
  {
   "cell_type": "code",
   "execution_count": 4,
   "metadata": {
    "collapsed": false
   },
   "outputs": [],
   "source": [
    "def evaluate(dataset):\n",
    "    \"\"\"Evaluate model on Dataset for a number of steps.\"\"\"\n",
    "    with tf.Graph().as_default():\n",
    "        # Get images and labels from the dataset.\n",
    "        images, labels = image_processing.inputs(dataset)\n",
    "\n",
    "        # Number of classes in the Dataset label set plus 1.\n",
    "        # Label 0 is reserved for an (unused) background class.\n",
    "        num_classes = dataset.num_classes() + 1\n",
    "\n",
    "        # Build a Graph that computes the logits predictions from the\n",
    "        # inference model.\n",
    "        logits, _ = inception.inference(images, num_classes)\n",
    "        softmax = tf.nn.softmax(logits)   \n",
    "\n",
    "        # Restore the moving average version of the learned variables for eval.\n",
    "        variable_averages = tf.train.ExponentialMovingAverage(\n",
    "            inception.MOVING_AVERAGE_DECAY)\n",
    "        variables_to_restore = variable_averages.variables_to_restore()\n",
    "        saver = tf.train.Saver(variables_to_restore)\n",
    "\n",
    "        probabilities, labels = _eval_once(saver, softmax, labels, num_classes)\n",
    "    return probabilities, labels\n",
    "    \n",
    "    \n",
    "def plot_results(labels, probs, people, title, show_legend=False, return_fig_handle=False, textcolor='#4D5B66'):\n",
    "    \"\"\"Plots the SS and prints best results for the data, given the extracted probs.\"\"\"\n",
    "\n",
    "    fpr, tpr, thresholds = roc_curve(labels, probs)\n",
    "    tnr = 1 - fpr\n",
    "    ss = np.concatenate((tpr.reshape((-1,1)), tnr.reshape((-1,1)), thresholds.reshape((-1,1))), axis=1)\n",
    "    best = np.argmax(np.mean(ss[:, :2], axis=1))\n",
    "    best_sens = ss[best, 0]\n",
    "    best_spec = ss[best, 1]\n",
    "    best_thresh = ss[best, 2]\n",
    "    auc_ss = auc(fpr, tpr)\n",
    "\n",
    "    print 'Best sens', best_sens\n",
    "    print 'Best spec', best_spec\n",
    "    print 'Best thresh', best_thresh\n",
    "    fig, ax = vu.plotSSCurve(tpr, tnr, people=people, title=title, show_legend=show_legend, textcolor=textcolor)\n",
    "    if return_fig_handle:\n",
    "        return fig, ax"
   ]
  },
  {
   "cell_type": "markdown",
   "metadata": {},
   "source": [
    "### Epidermal Test"
   ]
  },
  {
   "cell_type": "code",
   "execution_count": 5,
   "metadata": {
    "collapsed": true
   },
   "outputs": [],
   "source": [
    "FLAGS.eval_dir = '/tmp/eval'\n",
    "FLAGS.checkpoint_dir = '/media/esteva/ExtraDrive1/ThrunResearch/tf_experiments/nine-way/train/'\n",
    "FLAGS.labels_file = '/media/esteva/ExtraDrive1/ThrunResearch/data/skindata4/splits/nine-way/labels.txt'\n",
    "FLAGS.num_examples = 707\n",
    "FLAGS.data_dir = '/media/esteva/ExtraDrive1/ThrunResearch/data/skindata4/tf_shards/tests/epidermal_test/'\n",
    "FLAGS.mapping_file = '/media/esteva/ExtraDrive1/ThrunResearch/data/skindata4/splits/nine-way/labels.txt.mappingEpidermal'"
   ]
  },
  {
   "cell_type": "code",
   "execution_count": 5,
   "metadata": {
    "collapsed": true
   },
   "outputs": [],
   "source": [
    "FLAGS.eval_dir = '/tmp/eval'\n",
    "FLAGS.checkpoint_dir = '/media/esteva/ExtraDrive1/ThrunResearch/tf_experiments/recursive_dividing_N=1000/train/'\n",
    "FLAGS.labels_file = '/media/esteva/ExtraDrive1/ThrunResearch/data/skindata4/splits/recursive_dividing_N=1000/labels.txt'\n",
    "FLAGS.num_examples = 707\n",
    "FLAGS.data_dir = '/media/esteva/ExtraDrive1/ThrunResearch/data/skindata4/tf_shards/tests/epidermal_test/'\n",
    "FLAGS.mapping_file = '/media/esteva/ExtraDrive1/ThrunResearch/data/skindata4/splits/recursive_dividing_N=1000/labels.txt.mappingEpidermal'"
   ]
  },
  {
   "cell_type": "code",
   "execution_count": 6,
   "metadata": {
    "collapsed": false
   },
   "outputs": [
    {
     "name": "stdout",
     "output_type": "stream",
     "text": [
      "Using mapping file /media/esteva/ExtraDrive1/ThrunResearch/data/skindata4/splits/nine-way/labels.txt.mappingEpidermal\n",
      "Succesfully loaded model from model.ckpt-165000 at step=165000.\n",
      "2016-07-19 10:26:40.185801: starting evaluation on (validation).\n",
      "2016-07-19 10:26:53.898963: [20 batches out of 22] (46.7 examples/sec; 0.686sec/batch)\n",
      "Elapsed Tine 24.31\n"
     ]
    }
   ],
   "source": [
    "num_classes = len([line for line in open(FLAGS.labels_file).readlines() if line.strip()])\n",
    "dataset = SkinData(subset=FLAGS.subset, num_classes=num_classes)\n",
    "assert dataset.data_files()\n",
    "\n",
    "print('Using mapping file %s' % FLAGS.mapping_file)\n",
    "mapping = [line.strip().split()[1] for line in open(FLAGS.mapping_file).readlines()]\n",
    "synset = [line.strip() for line in open(FLAGS.labels_file).readlines()]\n",
    "\n",
    "assert len(mapping) == len(synset), \\\n",
    "      'Length of mapping & synset do not match: %s, %s' % (FLAGS.mapping_file, FLAGS.labels_file)\n",
    "for i, (m,s) in enumerate(zip(mapping, synset)):\n",
    "    assert m == s, 'Mapping issue entry %d, %s is not %s' % (i, m, s)\n",
    "\n",
    "t = time.time()\n",
    "probabilities, labels = evaluate(dataset)\n",
    "print 'Elapsed Tine %0.2f' % (time.time() - t)\n"
   ]
  },
  {
   "cell_type": "code",
   "execution_count": 8,
   "metadata": {
    "collapsed": false
   },
   "outputs": [
    {
     "name": "stdout",
     "output_type": "stream",
     "text": [
      "Best sens 0.854910714286\n",
      "Best spec 0.9296875\n",
      "Best thresh 0.813561625575\n",
      "The AUC is 0.94868687221\n"
     ]
    },
    {
     "data": {
      "image/png": "[encoded data removed]",
      "text/plain": [
       "<matplotlib.figure.Figure at 0x7fe168212b10>"
      ]
     },
     "metadata": {},
     "output_type": "display_data"
    }
   ],
   "source": [
    "p = probabilities.copy()\n",
    "p = p[:, 1:]\n",
    "p /= np.sum(p, axis=1).reshape((-1,1))\n",
    "p = p[:,1]\n",
    "l = labels - 1\n",
    "\n",
    "\n",
    "f, a = plot_results(l, p, [], 'Epidermal Test', show_legend=True, return_fig_handle=True)"
   ]
  },
  {
   "cell_type": "code",
   "execution_count": 12,
   "metadata": {
    "collapsed": false
   },
   "outputs": [],
   "source": [
    "f.savefig('/tmp/epi.svg')"
   ]
  },
  {
   "cell_type": "markdown",
   "metadata": {},
   "source": [
    "### Pigmented Test"
   ]
  },
  {
   "cell_type": "code",
   "execution_count": 73,
   "metadata": {
    "collapsed": true
   },
   "outputs": [],
   "source": [
    "FLAGS.eval_dir = '/tmp/eval'\n",
    "FLAGS.checkpoint_dir = '/media/esteva/ExtraDrive1/ThrunResearch/tf_experiments/nine-way/train/'\n",
    "FLAGS.labels_file = '/media/esteva/ExtraDrive1/ThrunResearch/data/skindata4/splits/nine-way/labels.txt'\n",
    "FLAGS.num_examples = 225\n",
    "FLAGS.data_dir = '/media/esteva/ExtraDrive1/ThrunResearch/data/skindata4/tf_shards/tests/melanocytic_test/'\n",
    "FLAGS.mapping_file = '/media/esteva/ExtraDrive1/ThrunResearch/data/skindata4/splits/nine-way/labels.txt.mappingMelanocytic'"
   ]
  },
  {
   "cell_type": "code",
   "execution_count": 54,
   "metadata": {
    "collapsed": true
   },
   "outputs": [],
   "source": [
    "FLAGS.eval_dir = '/tmp/eval'\n",
    "FLAGS.checkpoint_dir = '/media/esteva/ExtraDrive1/ThrunResearch/tf_experiments/recursive_dividing_N=1000/train/'\n",
    "FLAGS.labels_file = '/media/esteva/ExtraDrive1/ThrunResearch/data/skindata4/splits/recursive_dividing_N=1000/labels.txt'\n",
    "FLAGS.num_examples = 225\n",
    "FLAGS.data_dir = '/media/esteva/ExtraDrive1/ThrunResearch/data/skindata4/tf_shards/tests/melanocytic_test/'\n",
    "FLAGS.mapping_file = '/media/esteva/ExtraDrive1/ThrunResearch/data/skindata4/splits/recursive_dividing_N=1000/labels.txt.mappingMelanocytic'"
   ]
  },
  {
   "cell_type": "code",
   "execution_count": 74,
   "metadata": {
    "collapsed": false
   },
   "outputs": [
    {
     "name": "stdout",
     "output_type": "stream",
     "text": [
      "Using mapping file /media/esteva/ExtraDrive1/ThrunResearch/data/skindata4/splits/nine-way/labels.txt.mappingMelanocytic\n",
      "Succesfully loaded model from model.ckpt-165000 at step=165000.\n",
      "2016-07-18 18:52:15.500774: starting evaluation on (validation).\n"
     ]
    },
    {
     "ename": "KeyboardInterrupt",
     "evalue": "",
     "output_type": "error",
     "traceback": [
      "\u001b[1;31m---------------------------------------------------------------------------\u001b[0m",
      "\u001b[1;31mKeyboardInterrupt\u001b[0m                         Traceback (most recent call last)",
      "\u001b[1;32m<ipython-input-74-df87eaf5ac7a>\u001b[0m in \u001b[0;36m<module>\u001b[1;34m()\u001b[0m\n\u001b[0;32m     12\u001b[0m \u001b[1;33m\u001b[0m\u001b[0m\n\u001b[0;32m     13\u001b[0m \u001b[0mt\u001b[0m \u001b[1;33m=\u001b[0m \u001b[0mtime\u001b[0m\u001b[1;33m.\u001b[0m\u001b[0mtime\u001b[0m\u001b[1;33m(\u001b[0m\u001b[1;33m)\u001b[0m\u001b[1;33m\u001b[0m\u001b[0m\n\u001b[1;32m---> 14\u001b[1;33m \u001b[0mprobabilities\u001b[0m\u001b[1;33m,\u001b[0m \u001b[0mlabels\u001b[0m \u001b[1;33m=\u001b[0m \u001b[0mevaluate\u001b[0m\u001b[1;33m(\u001b[0m\u001b[0mdataset\u001b[0m\u001b[1;33m)\u001b[0m\u001b[1;33m\u001b[0m\u001b[0m\n\u001b[0m\u001b[0;32m     15\u001b[0m \u001b[1;32mprint\u001b[0m \u001b[1;34m'Elapsed Tine %0.2f'\u001b[0m \u001b[1;33m%\u001b[0m \u001b[1;33m(\u001b[0m\u001b[0mtime\u001b[0m\u001b[1;33m.\u001b[0m\u001b[0mtime\u001b[0m\u001b[1;33m(\u001b[0m\u001b[1;33m)\u001b[0m \u001b[1;33m-\u001b[0m \u001b[0mt\u001b[0m\u001b[1;33m)\u001b[0m\u001b[1;33m\u001b[0m\u001b[0m\n",
      "\u001b[1;32m<ipython-input-6-878cbcfb6a6e>\u001b[0m in \u001b[0;36mevaluate\u001b[1;34m(dataset)\u001b[0m\n\u001b[0;32m     20\u001b[0m         \u001b[0msaver\u001b[0m \u001b[1;33m=\u001b[0m \u001b[0mtf\u001b[0m\u001b[1;33m.\u001b[0m\u001b[0mtrain\u001b[0m\u001b[1;33m.\u001b[0m\u001b[0mSaver\u001b[0m\u001b[1;33m(\u001b[0m\u001b[0mvariables_to_restore\u001b[0m\u001b[1;33m)\u001b[0m\u001b[1;33m\u001b[0m\u001b[0m\n\u001b[0;32m     21\u001b[0m \u001b[1;33m\u001b[0m\u001b[0m\n\u001b[1;32m---> 22\u001b[1;33m         \u001b[0mprobabilities\u001b[0m\u001b[1;33m,\u001b[0m \u001b[0mlabels\u001b[0m \u001b[1;33m=\u001b[0m \u001b[0m_eval_once\u001b[0m\u001b[1;33m(\u001b[0m\u001b[0msaver\u001b[0m\u001b[1;33m,\u001b[0m \u001b[0msoftmax\u001b[0m\u001b[1;33m,\u001b[0m \u001b[0mlabels\u001b[0m\u001b[1;33m,\u001b[0m \u001b[0mnum_classes\u001b[0m\u001b[1;33m)\u001b[0m\u001b[1;33m\u001b[0m\u001b[0m\n\u001b[0m\u001b[0;32m     23\u001b[0m     \u001b[1;32mreturn\u001b[0m \u001b[0mprobabilities\u001b[0m\u001b[1;33m,\u001b[0m \u001b[0mlabels\u001b[0m\u001b[1;33m\u001b[0m\u001b[0m\n\u001b[0;32m     24\u001b[0m \u001b[1;33m\u001b[0m\u001b[0m\n",
      "\u001b[1;32m<ipython-input-5-906de7f7e089>\u001b[0m in \u001b[0;36m_eval_once\u001b[1;34m(saver, softmax_op, labels_op, num_classes)\u001b[0m\n\u001b[0;32m     57\u001b[0m             \u001b[0mall_labels\u001b[0m \u001b[1;33m=\u001b[0m \u001b[1;33m[\u001b[0m\u001b[1;33m]\u001b[0m\u001b[1;33m\u001b[0m\u001b[0m\n\u001b[0;32m     58\u001b[0m             \u001b[1;32mwhile\u001b[0m \u001b[0mstep\u001b[0m \u001b[1;33m<\u001b[0m \u001b[0mnum_iter\u001b[0m \u001b[1;32mand\u001b[0m \u001b[1;32mnot\u001b[0m \u001b[0mcoord\u001b[0m\u001b[1;33m.\u001b[0m\u001b[0mshould_stop\u001b[0m\u001b[1;33m(\u001b[0m\u001b[1;33m)\u001b[0m\u001b[1;33m:\u001b[0m\u001b[1;33m\u001b[0m\u001b[0m\n\u001b[1;32m---> 59\u001b[1;33m                 \u001b[0msoftmax\u001b[0m\u001b[1;33m,\u001b[0m \u001b[0mlabels\u001b[0m \u001b[1;33m=\u001b[0m \u001b[0msess\u001b[0m\u001b[1;33m.\u001b[0m\u001b[0mrun\u001b[0m\u001b[1;33m(\u001b[0m\u001b[1;33m[\u001b[0m\u001b[0msoftmax_op\u001b[0m\u001b[1;33m,\u001b[0m \u001b[0mlabels_op\u001b[0m\u001b[1;33m]\u001b[0m\u001b[1;33m)\u001b[0m\u001b[1;33m\u001b[0m\u001b[0m\n\u001b[0m\u001b[0;32m     60\u001b[0m                 \u001b[0mall_labels\u001b[0m\u001b[1;33m.\u001b[0m\u001b[0mappend\u001b[0m\u001b[1;33m(\u001b[0m\u001b[0mlabels\u001b[0m\u001b[1;33m)\u001b[0m\u001b[1;33m\u001b[0m\u001b[0m\n\u001b[0;32m     61\u001b[0m                 \u001b[1;32mif\u001b[0m \u001b[0mFLAGS\u001b[0m\u001b[1;33m.\u001b[0m\u001b[0mmapping_file\u001b[0m\u001b[1;33m:\u001b[0m\u001b[1;33m\u001b[0m\u001b[0m\n",
      "\u001b[1;32m/home/esteva/anaconda/lib/python2.7/site-packages/tensorflow/python/client/session.pyc\u001b[0m in \u001b[0;36mrun\u001b[1;34m(self, fetches, feed_dict, options, run_metadata)\u001b[0m\n\u001b[0;32m    380\u001b[0m     \u001b[1;32mtry\u001b[0m\u001b[1;33m:\u001b[0m\u001b[1;33m\u001b[0m\u001b[0m\n\u001b[0;32m    381\u001b[0m       result = self._run(None, fetches, feed_dict, options_ptr,\n\u001b[1;32m--> 382\u001b[1;33m                          run_metadata_ptr)\n\u001b[0m\u001b[0;32m    383\u001b[0m       \u001b[1;32mif\u001b[0m \u001b[0mrun_metadata\u001b[0m\u001b[1;33m:\u001b[0m\u001b[1;33m\u001b[0m\u001b[0m\n\u001b[0;32m    384\u001b[0m         \u001b[0mproto_data\u001b[0m \u001b[1;33m=\u001b[0m \u001b[0mtf_session\u001b[0m\u001b[1;33m.\u001b[0m\u001b[0mTF_GetBuffer\u001b[0m\u001b[1;33m(\u001b[0m\u001b[0mrun_metadata_ptr\u001b[0m\u001b[1;33m)\u001b[0m\u001b[1;33m\u001b[0m\u001b[0m\n",
      "\u001b[1;32m/home/esteva/anaconda/lib/python2.7/site-packages/tensorflow/python/client/session.pyc\u001b[0m in \u001b[0;36m_run\u001b[1;34m(self, handle, fetches, feed_dict, options, run_metadata)\u001b[0m\n\u001b[0;32m    653\u001b[0m     \u001b[0mmovers\u001b[0m \u001b[1;33m=\u001b[0m \u001b[0mself\u001b[0m\u001b[1;33m.\u001b[0m\u001b[0m_update_with_movers\u001b[0m\u001b[1;33m(\u001b[0m\u001b[0mfeed_dict_string\u001b[0m\u001b[1;33m,\u001b[0m \u001b[0mfeed_map\u001b[0m\u001b[1;33m)\u001b[0m\u001b[1;33m\u001b[0m\u001b[0m\n\u001b[0;32m    654\u001b[0m     results = self._do_run(handle, target_list, unique_fetches,\n\u001b[1;32m--> 655\u001b[1;33m                            feed_dict_string, options, run_metadata)\n\u001b[0m\u001b[0;32m    656\u001b[0m \u001b[1;33m\u001b[0m\u001b[0m\n\u001b[0;32m    657\u001b[0m     \u001b[1;31m# User may have fetched the same tensor multiple times, but we\u001b[0m\u001b[1;33m\u001b[0m\u001b[1;33m\u001b[0m\u001b[0m\n",
      "\u001b[1;32m/home/esteva/anaconda/lib/python2.7/site-packages/tensorflow/python/client/session.pyc\u001b[0m in \u001b[0;36m_do_run\u001b[1;34m(self, handle, target_list, fetch_list, feed_dict, options, run_metadata)\u001b[0m\n\u001b[0;32m    721\u001b[0m     \u001b[1;32mif\u001b[0m \u001b[0mhandle\u001b[0m \u001b[1;32mis\u001b[0m \u001b[0mNone\u001b[0m\u001b[1;33m:\u001b[0m\u001b[1;33m\u001b[0m\u001b[0m\n\u001b[0;32m    722\u001b[0m       return self._do_call(_run_fn, self._session, feed_dict, fetch_list,\n\u001b[1;32m--> 723\u001b[1;33m                            target_list, options, run_metadata)\n\u001b[0m\u001b[0;32m    724\u001b[0m     \u001b[1;32melse\u001b[0m\u001b[1;33m:\u001b[0m\u001b[1;33m\u001b[0m\u001b[0m\n\u001b[0;32m    725\u001b[0m       return self._do_call(_prun_fn, self._session, handle, feed_dict,\n",
      "\u001b[1;32m/home/esteva/anaconda/lib/python2.7/site-packages/tensorflow/python/client/session.pyc\u001b[0m in \u001b[0;36m_do_call\u001b[1;34m(self, fn, *args)\u001b[0m\n\u001b[0;32m    728\u001b[0m   \u001b[1;32mdef\u001b[0m \u001b[0m_do_call\u001b[0m\u001b[1;33m(\u001b[0m\u001b[0mself\u001b[0m\u001b[1;33m,\u001b[0m \u001b[0mfn\u001b[0m\u001b[1;33m,\u001b[0m \u001b[1;33m*\u001b[0m\u001b[0margs\u001b[0m\u001b[1;33m)\u001b[0m\u001b[1;33m:\u001b[0m\u001b[1;33m\u001b[0m\u001b[0m\n\u001b[0;32m    729\u001b[0m     \u001b[1;32mtry\u001b[0m\u001b[1;33m:\u001b[0m\u001b[1;33m\u001b[0m\u001b[0m\n\u001b[1;32m--> 730\u001b[1;33m       \u001b[1;32mreturn\u001b[0m \u001b[0mfn\u001b[0m\u001b[1;33m(\u001b[0m\u001b[1;33m*\u001b[0m\u001b[0margs\u001b[0m\u001b[1;33m)\u001b[0m\u001b[1;33m\u001b[0m\u001b[0m\n\u001b[0m\u001b[0;32m    731\u001b[0m     \u001b[1;32mexcept\u001b[0m \u001b[0merrors\u001b[0m\u001b[1;33m.\u001b[0m\u001b[0mOpError\u001b[0m \u001b[1;32mas\u001b[0m \u001b[0me\u001b[0m\u001b[1;33m:\u001b[0m\u001b[1;33m\u001b[0m\u001b[0m\n\u001b[0;32m    732\u001b[0m       \u001b[0mmessage\u001b[0m \u001b[1;33m=\u001b[0m \u001b[0mcompat\u001b[0m\u001b[1;33m.\u001b[0m\u001b[0mas_text\u001b[0m\u001b[1;33m(\u001b[0m\u001b[0me\u001b[0m\u001b[1;33m.\u001b[0m\u001b[0mmessage\u001b[0m\u001b[1;33m)\u001b[0m\u001b[1;33m\u001b[0m\u001b[0m\n",
      "\u001b[1;32m/home/esteva/anaconda/lib/python2.7/site-packages/tensorflow/python/client/session.pyc\u001b[0m in \u001b[0;36m_run_fn\u001b[1;34m(session, feed_dict, fetch_list, target_list, options, run_metadata)\u001b[0m\n\u001b[0;32m    710\u001b[0m         return tf_session.TF_Run(session, options,\n\u001b[0;32m    711\u001b[0m                                  \u001b[0mfeed_dict\u001b[0m\u001b[1;33m,\u001b[0m \u001b[0mfetch_list\u001b[0m\u001b[1;33m,\u001b[0m \u001b[0mtarget_list\u001b[0m\u001b[1;33m,\u001b[0m\u001b[1;33m\u001b[0m\u001b[0m\n\u001b[1;32m--> 712\u001b[1;33m                                  status, run_metadata)\n\u001b[0m\u001b[0;32m    713\u001b[0m \u001b[1;33m\u001b[0m\u001b[0m\n\u001b[0;32m    714\u001b[0m     \u001b[1;32mdef\u001b[0m \u001b[0m_prun_fn\u001b[0m\u001b[1;33m(\u001b[0m\u001b[0msession\u001b[0m\u001b[1;33m,\u001b[0m \u001b[0mhandle\u001b[0m\u001b[1;33m,\u001b[0m \u001b[0mfeed_dict\u001b[0m\u001b[1;33m,\u001b[0m \u001b[0mfetch_list\u001b[0m\u001b[1;33m)\u001b[0m\u001b[1;33m:\u001b[0m\u001b[1;33m\u001b[0m\u001b[0m\n",
      "\u001b[1;31mKeyboardInterrupt\u001b[0m: "
     ]
    }
   ],
   "source": [
    "num_classes = len([line for line in open(FLAGS.labels_file).readlines() if line.strip()])\n",
    "dataset = SkinData(subset=FLAGS.subset, num_classes=num_classes)\n",
    "assert dataset.data_files()\n",
    "\n",
    "print('Using mapping file %s' % FLAGS.mapping_file)\n",
    "mapping = [line.strip().split()[1] for line in open(FLAGS.mapping_file).readlines()]\n",
    "synset = [line.strip() for line in open(FLAGS.labels_file).readlines()]\n",
    "\n",
    "assert len(mapping) == len(synset), \\\n",
    "      'Length of mapping & synset do not match: %s, %s' % (FLAGS.mapping_file, FLAGS.labels_file)\n",
    "for i, (m,s) in enumerate(zip(mapping, synset)):\n",
    "    assert m == s, 'Mapping issue entry %d, %s is not %s' % (i, m, s)\n",
    "\n",
    "t = time.time()\n",
    "probabilities, labels = evaluate(dataset)\n",
    "print 'Elapsed Tine %0.2f' % (time.time() - t)\n"
   ]
  },
  {
   "cell_type": "code",
   "execution_count": null,
   "metadata": {
    "collapsed": false
   },
   "outputs": [],
   "source": [
    "p = probabilities.copy()\n",
    "p = p[:, 1:]\n",
    "p /= np.sum(p, axis=1).reshape((-1,1))\n",
    "p = p[:,1]\n",
    "l = labels - 1\n",
    "\n",
    "\n",
    "plot_results(l, p, [], 'Melanocytic Test', show_legend=True)"
   ]
  },
  {
   "cell_type": "markdown",
   "metadata": {},
   "source": [
    "### Dermoscopy Test"
   ]
  },
  {
   "cell_type": "code",
   "execution_count": 70,
   "metadata": {
    "collapsed": true
   },
   "outputs": [],
   "source": [
    "FLAGS.eval_dir = '/tmp/eval'\n",
    "FLAGS.checkpoint_dir = '/media/esteva/ExtraDrive1/ThrunResearch/tf_experiments/nine-way/train/'\n",
    "FLAGS.labels_file = '/media/esteva/ExtraDrive1/ThrunResearch/data/skindata4/splits/nine-way/labels.txt'\n",
    "FLAGS.num_examples = 1010\n",
    "FLAGS.data_dir = '/media/esteva/ExtraDrive1/ThrunResearch/data/skindata4/tf_shards/tests/dermoscopy_test/'\n",
    "FLAGS.mapping_file = '/media/esteva/ExtraDrive1/ThrunResearch/data/skindata4/splits/nine-way/labels.txt.mappingMelanocytic'"
   ]
  },
  {
   "cell_type": "code",
   "execution_count": 48,
   "metadata": {
    "collapsed": true
   },
   "outputs": [],
   "source": [
    "FLAGS.eval_dir = '/tmp/eval'\n",
    "FLAGS.checkpoint_dir = '/media/esteva/ExtraDrive1/ThrunResearch/tf_experiments/recursive_dividing_N=1000/train/'\n",
    "FLAGS.labels_file = '/media/esteva/ExtraDrive1/ThrunResearch/data/skindata4/splits/recursive_dividing_N=1000/labels.txt'\n",
    "FLAGS.num_examples = 1010\n",
    "FLAGS.data_dir = '/media/esteva/ExtraDrive1/ThrunResearch/data/skindata4/tf_shards/tests/dermoscopy_test/'\n",
    "FLAGS.mapping_file = '/media/esteva/ExtraDrive1/ThrunResearch/data/skindata4/splits/recursive_dividing_N=1000/labels.txt.mappingDermoscopy'\n",
    "# FLAGS.mapping_file = '/media/esteva/ExtraDrive1/ThrunResearch/data/skindata4/splits/recursive_dividing_N=1000/labels.txt.mappingBinary'"
   ]
  },
  {
   "cell_type": "code",
   "execution_count": 71,
   "metadata": {
    "collapsed": false
   },
   "outputs": [
    {
     "name": "stdout",
     "output_type": "stream",
     "text": [
      "Using mapping file /media/esteva/ExtraDrive1/ThrunResearch/data/skindata4/splits/nine-way/labels.txt.mappingMelanocytic\n",
      "Succesfully loaded model from model.ckpt-165000 at step=165000.\n",
      "2016-07-18 17:41:26.896605: starting evaluation on (validation).\n",
      "2016-07-18 17:43:36.346789: [20 batches out of 31] (4.9 examples/sec; 6.473sec/batch)\n",
      "Elapsed Tine 211.20\n"
     ]
    }
   ],
   "source": [
    "num_classes = len([line for line in open(FLAGS.labels_file).readlines() if line.strip()])\n",
    "dataset = SkinData(subset=FLAGS.subset, num_classes=num_classes)\n",
    "assert dataset.data_files()\n",
    "\n",
    "print('Using mapping file %s' % FLAGS.mapping_file)\n",
    "mapping = [line.strip().split()[1] for line in open(FLAGS.mapping_file).readlines()]\n",
    "synset = [line.strip() for line in open(FLAGS.labels_file).readlines()]\n",
    "\n",
    "assert len(mapping) == len(synset), \\\n",
    "      'Length of mapping & synset do not match: %s, %s' % (FLAGS.mapping_file, FLAGS.labels_file)\n",
    "for i, (m,s) in enumerate(zip(mapping, synset)):\n",
    "    assert m == s, 'Mapping issue entry %d, %s is not %s' % (i, m, s)\n",
    "\n",
    "t = time.time()\n",
    "probabilities, labels = evaluate(dataset)\n",
    "print 'Elapsed Tine %0.2f' % (time.time() - t)\n"
   ]
  },
  {
   "cell_type": "code",
   "execution_count": 72,
   "metadata": {
    "collapsed": false
   },
   "outputs": [
    {
     "name": "stdout",
     "output_type": "stream",
     "text": [
      "Best sens 0.883720930233\n",
      "Best spec 0.934878587196\n",
      "Best thresh 0.231618366709\n",
      "The AUC is 0.943811283947\n"
     ]
    },
    {
     "data": {
      "image/png": "[encoded data removed]",
      "text/plain": [
       "<matplotlib.figure.Figure at 0x7fd4d1f6ed90>"
      ]
     },
     "metadata": {},
     "output_type": "display_data"
    }
   ],
   "source": [
    "p = probabilities.copy()\n",
    "p = p[:, 1:]\n",
    "p /= np.sum(p, axis=1).reshape((-1,1))\n",
    "p = p[:,1]\n",
    "l = labels - 1\n",
    "\n",
    "\n",
    "plot_results(l, p, [], 'Dermoscopy Test', show_legend=True)"
   ]
  },
  {
   "cell_type": "code",
   "execution_count": null,
   "metadata": {
    "collapsed": true
   },
   "outputs": [],
   "source": []
  }
 ],
 "metadata": {
  "kernelspec": {
   "display_name": "Python 2",
   "language": "python",
   "name": "python2"
  },
  "language_info": {
   "codemirror_mode": {
    "name": "ipython",
    "version": 2
   },
   "file_extension": ".py",
   "mimetype": "text/x-python",
   "name": "python",
   "nbconvert_exporter": "python",
   "pygments_lexer": "ipython2",
   "version": "2.7.11"
  }
 },
 "nbformat": 4,
 "nbformat_minor": 0
}
