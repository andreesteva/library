{
 "cells": [
  {
   "cell_type": "markdown",
   "metadata": {
    "collapsed": true
   },
   "source": [
    "# Nets vs Derms using TF Shards of test sets\n"
   ]
  },
  {
   "cell_type": "code",
   "execution_count": 1,
   "metadata": {
    "collapsed": true
   },
   "outputs": [],
   "source": [
    "from datetime import datetime\n",
    "import math\n",
    "import os.path\n",
    "import time\n",
    "from sklearn.metrics import average_precision_score, roc_curve, auc\n",
    "\n",
    "import numpy as np\n",
    "import tensorflow as tf\n",
    "\n",
    "from inception import image_processing\n",
    "from inception import inception_model as inception\n",
    "from inception.skin_data import SkinData\n",
    "\n",
    "import lib \n",
    "from lib.learning import vis_utils as vu\n",
    "from lib.learning import clumping_utils as cu\n"
   ]
  },
  {
   "cell_type": "code",
   "execution_count": 2,
   "metadata": {
    "collapsed": false
   },
   "outputs": [
    {
     "ename": "TypeError",
     "evalue": "DEFINE_integer() takes exactly 3 arguments (2 given)",
     "output_type": "error",
     "traceback": [
      "\u001b[1;31m---------------------------------------------------------------------------\u001b[0m",
      "\u001b[1;31mTypeError\u001b[0m                                 Traceback (most recent call last)",
      "\u001b[1;32m<ipython-input-2-786b01b63b30>\u001b[0m in \u001b[0;36m<module>\u001b[1;34m()\u001b[0m\n\u001b[0;32m     28\u001b[0m                            \"\"\"\n\u001b[0;32m     29\u001b[0m                            )\n\u001b[1;32m---> 30\u001b[1;33m \u001b[0mtf\u001b[0m\u001b[1;33m.\u001b[0m\u001b[0mapp\u001b[0m\u001b[1;33m.\u001b[0m\u001b[0mflags\u001b[0m\u001b[1;33m.\u001b[0m\u001b[0mDEFINE_integer\u001b[0m\u001b[1;33m(\u001b[0m\u001b[1;34m'batch_size'\u001b[0m\u001b[1;33m,\u001b[0m \u001b[1;36m1\u001b[0m\u001b[1;33m)\u001b[0m\u001b[1;33m\u001b[0m\u001b[0m\n\u001b[0m",
      "\u001b[1;31mTypeError\u001b[0m: DEFINE_integer() takes exactly 3 arguments (2 given)"
     ]
    }
   ],
   "source": [
    "FLAGS = tf.app.flags.FLAGS\n",
    "\n",
    "tf.app.flags.DEFINE_string('eval_dir', '/archive/esteva/experiments/skindata4/baseline/eval',\n",
    "                           \"\"\"Directory where to write event logs.\"\"\")\n",
    "tf.app.flags.DEFINE_string('checkpoint_dir', '/archive/esteva/experiments/skindata4/baseline/train',\n",
    "                           \"\"\"Directory where to read model checkpoints.\"\"\")\n",
    "tf.app.flags.DEFINE_string('labels_file', '/archive/esteva/skindata4/splits/nine-way/labels.txt',\n",
    "                           \"\"\"The file with the classnames listed in it.\"\"\")\n",
    "\n",
    "\n",
    "# Flags governing the data used for the eval.\n",
    "tf.app.flags.DEFINE_integer('num_examples', 14712,\n",
    "                            \"\"\"Number of examples to run. Note that the connected componenets\"\"\"\n",
    "                            \"\"\"validation dataset contains 14709 examples.\"\"\")\n",
    "tf.app.flags.DEFINE_string('subset', 'validation',\n",
    "                           \"\"\"Either 'validation' or 'train'.\"\"\")\n",
    "\n",
    "tf.app.flags.DEFINE_string('mapping_file',\n",
    "                           '',\n",
    "                           \"\"\"Defines a mapping from train to validation indicating how classes will be merged.\"\"\"\n",
    "                           \"\"\"If this is specified, we sum probabilities to the validation class level.\"\"\"\n",
    "                           \"\"\"Entries in this file must be of the form:\n",
    "                                [validation-class-0] [training-class-0]\n",
    "                                [validation-class-0] [training-class-1]\n",
    "                                [validation-class-0] [training-class-2]\n",
    "                                [validation-class-1] [training-class-3]\n",
    "                                ...\n",
    "                           \"\"\"\n",
    "                           )\n",
    "tf.app.flags.DEFINE_integer('batch_size', 1)\n"
   ]
  },
  {
   "cell_type": "code",
   "execution_count": 3,
   "metadata": {
    "collapsed": false
   },
   "outputs": [],
   "source": [
    "def _eval_once(saver, softmax_op, labels_op, num_classes):\n",
    "    \"\"\"Runs Eval once.\n",
    "\n",
    "    Args:\n",
    "    saver: Saver.        \n",
    "    softmax_op: The softmax op\n",
    "    labels_op: The labels op    \n",
    "    num_classes: the number of classes in the dataset (including background class)\n",
    "    \"\"\"\n",
    "    with tf.Session() as sess:\n",
    "        ckpt = tf.train.get_checkpoint_state(FLAGS.checkpoint_dir)\n",
    "        if ckpt and ckpt.model_checkpoint_path:\n",
    "            if os.path.isabs(ckpt.model_checkpoint_path):\n",
    "                # Restores from checkpoint with absolute path.\n",
    "                saver.restore(sess, ckpt.model_checkpoint_path)\n",
    "            else:\n",
    "                # Restores from checkpoint with relative path.\n",
    "                saver.restore(sess, os.path.join(FLAGS.checkpoint_dir,\n",
    "                                                 ckpt.model_checkpoint_path))\n",
    "\n",
    "            # Assuming model_checkpoint_path looks something like:\n",
    "            #   /my-favorite-path/imagenet_train/model.ckpt-0,\n",
    "            # extract global_step from it.\n",
    "            global_step = ckpt.model_checkpoint_path.split('/')[-1].split('-')[-1]\n",
    "            print('Succesfully loaded model from %s at step=%s.' %\n",
    "                (ckpt.model_checkpoint_path, global_step))\n",
    "        else:\n",
    "            print('No checkpoint file found')\n",
    "            return\n",
    "\n",
    "        # Start the queue runners.\n",
    "        coord = tf.train.Coordinator()\n",
    "        try:\n",
    "            threads = []\n",
    "            for qr in tf.get_collection(tf.GraphKeys.QUEUE_RUNNERS):\n",
    "                threads.extend(qr.create_threads(sess, coord=coord, daemon=True,\n",
    "                                             start=True))\n",
    "\n",
    "            num_iter = int(math.ceil(FLAGS.num_examples / FLAGS.batch_size))\n",
    "            # Counts the number of correct predictions.        \n",
    "            total_sample_count = num_iter * FLAGS.batch_size\n",
    "            step = 0\n",
    "            correct_per_class = np.zeros(num_classes)\n",
    "            count_per_class = np.zeros(num_classes)\n",
    "\n",
    "            mapping = ['REMOVE REMOVE']\n",
    "            _mapping = [line.strip() for line in open(FLAGS.mapping_file).readlines()]\n",
    "            mapping.extend(_mapping)\n",
    "            val_classes = np.unique([m.split()[0] for m in mapping])\n",
    "            num_val_classes = len(val_classes)\n",
    "            correct_per_class = np.zeros(num_val_classes)\n",
    "            count_per_class = np.zeros(num_val_classes)\n",
    "\n",
    "            print('%s: starting evaluation on (%s).' % (datetime.now(), FLAGS.subset))\n",
    "            start_time = time.time()\n",
    "            total_softmax = []\n",
    "            all_labels = []\n",
    "            while step < num_iter and not coord.should_stop():\n",
    "                softmax, labels = sess.run([softmax_op, labels_op])\n",
    "                all_labels.append(labels)\n",
    "                if FLAGS.mapping_file:\n",
    "                    softmax = cu.mergeProbabilities(softmax, mapping)\n",
    "                total_softmax.append(softmax)\n",
    "\n",
    "                step += 1\n",
    "                if step % 20 == 0:\n",
    "                    duration = time.time() - start_time\n",
    "                    sec_per_batch = duration / 20.0\n",
    "                    examples_per_sec = FLAGS.batch_size / sec_per_batch\n",
    "                    print('%s: [%d batches out of %d] (%.1f examples/sec; %.3f'\n",
    "                        'sec/batch)' % (datetime.now(), step, num_iter,\n",
    "                                        examples_per_sec, sec_per_batch))\n",
    "                    start_time = time.time()\n",
    "\n",
    "        except Exception as e:  # pylint: disable=broad-except\n",
    "            coord.request_stop(e)\n",
    "\n",
    "        coord.request_stop()\n",
    "        coord.join(threads, stop_grace_period_secs=10)\n",
    "    \n",
    "    return np.vstack(total_softmax), np.hstack(all_labels)\n"
   ]
  },
  {
   "cell_type": "code",
   "execution_count": 4,
   "metadata": {
    "collapsed": false
   },
   "outputs": [],
   "source": [
    "def evaluate(dataset):\n",
    "    \"\"\"Evaluate model on Dataset for a number of steps.\"\"\"\n",
    "    with tf.Graph().as_default():\n",
    "        # Get images and labels from the dataset.\n",
    "        images, labels = image_processing.inputs(dataset)\n",
    "\n",
    "        # Number of classes in the Dataset label set plus 1.\n",
    "        # Label 0 is reserved for an (unused) background class.\n",
    "        num_classes = dataset.num_classes() + 1\n",
    "\n",
    "        # Build a Graph that computes the logits predictions from the\n",
    "        # inference model.\n",
    "        logits, _ = inception.inference(images, num_classes)\n",
    "        softmax = tf.nn.softmax(logits)   \n",
    "\n",
    "        # Restore the moving average version of the learned variables for eval.\n",
    "        variable_averages = tf.train.ExponentialMovingAverage(\n",
    "            inception.MOVING_AVERAGE_DECAY)\n",
    "        variables_to_restore = variable_averages.variables_to_restore()\n",
    "        saver = tf.train.Saver(variables_to_restore)\n",
    "\n",
    "        probabilities, labels = _eval_once(saver, softmax, labels, num_classes)\n",
    "    return probabilities, labels\n",
    "    \n",
    "    \n",
    "def plot_results(labels, probs, people, title, show_legend=False, return_fig_handle=False, textcolor='#4D5B66'):\n",
    "    \"\"\"Plots the SS and prints best results for the data, given the extracted probs.\"\"\"\n",
    "\n",
    "    fpr, tpr, thresholds = roc_curve(labels, probs)\n",
    "    tnr = 1 - fpr\n",
    "    ss = np.concatenate((tpr.reshape((-1,1)), tnr.reshape((-1,1)), thresholds.reshape((-1,1))), axis=1)\n",
    "    best = np.argmax(np.mean(ss[:, :2], axis=1))\n",
    "    best_sens = ss[best, 0]\n",
    "    best_spec = ss[best, 1]\n",
    "    best_thresh = ss[best, 2]\n",
    "    auc_ss = auc(fpr, tpr)\n",
    "\n",
    "    print 'Best sens', best_sens\n",
    "    print 'Best spec', best_spec\n",
    "    print 'Best thresh', best_thresh\n",
    "    fig, ax = vu.plotSSCurve(tpr, tnr, people=people, title=title, show_legend=show_legend, textcolor=textcolor)\n",
    "    if return_fig_handle:\n",
    "        return fig, ax"
   ]
  },
  {
   "cell_type": "markdown",
   "metadata": {},
   "source": [
    "### Epidermal Test"
   ]
  },
  {
   "cell_type": "code",
   "execution_count": 5,
   "metadata": {
    "collapsed": true
   },
   "outputs": [],
   "source": [
    "FLAGS.eval_dir = '/tmp/eval'\n",
    "FLAGS.checkpoint_dir = '/media/esteva/ExtraDrive1/ThrunResearch/tf_experiments/nine-way/train/'\n",
    "FLAGS.labels_file = '/media/esteva/ExtraDrive1/ThrunResearch/data/skindata4/splits/nine-way/labels.txt'\n",
    "FLAGS.num_examples = 707\n",
    "FLAGS.data_dir = '/media/esteva/ExtraDrive1/ThrunResearch/data/skindata4/tf_shards/tests/epidermal_test/'\n",
    "FLAGS.mapping_file = '/media/esteva/ExtraDrive1/ThrunResearch/data/skindata4/splits/nine-way/labels.txt.mappingEpidermal'"
   ]
  },
  {
   "cell_type": "code",
   "execution_count": 6,
   "metadata": {
    "collapsed": false
   },
   "outputs": [
    {
     "name": "stdout",
     "output_type": "stream",
     "text": [
      "Using mapping file /media/esteva/ExtraDrive1/ThrunResearch/data/skindata4/splits/nine-way/labels.txt.mappingEpidermal\n",
      "Succesfully loaded model from model.ckpt-85000 at step=85000.\n",
      "2016-07-12 09:35:11.105902: starting evaluation on (validation).\n",
      "2016-07-12 09:35:21.044187: [20 batches out of 22] (64.4 examples/sec; 0.497sec/batch)\n",
      "17.7351830006\n"
     ]
    }
   ],
   "source": [
    "num_classes = len([line for line in open(FLAGS.labels_file).readlines() if line.strip()])\n",
    "dataset = SkinData(subset=FLAGS.subset, num_classes=num_classes)\n",
    "assert dataset.data_files()\n",
    "\n",
    "print('Using mapping file %s' % FLAGS.mapping_file)\n",
    "mapping = [line.strip().split()[1] for line in open(FLAGS.mapping_file).readlines()]\n",
    "synset = [line.strip() for line in open(FLAGS.labels_file).readlines()]\n",
    "\n",
    "assert len(mapping) == len(synset), \\\n",
    "      'Length of mapping & synset do not match: %s, %s' % (FLAGS.mapping_file, FLAGS.labels_file)\n",
    "for i, (m,s) in enumerate(zip(mapping, synset)):\n",
    "    assert m == s, 'Mapping issue entry %d, %s is not %s' % (i, m, s)\n",
    "\n",
    "t = time.time()\n",
    "probabilities, labels = evaluate(dataset)\n",
    "print time.time() - t\n"
   ]
  },
  {
   "cell_type": "code",
   "execution_count": 8,
   "metadata": {
    "collapsed": false
   },
   "outputs": [
    {
     "name": "stdout",
     "output_type": "stream",
     "text": [
      "Best sens 0.957589285714\n",
      "Best spec 0.89453125\n",
      "Best thresh 0.522232885537\n",
      "The AUC is 0.967599051339\n"
     ]
    },
    {
     "data": {
      "image/png": "[encoded data removed]",
      "text/plain": [
       "<matplotlib.figure.Figure at 0x7f8de7fe6850>"
      ]
     },
     "metadata": {},
     "output_type": "display_data"
    }
   ],
   "source": [
    "p = probabilities.copy()\n",
    "p = p[:, 1:]\n",
    "p /= np.sum(p, axis=1).reshape((-1,1))\n",
    "p = p[:,1]\n",
    "l = labels - 1\n",
    "\n",
    "\n",
    "plot_results(l, p, [], 'Epidermal Test')"
   ]
  },
  {
   "cell_type": "markdown",
   "metadata": {},
   "source": [
    "### Pigmented Test"
   ]
  },
  {
   "cell_type": "code",
   "execution_count": 9,
   "metadata": {
    "collapsed": true
   },
   "outputs": [],
   "source": [
    "FLAGS.eval_dir = '/tmp/eval'\n",
    "FLAGS.checkpoint_dir = '/media/esteva/ExtraDrive1/ThrunResearch/tf_experiments/nine-way/train/'\n",
    "FLAGS.labels_file = '/media/esteva/ExtraDrive1/ThrunResearch/data/skindata4/splits/nine-way/labels.txt'\n",
    "FLAGS.num_examples = 225\n",
    "FLAGS.data_dir = '/media/esteva/ExtraDrive1/ThrunResearch/data/skindata4/tf_shards/tests/melanocytic_test/'\n",
    "FLAGS.mapping_file = '/media/esteva/ExtraDrive1/ThrunResearch/data/skindata4/splits/nine-way/labels.txt.mappingMelanocytic'"
   ]
  },
  {
   "cell_type": "code",
   "execution_count": 10,
   "metadata": {
    "collapsed": false
   },
   "outputs": [
    {
     "name": "stdout",
     "output_type": "stream",
     "text": [
      "Using mapping file /media/esteva/ExtraDrive1/ThrunResearch/data/skindata4/splits/nine-way/labels.txt.mappingMelanocytic\n",
      "Succesfully loaded model from model.ckpt-85000 at step=85000.\n",
      "2016-07-12 09:35:29.062130: starting evaluation on (validation).\n",
      "11.2678711414\n"
     ]
    }
   ],
   "source": [
    "num_classes = len([line for line in open(FLAGS.labels_file).readlines() if line.strip()])\n",
    "dataset = SkinData(subset=FLAGS.subset, num_classes=num_classes)\n",
    "assert dataset.data_files()\n",
    "\n",
    "print('Using mapping file %s' % FLAGS.mapping_file)\n",
    "mapping = [line.strip().split()[1] for line in open(FLAGS.mapping_file).readlines()]\n",
    "synset = [line.strip() for line in open(FLAGS.labels_file).readlines()]\n",
    "\n",
    "assert len(mapping) == len(synset), \\\n",
    "      'Length of mapping & synset do not match: %s, %s' % (FLAGS.mapping_file, FLAGS.labels_file)\n",
    "for i, (m,s) in enumerate(zip(mapping, synset)):\n",
    "    assert m == s, 'Mapping issue entry %d, %s is not %s' % (i, m, s)\n",
    "\n",
    "t = time.time()\n",
    "probabilities, labels = evaluate(dataset)\n",
    "print time.time() - t\n"
   ]
  },
  {
   "cell_type": "code",
   "execution_count": 11,
   "metadata": {
    "collapsed": false
   },
   "outputs": [
    {
     "name": "stdout",
     "output_type": "stream",
     "text": [
      "Best sens 0.859649122807\n",
      "Best spec 0.934131736527\n",
      "Best thresh 0.450549433385\n",
      "The AUC is 0.906397730854\n"
     ]
    },
    {
     "data": {
      "image/png": "[encoded data removed]",
      "text/plain": [
       "<matplotlib.figure.Figure at 0x7f8de80e5910>"
      ]
     },
     "metadata": {},
     "output_type": "display_data"
    }
   ],
   "source": [
    "p = probabilities.copy()\n",
    "p = p[:, 1:]\n",
    "p /= np.sum(p, axis=1).reshape((-1,1))\n",
    "p = p[:,1]\n",
    "l = labels - 1\n",
    "\n",
    "\n",
    "plot_results(l, p, [], 'Melanocytic Test')"
   ]
  },
  {
   "cell_type": "markdown",
   "metadata": {},
   "source": [
    "### Dermoscopy Test"
   ]
  },
  {
   "cell_type": "code",
   "execution_count": 12,
   "metadata": {
    "collapsed": true
   },
   "outputs": [],
   "source": [
    "FLAGS.eval_dir = '/tmp/eval'\n",
    "FLAGS.checkpoint_dir = '/media/esteva/ExtraDrive1/ThrunResearch/tf_experiments/nine-way/train/'\n",
    "FLAGS.labels_file = '/media/esteva/ExtraDrive1/ThrunResearch/data/skindata4/splits/nine-way/labels.txt'\n",
    "FLAGS.num_examples = 1010\n",
    "FLAGS.data_dir = '/media/esteva/ExtraDrive1/ThrunResearch/data/skindata4/tf_shards/tests/dermoscopy_test/'\n",
    "FLAGS.mapping_file = '/media/esteva/ExtraDrive1/ThrunResearch/data/skindata4/splits/nine-way/labels.txt.mappingMelanocytic'"
   ]
  },
  {
   "cell_type": "code",
   "execution_count": 13,
   "metadata": {
    "collapsed": false
   },
   "outputs": [
    {
     "name": "stdout",
     "output_type": "stream",
     "text": [
      "Using mapping file /media/esteva/ExtraDrive1/ThrunResearch/data/skindata4/splits/nine-way/labels.txt.mappingMelanocytic\n",
      "Succesfully loaded model from model.ckpt-85000 at step=85000.\n",
      "2016-07-12 09:35:40.577383: starting evaluation on (validation).\n",
      "2016-07-12 09:35:50.088809: [20 batches out of 31] (67.3 examples/sec; 0.476sec/batch)\n",
      "20.3873720169\n"
     ]
    }
   ],
   "source": [
    "num_classes = len([line for line in open(FLAGS.labels_file).readlines() if line.strip()])\n",
    "dataset = SkinData(subset=FLAGS.subset, num_classes=num_classes)\n",
    "assert dataset.data_files()\n",
    "\n",
    "print('Using mapping file %s' % FLAGS.mapping_file)\n",
    "mapping = [line.strip().split()[1] for line in open(FLAGS.mapping_file).readlines()]\n",
    "synset = [line.strip() for line in open(FLAGS.labels_file).readlines()]\n",
    "\n",
    "assert len(mapping) == len(synset), \\\n",
    "      'Length of mapping & synset do not match: %s, %s' % (FLAGS.mapping_file, FLAGS.labels_file)\n",
    "for i, (m,s) in enumerate(zip(mapping, synset)):\n",
    "    assert m == s, 'Mapping issue entry %d, %s is not %s' % (i, m, s)\n",
    "\n",
    "t = time.time()\n",
    "probabilities, labels = evaluate(dataset)\n",
    "print time.time() - t\n"
   ]
  },
  {
   "cell_type": "code",
   "execution_count": 15,
   "metadata": {
    "collapsed": false
   },
   "outputs": [
    {
     "name": "stdout",
     "output_type": "stream",
     "text": [
      "Best sens 0.952941176471\n",
      "Best spec 0.942668136714\n",
      "Best thresh 0.203151845928\n",
      "The AUC is 0.974382255659\n"
     ]
    },
    {
     "data": {
      "image/png": "[encoded data removed]",
      "text/plain": [
       "<matplotlib.figure.Figure at 0x7f8de91fced0>"
      ]
     },
     "metadata": {},
     "output_type": "display_data"
    }
   ],
   "source": [
    "p = probabilities.copy()\n",
    "p = p[:, 1:]\n",
    "p /= np.sum(p, axis=1).reshape((-1,1))\n",
    "p = p[:,1]\n",
    "l = labels - 1\n",
    "\n",
    "\n",
    "plot_results(l, p, [], 'Dermoscopy Test')"
   ]
  },
  {
   "cell_type": "code",
   "execution_count": null,
   "metadata": {
    "collapsed": true
   },
   "outputs": [],
   "source": []
  }
 ],
 "metadata": {
  "kernelspec": {
   "display_name": "Python 2",
   "language": "python",
   "name": "python2"
  },
  "language_info": {
   "codemirror_mode": {
    "name": "ipython",
    "version": 2
   },
   "file_extension": ".py",
   "mimetype": "text/x-python",
   "name": "python",
   "nbconvert_exporter": "python",
   "pygments_lexer": "ipython2",
   "version": "2.7.11"
  }
 },
 "nbformat": 4,
 "nbformat_minor": 0
}
