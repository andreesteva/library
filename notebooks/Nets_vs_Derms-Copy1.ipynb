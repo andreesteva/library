{
 "cells": [
  {
   "cell_type": "markdown",
   "metadata": {
    "collapsed": true
   },
   "source": [
    "# Nets vs Derms - Tensorflow Notebook\n",
    " - select a test/val set for inference - set of filenames\n",
    " - convert filenames into tensors\n",
    " - load up a checkpoint using a session\n",
    " - feedforward tensors, collecting probs\n",
    " - Analyze accuracies, ROC curves, etc. \n",
    " \n",
    "### TODO\n",
    " - probabilities are extracted, now keep the relevant ones and plot the SS curve\n",
    " - document the hell out of the mess of functions below\n",
    " - add them to some general io.py file somewhere"
   ]
  },
  {
   "cell_type": "code",
   "execution_count": 2,
   "metadata": {
    "collapsed": false
   },
   "outputs": [],
   "source": [
    "import sys\n",
    "# sys.path.append('/media/esteva/ExtraDrive1/ThrunResearch/tensorflow_master/models/inception')\n",
    "import inception\n",
    "from inception import image_processing\n",
    "from inception import inception_model"
   ]
  },
  {
   "cell_type": "code",
   "execution_count": 14,
   "metadata": {
    "collapsed": false
   },
   "outputs": [
    {
     "name": "stdout",
     "output_type": "stream",
     "text": [
      "The autoreload extension is already loaded. To reload it, use:\n",
      "  %reload_ext autoreload\n"
     ]
    }
   ],
   "source": [
    "import tensorflow as tf\n",
    "import matplotlib.pyplot as plt\n",
    "import numpy as np\n",
    "import os\n",
    "from sklearn.metrics import average_precision_score, roc_curve, auc\n",
    "\n",
    "import libtf\n",
    "from libtf.learning import vis_utils as vu\n",
    "from libtf.learning import clumping_utils as cu\n",
    "\n",
    "%matplotlib inline\n",
    "%load_ext autoreload\n",
    "%reload_ext autoreload"
   ]
  },
  {
   "cell_type": "code",
   "execution_count": 71,
   "metadata": {
    "collapsed": false
   },
   "outputs": [],
   "source": [
    "def readfile(filename):\n",
    "    return [line.strip() for line in open(filename).readlines()]\n",
    "\n",
    "\n",
    "def binary_01(l):\n",
    "    \"\"\"Converts 3,4 and 7,8 into 0,1\"\"\"\n",
    "    if l == 7: return 0\n",
    "    if l == 8: return 1\n",
    "    if l == 3: return 0\n",
    "    if l == 4: return 1\n",
    "    if l == 0: return 0\n",
    "    if l == 1: return 1\n",
    "\n",
    "\n",
    "def label(entry):\n",
    "    \"\"\"Returns the label as a 0 or 1.\"\"\"\n",
    "    if isinstance(entry, list):\n",
    "        return [label(ll) for ll in entry]\n",
    "    l = int(entry.split()[1])\n",
    "    return binary_01(l)\n",
    "\n",
    "\n",
    "def path(entry):\n",
    "    if isinstance(entry, list):\n",
    "        return [path(e) for e in entry]\n",
    "    return entry.split()[0]\n",
    "\n",
    "def image_preprocess(path):\n",
    "    \"\"\"Convert path tensor into inception-network-ready 4D tensor\"\"\"\n",
    "    image_string = tf.read_file(path)\n",
    "    # TODO: dynamically decide on png or jpeg, or convert all to one or the other\n",
    "#     im = tf.image.decode_png(image_string, channels=3)\n",
    "    im = tf.image.decode_jpeg(image_string, channels=3)\n",
    "    im = tf.image.convert_image_dtype(im, dtype=tf.float32)\n",
    "\n",
    "    im = tf.image.central_crop(im, central_fraction=0.875)\n",
    "    im = tf.expand_dims(im, 0)\n",
    "    im = tf.image.resize_bilinear(im, [299, 299], align_corners=False)\n",
    "    im = tf.sub(im, 0.5)\n",
    "    im = tf.mul(im, 2.0)\n",
    "       \n",
    "    im = tf.cast(im, tf.float32)\n",
    "    im = tf.reshape(im, shape=[1, 299, 299, 3])\n",
    "    \n",
    "    return im\n",
    "\n",
    "\n",
    "def data_reader(data_filename):\n",
    "    record_defaults = [['/a/path'], [0]]\n",
    "    filename_queue = tf.train.string_input_producer([data_filename])\n",
    "    reader = tf.TextLineReader()\n",
    "    key, value = reader.read(filename_queue)\n",
    "    path, label = tf.decode_csv(value, record_defaults, field_delim=\" \")\n",
    "    return path, label\n",
    "\n",
    "\n",
    "def restore_model(checkpoint_dir, sess): \n",
    "    variable_averages = tf.train.ExponentialMovingAverage(\n",
    "        inception_model.MOVING_AVERAGE_DECAY)\n",
    "    variables_to_restore = variable_averages.variables_to_restore()\n",
    "    saver = tf.train.Saver(variables_to_restore)\n",
    "    \n",
    "    ckpt = tf.train.get_checkpoint_state(checkpoint_dir)\n",
    "    if ckpt and ckpt.model_checkpoint_path:\n",
    "        if os.path.isabs(ckpt.model_checkpoint_path):\n",
    "            # Restores from checkpoint with absolute path.\n",
    "            saver.restore(sess, ckpt.model_checkpoint_path)\n",
    "        else:\n",
    "            # Restores from checkpoint with relative path.\n",
    "            saver.restore(sess, os.path.join(checkpoint_dir,\n",
    "                                             ckpt.model_checkpoint_path))\n",
    "\n",
    "        # Assuming model_checkpoint_path looks something like:\n",
    "        #   /my-favorite-path/imagenet_train/model.ckpt-0,\n",
    "        # extract global_step from it.\n",
    "        global_step = ckpt.model_checkpoint_path.split('/')[-1].split('-')[-1]\n",
    "        print('Succesfully loaded model from %s at step=%s.' %\n",
    "            (ckpt.model_checkpoint_path, global_step))\n",
    "    else:\n",
    "        print('No checkpoint file found')\n",
    "        \n",
    "def extract_softmax_probabilities(data_filename, checkpoint_dir, num_classes):\n",
    "    probabilities = []\n",
    "    num_entries = len(readfile(data_filename))\n",
    "    with tf.Graph().as_default(), tf.Session() as sess:\n",
    "        # Relevant Ops\n",
    "        path, label = data_reader(data_filename)\n",
    "        image = image_preprocess(path)\n",
    "        logits, _ = inception_model.inference(image, num_classes)\n",
    "        softmax = tf.nn.softmax(logits)\n",
    "\n",
    "        # Load checkpoint\n",
    "        restore_model(checkpoint_dir, sess)    \n",
    "\n",
    "        # Start populating the filename queue.\n",
    "        coord = tf.train.Coordinator()\n",
    "        threads = tf.train.start_queue_runners(coord=coord)\n",
    "\n",
    "        for i in range(num_entries):            \n",
    "            # Retrieve a single instance:\n",
    "            p, l = sess.run([path, label])\n",
    "            print '\\rExtracting %d / %d, %s' % (i+1, num_entries, p),\n",
    "#             i, p, l = sess.run([image, path, label])  \n",
    "            sm = sess.run([softmax])[0]\n",
    "            probabilities.append(sm)\n",
    "\n",
    "        coord.request_stop()\n",
    "        coord.join(threads)\n",
    "    probabilities = np.vstack(probabilities)\n",
    "#     probabilities = probablities[:, 1:] # eliminate unused background class\n",
    "    return probabilities\n",
    "\n",
    "def keep_pigmented_probabilities(probs):\n",
    "    p = probs[:, 7:]\n",
    "    p /= np.sum(p, axis=1).reshape((-1,1))\n",
    "    return p\n",
    "\n",
    "\n",
    "def keep_epidermal_probabilities(probs):\n",
    "    p = probs[:, 3:5]\n",
    "    p /= np.sum(p, axis=1).reshape((-1,1))\n",
    "    return p\n",
    "\n",
    "\n",
    "def keep_malignantbenign_probabilities(probs):\n",
    "    \"\"\"Returns a two column array of benign and malignant probabilities. Sums probabilities from the 4 classes.\"\"\"\n",
    "    p0 = np.hstack((probs[:, 3].reshape((-1,1)), probs[:, 7].reshape((-1,1))))\n",
    "    p0 = np.sum(p0, axis=1)\n",
    "    p1 = np.hstack((probs[:, 4].reshape((-1,1)), probs[:, 8].reshape((-1,1))))\n",
    "    p1 = np.sum(p1, axis=1)\n",
    "    p = np.hstack((p0.reshape((-1,1)), p1.reshape((-1,1))))\n",
    "    p /= np.sum(p, axis=1).reshape((-1,1))\n",
    "    return p\n",
    "\n",
    "\n",
    "def plot_results(data, probs, people, title, show_legend=False, return_fig_handle=False, textcolor='#4D5B66'):\n",
    "    \"\"\"Plots the SS and prints best results for the data, given the extracted probs.\"\"\"\n",
    "\n",
    "    fpr, tpr, thresholds = roc_curve(label(data), probs)\n",
    "    tnr = 1 - fpr\n",
    "    ss = np.concatenate((tpr.reshape((-1,1)), tnr.reshape((-1,1)), thresholds.reshape((-1,1))), axis=1)\n",
    "    best = np.argmax(np.mean(ss[:, :2], axis=1))\n",
    "    best_sens = ss[best, 0]\n",
    "    best_spec = ss[best, 1]\n",
    "    best_thresh = ss[best, 2]\n",
    "    auc_ss = auc(fpr, tpr)\n",
    "\n",
    "    print 'Best sens', best_sens\n",
    "    print 'Best spec', best_spec\n",
    "    print 'Best thresh', best_thresh\n",
    "    fig, ax = vu.plotSSCurve(tpr, tnr, people=people, title=title, show_legend=show_legend, textcolor=textcolor)\n",
    "    if return_fig_handle:\n",
    "        return fig, ax\n",
    "    \n",
    "    \n",
    "def probs_malignant(probs):\n",
    "    \"\"\"Return the malignant column (always column 1)\"\"\"\n",
    "    assert probs.shape[1] == 2\n",
    "    return probs[:, 1]\n"
   ]
  },
  {
   "cell_type": "markdown",
   "metadata": {},
   "source": [
    "# Nine-way net"
   ]
  },
  {
   "cell_type": "code",
   "execution_count": 69,
   "metadata": {
    "collapsed": false
   },
   "outputs": [
    {
     "name": "stdout",
     "output_type": "stream",
     "text": [
      "Succesfully loaded model from model.ckpt-85000 at step=85000.\n",
      "Extracting 135 / 135, /media/esteva/ExtraDrive1/ThrunResearch/data/edinburgh/test_sets/epidermal/4/SCC/P246/P246.png (135, 10)\n",
      "[4 4 4 4 4 4 4 4 9 4 4 4 4 4 4 5 4 4 4 5 5 8 5 8 4 4 4 4 4 5 4 4 4 4 4 5 5\n",
      " 5 4 5 5 5 5 5 5 5 7 5 5 5 5 5 5 5 5 5 5 5 5 5 5 5 5 5 5 5 9 5 4 4 5 8 5 4\n",
      " 4 4 4 4 4 4 4 4 4 4 8 5 8 4 5 5 4 4 8 4 4 4 4 4 8 4 4 4 4 5 5 5 5 5 5 5 5\n",
      " 5 5 6 5 5 5 5 5 5 5 5 5 5 5 5 5 5 5 5 5 5 5 5 5]\n"
     ]
    }
   ],
   "source": [
    "data_filename = '/media/esteva/ExtraDrive1/ThrunResearch/web/image_classifier/curated_edinburgh/epidermal_test.txt'\n",
    "data = readfile(data_filename)\n",
    "\n",
    "checkpoint_dir = '/media/esteva/ExtraDrive1/ThrunResearch/tf_experiments/nine-way/train'\n",
    "num_classes = 9 + 1 # background class is 0\n",
    "\n",
    "probabilities = extract_softmax_probabilities(data_filename, checkpoint_dir, num_classes)\n",
    "# probabilities = keep_epidermal_probabilities(probabilities)\n",
    "print probabilities.shape\n",
    "print np.argmax(probabilities, axis=1)"
   ]
  },
  {
   "cell_type": "code",
   "execution_count": 70,
   "metadata": {
    "collapsed": false,
    "scrolled": false
   },
   "outputs": [
    {
     "name": "stdout",
     "output_type": "stream",
     "text": [
      "[0 0 0 0 0 0 0 0 0 0 0 0 0 0 0 1 0 0 0 1 1 0 1 0 0 0 0 0 0 1 0 0 0 0 0 1 1\n",
      " 1 0 1 1 1 1 1 1 1 0 1 1 1 1 1 1 1 1 1 1 1 1 1 1 1 1 1 1 1 1 1 0 0 1 0 1 0\n",
      " 0 0 0 0 0 0 0 0 0 0 0 1 0 0 1 1 0 0 0 0 0 0 0 0 0 0 0 0 0 1 1 1 1 1 1 1 1\n",
      " 1 1 1 1 1 1 1 1 1 1 1 1 1 1 1 1 1 1 1 1 1 1 1 1]\n",
      "[0 0 0 0 0 0 0 0 0 0 0 0 0 0 0 0 0 0 0 0 0 0 0 0 0 0 0 0 0 0 0 0 0 0 0 0 0\n",
      " 0 0 0 0 0 0 0 0 0 0 0 0 0 0 0 0 0 0 0 0 0 0 0 0 0 0 0 0 0 0 0 0 0 1 1 1 1\n",
      " 1 1 1 1 1 1 1 1 1 1 1 1 1 1 1 1 1 1 1 1 1 1 1 1 1 1 1 1 1 1 1 1 1 1 1 1 1\n",
      " 1 1 1 1 1 1 1 1 1 1 1 1 1 1 1 1 1 1 1 1 1 1 1 1]\n",
      "0.525925925926\n",
      "Best sens 0.523076923077\n",
      "Best spec 0.671428571429\n",
      "Best thresh 0.636168658733\n",
      "The AUC is 0.532087912088\n"
     ]
    },
    {
     "data": {
      "image/png": "[encoded data removed]",
      "text/plain": [
       "<matplotlib.figure.Figure at 0x7f46c15dc210>"
      ]
     },
     "metadata": {},
     "output_type": "display_data"
    }
   ],
   "source": [
    "p = probabilities.copy()\n",
    "p = p[:, 4:6]\n",
    "p /= np.sum(p, axis=1).reshape((-1,1))\n",
    "p = np.argmax(p, axis=1)\n",
    "print p\n",
    "\n",
    "l = np.array(label(data))\n",
    "print l\n",
    "\n",
    "print 1.0 * np.sum(p == l) / len(l)\n",
    "\n",
    "plot_results(data, probs_malignant(probabilities[:, 4:6]), [], 'Epidermal Test')"
   ]
  },
  {
   "cell_type": "code",
   "execution_count": 5,
   "metadata": {
    "collapsed": false
   },
   "outputs": [
    {
     "name": "stdout",
     "output_type": "stream",
     "text": [
      "Succesfully loaded model from model.ckpt-85000 at step=85000.\n",
      "Extracting 130 / 130 (130, 10)\n"
     ]
    }
   ],
   "source": [
    "data_filename = '/media/esteva/ExtraDrive1/ThrunResearch/web/image_classifier/curated_pigmented/dermtest_144_noepic.txt'\n",
    "data = readfile(data_filename)\n",
    "\n",
    "checkpoint_dir = '/media/esteva/ExtraDrive1/ThrunResearch/tf_experiments/nine-way/train'\n",
    "num_classes = 9 + 1 # background class is 0\n",
    "\n",
    "probabilities = extract_softmax_probabilities(data_filename, checkpoint_dir, num_classes)\n",
    "# probabilities = keep_epidermal_probabilities(probabilities)\n",
    "print probabilities.shape"
   ]
  },
  {
   "cell_type": "code",
   "execution_count": 9,
   "metadata": {
    "collapsed": false
   },
   "outputs": [
    {
     "name": "stdout",
     "output_type": "stream",
     "text": [
      "[0 0 0 0 0 0 0 0 0 0 0 0 0 0 0 0 0 0 0 0 0 0 0 0 0 0 0 0 0 0 0 0 0 0 0 0 0\n",
      " 0 0 0 0 0 0 0 0 0 0 0 1 1 1 1 1 0 1 0 1 1 1 0 1 0 1 1 1 0 0 0 0 0 0 0 0 0\n",
      " 0 0 0 0 0 0 0 0 0 0 0 0 0 0 0 0 0 0 0 0 0 0 0 0 0 0 0 0 0 0 0 0 0 0 0 0 0\n",
      " 0 0 1 1 1 1 1 0 1 0 1 1 1 0 1 0 1 1 1]\n",
      "[0 0 0 0 0 0 0 0 0 0 0 0 0 0 0 0 0 0 0 0 0 0 0 0 0 0 0 0 0 0 0 0 0 0 0 0 0\n",
      " 0 0 0 0 0 0 0 0 0 0 0 0 0 0 0 0 0 0 0 0 0 0 0 0 0 0 0 0 0 0 0 0 0 0 0 0 0\n",
      " 0 0 0 0 0 0 0 0 0 0 0 0 0 0 0 0 0 0 0 0 0 0 0 1 1 1 1 1 1 1 1 1 1 1 1 1 1\n",
      " 1 1 1 1 1 1 1 1 1 1 1 1 1 1 1 1 1 1 1]\n",
      "0.746153846154\n",
      "Best sens 0.515151515152\n",
      "Best spec 0.721649484536\n",
      "Best thresh 0.142459079623\n",
      "The AUC is 0.612464854733\n"
     ]
    },
    {
     "data": {
      "image/png": "[encoded data removed]",
      "text/plain": [
       "<matplotlib.figure.Figure at 0x7f47a8446bd0>"
      ]
     },
     "metadata": {},
     "output_type": "display_data"
    }
   ],
   "source": [
    "p = probabilities.copy()\n",
    "p = p[:, 8:10]\n",
    "p /= np.sum(p, axis=1).reshape((-1,1))\n",
    "p = np.argmax(p, axis=1)\n",
    "print p\n",
    "\n",
    "l = np.array(label(data))\n",
    "print l\n",
    "\n",
    "print 1.0 * np.sum(p == l) / len(l)\n",
    "\n",
    "plot_results(data, probs_malignant(probabilities[:, 8:10]), [], 'Pigmented Test')"
   ]
  },
  {
   "cell_type": "markdown",
   "metadata": {},
   "source": [
    "# RD-1000"
   ]
  },
  {
   "cell_type": "code",
   "execution_count": 17,
   "metadata": {
    "collapsed": false
   },
   "outputs": [
    {
     "name": "stdout",
     "output_type": "stream",
     "text": [
      "Succesfully loaded model from model.ckpt-110000 at step=110000.\n",
      "Extracting 135 / 135 (135, 760)\n",
      "[108 108 103 108 108 108 108 108 108 108 108 754 108 724 108 108 108 108\n",
      " 108 108 108  97 156 108 108 108 108 108 108 114 108 108 108 717 108 152\n",
      " 134 114   1 156 152 156 114 103 154 114 101 114 754 754  91 114 114 114\n",
      " 114 114 114 154 154 108 114 114 156 114 114 154 156 154 108 108 154 108\n",
      " 108 108 108 108 754 108 108 724 108 108 108 108 154 154 717 108 101 148\n",
      " 108 108 717 105 108 108 108 108 724 108 108 108 108 156 114 152  91 754\n",
      " 114 152 152 156 152 152 114 114 114 114 114 114 114 114 114 114 108 154\n",
      " 154 108 154 156 154 154 108 154 156]\n",
      "(135, 10)\n",
      "[4 4 4 4 4 4 7 4 4 4 4 9 4 8 4 4 4 4 4 4 4 4 5 4 4 8 4 4 4 5 8 4 4 8 4 5 5\n",
      " 5 1 5 5 5 5 4 5 5 7 5 9 5 3 5 5 5 5 5 5 5 5 4 5 5 5 5 5 5 5 5 4 4 5 4 4 4\n",
      " 4 4 9 4 4 8 4 4 4 4 5 5 8 4 4 5 4 4 8 4 4 4 4 4 8 4 4 4 4 5 5 5 5 9 5 5 5\n",
      " 5 5 5 5 5 5 5 5 5 5 5 5 5 4 5 5 5 5 5 5 5 4 5 5]\n"
     ]
    }
   ],
   "source": [
    "data_filename = '/media/esteva/ExtraDrive1/ThrunResearch/web/image_classifier/curated_edinburgh/epidermal_test.txt'\n",
    "data = readfile(data_filename)\n",
    "\n",
    "checkpoint_dir = '/media/esteva/ExtraDrive1/ThrunResearch/tf_experiments/recursive_dividing_N=1000/train'\n",
    "mapping_file = '/media/esteva/ExtraDrive1/ThrunResearch/data/skindata4/splits/recursive_dividing_N=1000/labels.txt.mapping'\n",
    "\n",
    "mapping = ['__unused_background_class__ __unused_background_class']\n",
    "_mapping = readfile(mapping_file)\n",
    "mapping.extend(_mapping)\n",
    "\n",
    "num_classes = 759 + 1 # background class is 0\n",
    "\n",
    "probabilities = extract_softmax_probabilities(data_filename, checkpoint_dir, num_classes)\n",
    "# probabilities = keep_epidermal_probabilities(probabilities)\n",
    "print probabilities.shape\n",
    "print np.argmax(probabilities, axis=1)\n",
    "\n",
    "probs = probabilities.copy()\n",
    "probs = cu.mergeProbabilities(probs, mapping)\n",
    "\n",
    "print probs.shape\n",
    "print np.argmax(probs, axis=1)"
   ]
  },
  {
   "cell_type": "code",
   "execution_count": 18,
   "metadata": {
    "collapsed": false
   },
   "outputs": [
    {
     "name": "stdout",
     "output_type": "stream",
     "text": [
      "[0 0 0 0 0 0 0 0 0 0 0 0 0 0 0 0 0 0 0 0 0 0 1 0 0 0 0 0 0 1 0 0 0 0 0 1 1\n",
      " 1 1 1 1 1 1 0 1 1 0 1 1 1 1 1 1 1 1 1 1 1 1 0 1 1 1 1 1 1 1 1 0 0 1 0 0 0\n",
      " 0 0 0 0 0 0 0 0 0 0 1 1 1 0 0 1 0 0 0 0 0 0 0 0 0 0 0 0 0 1 1 1 1 1 1 1 1\n",
      " 1 1 1 1 1 1 1 1 1 1 1 1 1 0 1 1 1 1 1 1 1 0 1 1]\n",
      "[0 0 0 0 0 0 0 0 0 0 0 0 0 0 0 0 0 0 0 0 0 0 0 0 0 0 0 0 0 0 0 0 0 0 0 0 0\n",
      " 0 0 0 0 0 0 0 0 0 0 0 0 0 0 0 0 0 0 0 0 0 0 0 0 0 0 0 0 0 0 0 0 0 1 1 1 1\n",
      " 1 1 1 1 1 1 1 1 1 1 1 1 1 1 1 1 1 1 1 1 1 1 1 1 1 1 1 1 1 1 1 1 1 1 1 1 1\n",
      " 1 1 1 1 1 1 1 1 1 1 1 1 1 1 1 1 1 1 1 1 1 1 1 1]\n",
      "0.540740740741\n",
      "Best sens 0.123076923077\n",
      "Best spec 0.942857142857\n",
      "Best thresh 0.000870255287737\n",
      "The AUC is 0.391208791209\n"
     ]
    },
    {
     "data": {
      "image/png": "[encoded data removed]",
      "text/plain": [
       "<matplotlib.figure.Figure at 0x7f470b404910>"
      ]
     },
     "metadata": {},
     "output_type": "display_data"
    }
   ],
   "source": [
    "p = probs.copy()\n",
    "p = p[:, 4:6]\n",
    "p /= np.sum(p, axis=1).reshape((-1,1))\n",
    "p = np.argmax(p, axis=1)\n",
    "print p\n",
    "\n",
    "l = np.array(label(data))\n",
    "print l\n",
    "\n",
    "print 1.0 * np.sum(p == l) / len(l)\n",
    "\n",
    "plot_results(data, probs_malignant(probabilities[:, 4:6]), [], 'Epidermal Test')"
   ]
  },
  {
   "cell_type": "code",
   "execution_count": 19,
   "metadata": {
    "collapsed": false
   },
   "outputs": [
    {
     "name": "stdout",
     "output_type": "stream",
     "text": [
      "Succesfully loaded model from model.ckpt-110000 at step=110000.\n",
      "Extracting 130 / 130 (130, 760)\n",
      "[724 724 724 717 724 724 754 724 724 724 724 724 724 724 724 712 114 724\n",
      " 717 108 724 714  47 724 720 724 717 724 724 724 717 724 724 724 724 720\n",
      " 724 717 724 712 720 714 724 720 754 724 724 724 754 754 712 754 754 724\n",
      " 754 754 108 754 754 754 754 754 754 754 754 724 724 724 717 724 724 754\n",
      " 724 724 724 724 724 724 724 724 712 114 724 717 108 724 714  47 724 720\n",
      " 724 717 724 724 724 717 724 724 724 724 720 724 717 724 712 720 714 724\n",
      " 720 754 724 724 724 754 754 712 754 754 724 754 754 108 754 754 754 754\n",
      " 754 754 754 754]\n",
      "(130, 10)\n",
      "[8 8 8 8 8 8 8 8 8 8 8 8 8 8 8 8 8 8 8 4 8 8 2 8 8 8 8 8 8 8 8 8 8 8 8 8 8\n",
      " 8 8 8 8 8 8 8 2 8 8 8 9 9 8 9 9 8 9 9 4 9 2 9 9 9 9 9 9 8 8 8 8 8 8 8 8 8\n",
      " 8 8 8 8 8 8 8 8 8 8 4 8 8 2 8 8 8 8 8 8 8 8 8 8 8 8 8 8 8 8 8 8 8 8 8 2 8\n",
      " 8 8 9 9 8 9 9 8 9 9 4 9 2 9 9 9 9 9 9]\n"
     ]
    }
   ],
   "source": [
    "data_filename = '/media/esteva/ExtraDrive1/ThrunResearch/web/image_classifier/curated_pigmented/dermtest_144_noepic.txt'\n",
    "data = readfile(data_filename)\n",
    "\n",
    "checkpoint_dir = '/media/esteva/ExtraDrive1/ThrunResearch/tf_experiments/recursive_dividing_N=1000/train'\n",
    "mapping_file = '/media/esteva/ExtraDrive1/ThrunResearch/data/skindata4/splits/recursive_dividing_N=1000/labels.txt.mapping'\n",
    "\n",
    "mapping = ['__unused_background_class__ __unused_background_class']\n",
    "_mapping = readfile(mapping_file)\n",
    "mapping.extend(_mapping)\n",
    "\n",
    "num_classes = 759 + 1 # background class is 0\n",
    "\n",
    "probabilities = extract_softmax_probabilities(data_filename, checkpoint_dir, num_classes)\n",
    "# probabilities = keep_epidermal_probabilities(probabilities)\n",
    "print probabilities.shape\n",
    "print np.argmax(probabilities, axis=1)\n",
    "\n",
    "probs = probabilities.copy()\n",
    "probs = cu.mergeProbabilities(probs, mapping)\n",
    "\n",
    "print probs.shape\n",
    "print np.argmax(probs, axis=1)"
   ]
  },
  {
   "cell_type": "code",
   "execution_count": 20,
   "metadata": {
    "collapsed": false
   },
   "outputs": [
    {
     "name": "stdout",
     "output_type": "stream",
     "text": [
      "[0 0 0 0 0 0 0 0 0 0 0 0 0 0 0 0 0 0 0 0 0 0 0 0 0 0 0 0 0 0 0 0 0 0 0 0 0\n",
      " 0 0 0 0 0 0 0 1 0 0 0 1 1 0 1 1 0 1 1 1 1 1 1 1 1 1 1 1 0 0 0 0 0 0 0 0 0\n",
      " 0 0 0 0 0 0 0 0 0 0 0 0 0 0 0 0 0 0 0 0 0 0 0 0 0 0 0 0 0 0 0 0 0 0 0 1 0\n",
      " 0 0 1 1 0 1 1 0 1 1 1 1 1 1 1 1 1 1 1]\n",
      "[0 0 0 0 0 0 0 0 0 0 0 0 0 0 0 0 0 0 0 0 0 0 0 0 0 0 0 0 0 0 0 0 0 0 0 0 0\n",
      " 0 0 0 0 0 0 0 0 0 0 0 0 0 0 0 0 0 0 0 0 0 0 0 0 0 0 0 0 0 0 0 0 0 0 0 0 0\n",
      " 0 0 0 0 0 0 0 0 0 0 0 0 0 0 0 0 0 0 0 0 0 0 0 1 1 1 1 1 1 1 1 1 1 1 1 1 1\n",
      " 1 1 1 1 1 1 1 1 1 1 1 1 1 1 1 1 1 1 1]\n",
      "0.746153846154\n",
      "Best sens 0.818181818182\n",
      "Best spec 0.288659793814\n",
      "Best thresh 8.23932132334e-05\n",
      "The AUC is 0.52936582318\n"
     ]
    },
    {
     "data": {
      "image/png": "[encoded data removed]",
      "text/plain": [
       "<matplotlib.figure.Figure at 0x7f47183ecc10>"
      ]
     },
     "metadata": {},
     "output_type": "display_data"
    }
   ],
   "source": [
    "p = probs.copy()\n",
    "p = p[:, 8:10]\n",
    "p /= np.sum(p, axis=1).reshape((-1,1))\n",
    "p = np.argmax(p, axis=1)\n",
    "print p\n",
    "\n",
    "l = np.array(label(data))\n",
    "print l\n",
    "\n",
    "print 1.0 * np.sum(p == l) / len(l)\n",
    "\n",
    "plot_results(data, probs_malignant(probabilities[:, 8:10]), [], 'Epidermal Test')"
   ]
  },
  {
   "cell_type": "code",
   "execution_count": 22,
   "metadata": {
    "collapsed": false
   },
   "outputs": [
    {
     "name": "stdout",
     "output_type": "stream",
     "text": [
      " Succesfully loaded model from model.ckpt-110000 at step=110000.\n",
      "Extracting 83 / 83 (83, 760)\n",
      "[717 717 748 717 748 748 717 748 748 717 717 717 748 748 748 748 717 748\n",
      " 748 748 748 717 748 717 748 748 748 717 748 748 717 717 717 748 717 748\n",
      " 717 717 717 717 748 748 717 717 717 717 717 717 717 717 717 717 717 748\n",
      " 748 748 748 717 748 748 748 748 748 748 748 717 748 748 748 748 748 717\n",
      " 717 717 748 748 748 717 748 748 748 717 748]\n",
      "(83, 10)\n",
      "[8 8 9 8 9 9 8 9 9 8 8 8 9 9 9 9 8 9 9 9 9 8 9 8 9 9 9 8 9 9 8 8 8 9 8 9 8\n",
      " 8 8 8 9 9 8 8 8 8 8 8 8 8 8 8 8 9 9 9 9 8 9 9 9 9 9 9 9 8 9 9 9 9 9 8 8 8\n",
      " 9 9 9 8 9 9 9 8 9]\n"
     ]
    }
   ],
   "source": [
    "data_filename = '/media/esteva/ExtraDrive1/ThrunResearch/web/image_classifier/curated_dermoscopy/tmp2.txt'\n",
    "data = readfile(data_filename)\n",
    "\n",
    "checkpoint_dir = '/media/esteva/ExtraDrive1/ThrunResearch/tf_experiments/recursive_dividing_N=1000/train'\n",
    "mapping_file = '/media/esteva/ExtraDrive1/ThrunResearch/data/skindata4/splits/recursive_dividing_N=1000/labels.txt.mapping'\n",
    "\n",
    "mapping = ['__unused_background_class__ __unused_background_class']\n",
    "_mapping = readfile(mapping_file)\n",
    "mapping.extend(_mapping)\n",
    "\n",
    "num_classes = 759 + 1 # background class is 0\n",
    "\n",
    "probabilities = extract_softmax_probabilities(data_filename, checkpoint_dir, num_classes)\n",
    "# probabilities = keep_epidermal_probabilities(probabilities)\n",
    "print probabilities.shape\n",
    "print np.argmax(probabilities, axis=1)\n",
    "\n",
    "probs = probabilities.copy()\n",
    "probs = cu.mergeProbabilities(probs, mapping)\n",
    "\n",
    "print probs.shape\n",
    "print np.argmax(probs, axis=1)"
   ]
  },
  {
   "cell_type": "code",
   "execution_count": 23,
   "metadata": {
    "collapsed": false
   },
   "outputs": [
    {
     "name": "stdout",
     "output_type": "stream",
     "text": [
      "[0 0 1 0 1 1 0 1 1 0 0 0 1 1 1 1 0 1 1 1 1 0 1 0 1 1 1 0 1 1 0 0 0 1 0 1 0\n",
      " 0 0 0 1 1 0 0 0 0 0 0 0 0 0 0 0 1 1 1 1 0 1 1 1 1 1 1 1 0 1 1 1 1 1 0 0 0\n",
      " 1 1 1 0 1 1 1 0 1]\n",
      "[1 0 0 0 0 1 0 0 0 1 0 1 0 0 0 1 0 1 0 1 0 0 0 0 1 1 1 1 1 1 1 1 1 0 1 1 1\n",
      " 1 1 1 1 1 1 0 1 1 1 0 0 1 1 1 1 1 1 0 1 0 1 1 0 0 1 1 0 0 1 1 1 0 1 1 0 0\n",
      " 0 0 1 0 1 0 0 1 1]\n",
      "0.493975903614\n",
      "Best sens 1.0\n",
      "Best spec 0.0857142857143\n",
      "Best thresh 2.82363635051e-05\n",
      "The AUC is 0.484523809524\n"
     ]
    },
    {
     "data": {
      "image/png": "[encoded data removed]",
      "text/plain": [
       "<matplotlib.figure.Figure at 0x7f472819cc90>"
      ]
     },
     "metadata": {},
     "output_type": "display_data"
    }
   ],
   "source": [
    "p = probs.copy()\n",
    "p = p[:, 8:10]\n",
    "p /= np.sum(p, axis=1).reshape((-1,1))\n",
    "p = np.argmax(p, axis=1)\n",
    "print p\n",
    "\n",
    "l = np.array(label(data))\n",
    "print l\n",
    "\n",
    "print 1.0 * np.sum(p == l) / len(l)\n",
    "\n",
    "plot_results(data, probs_malignant(probabilities[:, 8:10]), [], 'Epidermal Test')"
   ]
  },
  {
   "cell_type": "markdown",
   "metadata": {},
   "source": [
    " # Entire Validation Set"
   ]
  },
  {
   "cell_type": "code",
   "execution_count": 72,
   "metadata": {
    "collapsed": false
   },
   "outputs": [
    {
     "name": "stdout",
     "output_type": "stream",
     "text": [
      "Succesfully loaded model from model.ckpt-110000 at step=110000.\n",
      "Extracting 14709 / 14709, /media/esteva/ExtraDrive1/ThrunResearch/SKIN-9/experiments/skindata3/connected_components/treelearning/recursive_dividing/N=1000/curated_testset/8/httpwwwdermatlasnetimages400ABCD3jpg.jpg (14709, 760)\n"
     ]
    }
   ],
   "source": [
    "data_filename = '/media/esteva/ExtraDrive1/ThrunResearch/data/skindata4/test_sets/validation_set.txt'\n",
    "data = readfile(data_filename)\n",
    "\n",
    "checkpoint_dir = '/media/esteva/ExtraDrive1/ThrunResearch/tf_experiments/recursive_dividing_N=1000/train'\n",
    "mapping_file = '/media/esteva/ExtraDrive1/ThrunResearch/data/skindata4/splits/recursive_dividing_N=1000/labels.txt.mapping'\n",
    "\n",
    "mapping = ['__unused_background_class__ __unused_background_class']\n",
    "_mapping = readfile(mapping_file)\n",
    "mapping.extend(_mapping)\n",
    "\n",
    "num_classes = 759 + 1 # background class is 0\n",
    "\n",
    "probabilities = extract_softmax_probabilities(data_filename, checkpoint_dir, num_classes)\n",
    "print probabilities.shape\n",
    "\n"
   ]
  },
  {
   "cell_type": "code",
   "execution_count": 73,
   "metadata": {
    "collapsed": false
   },
   "outputs": [
    {
     "name": "stdout",
     "output_type": "stream",
     "text": [
      "Correct: [   0    0   44    0   13  297    3 7045   71   50]\n",
      "Counts: [    0   117   858    76   635  1446   366 10666   375   170]\n",
      "Accuracies: [ 0.          0.05128205  0.          0.02047244  0.20539419  0.00819672\n",
      "  0.66051003  0.18933333  0.29411765]\n",
      "Averaage Accuracy: 0.16\n"
     ]
    }
   ],
   "source": [
    "probs = probabilities.copy()\n",
    "probs = cu.mergeProbabilities(probs, mapping)\n",
    "\n",
    "preds = np.argmax(probs, axis=1)\n",
    "truths = np.array([int(d.split()[1]) for d in data]) + 1\n",
    "\n",
    "correct_per_class = np.zeros(10, dtype=int)\n",
    "count_per_class = np.zeros(10, dtype=int)\n",
    "\n",
    "for p,t in zip(preds, truths):\n",
    "    count_per_class[t] += 1\n",
    "    if p == t:\n",
    "        correct_per_class[t] += 1\n",
    "print 'Correct:', correct_per_class\n",
    "print 'Counts:', count_per_class\n",
    "\n",
    "acc_per_class = 1.0 * correct_per_class / count_per_class\n",
    "acc_per_class = acc_per_class[1:]\n",
    "print 'Accuracies:', acc_per_class\n",
    "print 'Averaage Accuracy: %0.2f' % np.mean(acc_per_class)"
   ]
  },
  {
   "cell_type": "code",
   "execution_count": null,
   "metadata": {
    "collapsed": true
   },
   "outputs": [],
   "source": []
  }
 ],
 "metadata": {
  "kernelspec": {
   "display_name": "Python 2",
   "language": "python",
   "name": "python2"
  },
  "language_info": {
   "codemirror_mode": {
    "name": "ipython",
    "version": 2
   },
   "file_extension": ".py",
   "mimetype": "text/x-python",
   "name": "python",
   "nbconvert_exporter": "python",
   "pygments_lexer": "ipython2",
   "version": "2.7.11"
  }
 },
 "nbformat": 4,
 "nbformat_minor": 0
}
